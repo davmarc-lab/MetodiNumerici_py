{
 "cells": [
  {
   "cell_type": "markdown",
   "id": "014a982f",
   "metadata": {},
   "source": [
    "# Routine Template\n",
    "Copy this file every time you start studying or you can execute the script *start-routine.sh*"
   ]
  }
 ],
 "metadata": {
  "language_info": {
   "name": "python"
  }
 },
 "nbformat": 4,
 "nbformat_minor": 5
}
