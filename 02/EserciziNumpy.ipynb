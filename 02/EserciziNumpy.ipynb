{
 "cells": [
  {
   "cell_type": "markdown",
   "id": "cb8d7ec5-c308-4c91-8bbf-adad4c51b57f",
   "metadata": {},
   "source": [
    "# Esercizio 1"
   ]
  },
  {
   "cell_type": "code",
   "execution_count": 45,
   "id": "66d2573b",
   "metadata": {},
   "outputs": [],
   "source": [
    "import numpy as np"
   ]
  },
  {
   "cell_type": "markdown",
   "id": "b7c7f021-757d-4cd3-bba5-57ca8bfd4077",
   "metadata": {},
   "source": [
    "Definire i  numpy array a=[1.2, 5.4, 6, 1.59] e b=[5.2, 1.2, 1.5, 2] ed eseguire le seguenti operazioni:\n",
    "  - calcolare la radice quadrata degli elementi di a;\n",
    "   - calcolare 𝑒xp(𝑎/2) ;\n",
    "   - calcolare il vettore somma tra a e b ;\n",
    "   - moltiplicare ogni elemento di a per il corrispondente elemento di b;\n",
    "   - creare un vettore di valori uniformemente equispaziati tra 0 e 30 con passo  0.5;\n",
    "   - creare un vettore di 100 valori uniformemente equispaziati tra 1 e 2.\n",
    "   - usare linspace() per creare un numpy array 2x6 con prima riga di 6 valori uniformi compresi tra 10 e 20 e seconda riga 6 valori     \n",
    "      uniformi compresi tra  20 e 10;\n",
    "   - calcolare il prodotto scalare tra a e b;\n",
    "   - creare la matrice A che ha come righe i vettori a e b ;\n",
    "   - calcolare il prodotto scalare tra i due vettori a e b;\n",
    "   - eseguire il prodotto della matrice A per il vettore b e assegnarlo ad y;\n",
    "   - costruire una matrice diagonale D a partire dal vettore a;"
   ]
  },
  {
   "cell_type": "code",
   "execution_count": 139,
   "id": "998e91cd",
   "metadata": {},
   "outputs": [
    {
     "name": "stdout",
     "output_type": "stream",
     "text": [
      "[1.09544512 2.32379001 2.44948974 1.26095202]\n",
      "[ 1.8221188  14.87973172 20.08553692  2.214441  ]\n",
      "[6.4  6.6  7.5  3.59]\n",
      "[6.24 6.48 9.   3.18]\n",
      "[[10. 12. 14. 16. 18. 20.]\n",
      " [20. 18. 16. 14. 12. 10.]]\n",
      "Prodotto scalare =  24.9\n",
      "[[1.2  5.4  6.   1.59]\n",
      " [5.2  1.2  1.5  2.  ]]\n",
      "[[ 6.24  6.48  9.    3.18]\n",
      " [27.04  1.44  2.25  4.  ]]\n",
      "[[1.2  0.   0.   0.  ]\n",
      " [0.   5.4  0.   0.  ]\n",
      " [0.   0.   6.   0.  ]\n",
      " [0.   0.   0.   1.59]]\n"
     ]
    }
   ],
   "source": [
    "a = np.array([1.2, 5.4, 6, 1.59])\n",
    "b = np.array([5.2, 1.2, 1.5, 2])\n",
    "\n",
    "print(np.sqrt(a))\n",
    "print(np.exp(a / 2))\n",
    "print(a + b)\n",
    "print(a * b)\n",
    "\n",
    "'''\n",
    "ue = np.arange(0, 30, 0.5)\n",
    "print(ue)\n",
    "\n",
    "vue = np.linspace(1, 2, 100)\n",
    "print(vue)\n",
    "'''\n",
    "vu = np.array([np.linspace(10, 20, 6), np.linspace(20, 10, 6)])\n",
    "print(vu)\n",
    "print(\"Prodotto scalare = \", np.dot(a, b))\n",
    "\n",
    "cat = np.vstack((a, b))\n",
    "print(cat)\n",
    "\n",
    "y = cat * b\n",
    "print(y)\n",
    "\n",
    "diag = np.diag(a)\n",
    "print(diag)"
   ]
  },
  {
   "cell_type": "markdown",
   "id": "70b6acab-85c5-4783-84e0-999ca8e68bf3",
   "metadata": {},
   "source": [
    "# Esercizio 2"
   ]
  },
  {
   "cell_type": "markdown",
   "id": "31345015-b8ec-4ea0-aaac-598630474855",
   "metadata": {},
   "source": [
    "Costruire  i seguenti Numpy array 2d utilizzando il minor numero di istruzioni possibili"
   ]
  },
  {
   "cell_type": "markdown",
   "id": "ccf86356-d50a-493c-a870-54c5cc1480eb",
   "metadata": {},
   "source": [
    "<img src=\"ese2.png\" width=\"500\">"
   ]
  },
  {
   "cell_type": "code",
   "execution_count": 145,
   "id": "3bc35054",
   "metadata": {},
   "outputs": [
    {
     "name": "stdout",
     "output_type": "stream",
     "text": [
      "[[2 2 2 3]\n",
      " [2 2 2 3]\n",
      " [2 2 2 3]]\n",
      "[[ 0  0  2  1  2  3  4  5  6  7  8  9 10]\n",
      " [ 2  0  0  1  2  3  4  5  6  7  8  9 10]\n",
      " [ 0  2  0  1  2  3  4  5  6  7  8  9 10]\n",
      " [ 0  0  2  1  2  3  4  5  6  7  8  9 10]\n",
      " [ 2  0  0  1  2  3  4  5  6  7  8  9 10]\n",
      " [ 0  2  0  1  2  3  4  5  6  7  8  9 10]\n",
      " [ 0  0  2  1  2  3  4  5  6  7  8  9 10]\n",
      " [ 2  0  0  1  2  3  4  5  6  7  8  9 10]\n",
      " [ 0  2  0  1  2  3  4  5  6  7  8  9 10]\n",
      " [ 0  0  2  1  2  3  4  5  6  7  8  9 10]\n",
      " [ 2  0  0  1  2  3  4  5  6  7  8  9 10]\n",
      " [ 0  2  0  1  2  3  4  5  6  7  8  9 10]\n",
      " [ 0  0  2  1  2  3  4  5  6  7  8  9 10]\n",
      " [ 2  0  0  1  2  3  4  5  6  7  8  9 10]\n",
      " [ 0  2  0  1  2  3  4  5  6  7  8  9 10]\n",
      " [ 0  0  2  1  2  3  4  5  6  7  8  9 10]\n",
      " [ 2  0  0  1  2  3  4  5  6  7  8  9 10]\n",
      " [ 0  2  0  1  2  3  4  5  6  7  8  9 10]\n",
      " [ 0  0  2  1  2  3  4  5  6  7  8  9 10]\n",
      " [ 2  0  0  1  2  3  4  5  6  7  8  9 10]\n",
      " [ 0  2  0  1  2  3  4  5  6  7  8  9 10]\n",
      " [ 0  0  2  1  2  3  4  5  6  7  8  9 10]\n",
      " [ 2  0  0  1  2  3  4  5  6  7  8  9 10]\n",
      " [ 0  2  0  1  2  3  4  5  6  7  8  9 10]\n",
      " [ 0  0  2  1  2  3  4  5  6  7  8  9 10]\n",
      " [ 2  0  0  1  2  3  4  5  6  7  8  9 10]\n",
      " [ 0  2  0  1  2  3  4  5  6  7  8  9 10]\n",
      " [ 0  0  2  1  2  3  4  5  6  7  8  9 10]]\n",
      "[[2 0 0 0 0]\n",
      " [0 2 0 0 0]\n",
      " [0 0 2 0 0]\n",
      " [0 0 0 2 0]\n",
      " [0 0 0 0 2]]\n"
     ]
    }
   ],
   "source": [
    "a = np.full((3, 4), [2,2,2,3])\n",
    "print(a)\n",
    "\n",
    "b = np.diag(np.repeat([2], 3))\n",
    "for x in b:\n",
    "    res = np.vstack((res, np.hstack((x, list(range(1, 11, 1))))))\n",
    "print(res)\n",
    "c = np.zeros((5, 5))\n",
    "c = np.diag(np.repeat([2], len(c)))\n",
    "print(c)"
   ]
  },
  {
   "cell_type": "markdown",
   "id": "10a6c66f-2a62-4697-ab7a-b897fb66bcc9",
   "metadata": {},
   "source": [
    "# Esercizio 3"
   ]
  },
  {
   "cell_type": "markdown",
   "id": "8354e8db-9393-41b5-92bf-7dbd9174a20c",
   "metadata": {},
   "source": [
    "Calcolare la somma dei primi n numeri naturali dispari sia utilizzando un ciclo for che servendosi dell'istruzione sum di numpy."
   ]
  },
  {
   "cell_type": "code",
   "execution_count": 122,
   "id": "148c0480",
   "metadata": {},
   "outputs": [
    {
     "name": "stdout",
     "output_type": "stream",
     "text": [
      "25\n"
     ]
    }
   ],
   "source": [
    "n = 5\n",
    "res = [x * 2 + 1 for x in range(0, n)]\n",
    "print(np.sum(res))"
   ]
  },
  {
   "cell_type": "markdown",
   "id": "76da5e04-e555-4fee-bfd8-2df68d8996c9",
   "metadata": {},
   "source": [
    "# Esercizo 4"
   ]
  },
  {
   "cell_type": "markdown",
   "id": "5ecf31dd-d88c-46f8-b1b4-2e3b5988694e",
   "metadata": {},
   "source": [
    "Scrivere una function Python per generare l'n-esimo termine (n > 2) della successione\n",
    "di Fibonacci. Scrivere poi una function ricorsiva che risolva lo stesso problema\n",
    "e confrontare i tempi di calcolo delle due functions per n = 24."
   ]
  },
  {
   "cell_type": "code",
   "execution_count": null,
   "id": "2f500e88-1d6d-47fa-b91a-af2bdceb4609",
   "metadata": {},
   "outputs": [],
   "source": []
  }
 ],
 "metadata": {
  "kernelspec": {
   "display_name": "Python 3 (ipykernel)",
   "language": "python",
   "name": "python3"
  },
  "language_info": {
   "codemirror_mode": {
    "name": "ipython",
    "version": 3
   },
   "file_extension": ".py",
   "mimetype": "text/x-python",
   "name": "python",
   "nbconvert_exporter": "python",
   "pygments_lexer": "ipython3",
   "version": "3.8.9"
  }
 },
 "nbformat": 4,
 "nbformat_minor": 5
}
