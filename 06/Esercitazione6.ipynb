{
 "cells": [
  {
   "attachments": {},
   "cell_type": "markdown",
   "id": "d2903ef7-4c36-4b4f-b8dd-01fa2f35dfc5",
   "metadata": {},
   "source": [
    "## Esercitazione 6  del    27 Marzo 2023 \n"
   ]
  },
  {
   "cell_type": "code",
   "execution_count": 170,
   "id": "8b30ac09",
   "metadata": {},
   "outputs": [],
   "source": [
    "import sympy as sym\n",
    "from sympy.utilities.lambdify import lambdify\n",
    "import numpy as np\n",
    "import scipy.linalg as spl\n",
    "import numpy.linalg as npl\n",
    "import matplotlib.pyplot as plt"
   ]
  },
  {
   "attachments": {},
   "cell_type": "markdown",
   "id": "8c418e44-c9dc-46d9-a3df-199e47ed1a93",
   "metadata": {},
   "source": [
    "## Esercizio 1 \n",
    "Si consideri l'equazione quadratica $x^2 + 2px - q = 0 $ con $p=10^5$ e $q=10^{-i}$, i=1,..,10.\n",
    "Si stabilisca se il problema relativo al calcolo della soluzione $x= -p+\\sqrt{p^2+q}$ risulta essere ben\n",
    "condizionato per tutti i valori di q assegnati;"
   ]
  },
  {
   "cell_type": "code",
   "execution_count": 171,
   "id": "1dc04dc7",
   "metadata": {},
   "outputs": [
    {
     "name": "stdout",
     "output_type": "stream",
     "text": [
      "[ 1  2  3  4  5  6  7  8  9 10]\n",
      "[9.99992386e+00 9.99992386e+01 1.00174164e+03 1.01058054e+04\n",
      " 1.14532461e+05 3.43597384e+05            inf            inf\n",
      "            inf            inf]\n",
      "Fino a 10^-6 il problema è ben condizionato, dopo a 10^-7 il problema è mal condizionato\n",
      "Spacing di p^2 :  1.9073486328125e-06 ; il valore di q < spacing 10^10, quindi viene trascurato\n"
     ]
    },
    {
     "name": "stderr",
     "output_type": "stream",
     "text": [
      "/tmp/ipykernel_3278/1815384392.py:17: RuntimeWarning: divide by zero encountered in divide\n",
      "  res = np.abs(df_numerica(q_vec) / f_numerica(q_vec))\n"
     ]
    }
   ],
   "source": [
    "q = sym.symbols('q')\n",
    "p = sym.symbols('p')\n",
    "\n",
    "f = -p + sym.sqrt(p**2 + q)\n",
    "df = sym.diff(f, q, 1)\n",
    "\n",
    "fp = f.subs(p, 10**5)\n",
    "dfp = df.subs(p, 10**5)\n",
    "\n",
    "f_numerica = lambdify(q, fp, np)\n",
    "df_numerica = lambdify(q, dfp, np)\n",
    "\n",
    "vq = np.arange(1, 11)\n",
    "q_vec = 10.0 ** -vq\n",
    "print(vq)\n",
    "#res = np.abs(np.array([df_numerica(1 / 10**x) for x in vq]) / np.array([f_numerica(1 / 10**y) for y in vq]))\n",
    "res = np.abs(df_numerica(q_vec) / f_numerica(q_vec))\n",
    "print(res)\n",
    "\n",
    "print(\"Fino a 10^-6 il problema è ben condizionato, dopo a 10^-7 il problema è mal condizionato\")\n",
    "print(\"Spacing di p^2 : \", np.spacing(10**10), \"; il valore di q < spacing 10^10, quindi viene trascurato\")"
   ]
  },
  {
   "attachments": {},
   "cell_type": "markdown",
   "id": "1090e57b-2759-433c-9a3b-8cde7950f693",
   "metadata": {},
   "source": [
    "## Esercizio 2\n",
    "Scrivere una funzione numpy che calcola la norma infinito e la norma 1 di un vettore ed una matrice  e testarla su vettori e matrici  a propria scelta. Confrontarne i risultati con quelli ottenuti utilizzando la funzione norm di numpy.linalg\n",
    "\n",
    "(Ricorda la formula della norma infinito e della norma 1 di una matrice\n",
    "$||A||_\\infty= \\max_{j=1,n} \\sum_{i} |a_{ij}| $\n",
    "$\\quad ||A||_1= \\max_{i=1,n} \\sum_{j} |a_{ij}| $)"
   ]
  },
  {
   "cell_type": "code",
   "execution_count": 172,
   "id": "fc86b630",
   "metadata": {},
   "outputs": [
    {
     "name": "stdout",
     "output_type": "stream",
     "text": [
      "Norma 1:\n",
      "manual ->  148.0\n",
      "auto ->  148.0\n",
      "Norma oo:\n",
      "manual ->  65.0\n",
      "auto ->  65.0\n",
      "\n",
      "Norma 1:\n",
      "manual ->  13.5\n",
      "auto ->  13.5\n",
      "Norma oo:\n",
      "manual ->  11.0\n",
      "auto ->  11.0\n"
     ]
    }
   ],
   "source": [
    "def norma1(v) :\n",
    "    return np.max(np.sum(np.abs(v), axis=0))\n",
    "\n",
    "def normainf(a) :\n",
    "    return np.max(np.sum(np.abs(a), axis=1))\n",
    "\n",
    "v = np.array([2, 45, 65, 23, 5, -3, 5], dtype=float)\n",
    "print(\"Norma 1:\")\n",
    "print(\"manual -> \", norma1(v))\n",
    "print(\"auto -> \", npl.norm(v, 1))\n",
    "print(\"Norma oo:\")\n",
    "print(\"manual -> \", np.max(np.abs(v)))\n",
    "print(\"auto -> \", npl.norm(v, np.inf))\n",
    "\n",
    "a = np.array([[4, -1, 6], [2, 3, -3], [1, -2, 9/2]])\n",
    "\n",
    "print(\"\\nNorma 1:\")\n",
    "print(\"manual -> \", norma1(a))\n",
    "print(\"auto -> \", npl.norm(a, 1))\n",
    "print(\"Norma oo:\")\n",
    "print(\"manual -> \", normainf(a))\n",
    "print(\"auto -> \", npl.norm(a, np.inf))"
   ]
  },
  {
   "attachments": {},
   "cell_type": "markdown",
   "id": "b6f0000b-3345-45d7-a610-5d9a09b7c115",
   "metadata": {},
   "source": [
    "## Esercizio 3\n",
    "Implementare una funzione che calcola la norma 2 di una  matrice facendo uso della funzione eigvals del pacchetto numpy.linalg, (np.linalg.eigvals(A)). Testarla sulla matrice A=np.array([[4,-1,6],[2,3,-3],[1,-2,9/2]])   e confrontarne i risultati con quelli ottenuti utilizzando la funzione norm di numpy.linalg"
   ]
  },
  {
   "cell_type": "code",
   "execution_count": 173,
   "metadata": {},
   "outputs": [
    {
     "name": "stdout",
     "output_type": "stream",
     "text": [
      "[[ 4.  -1.   6. ]\n",
      " [ 2.   3.  -3. ]\n",
      " [ 1.  -2.   4.5]]\n",
      "Norma 2:\n",
      "manual ->  9.056251013341882\n",
      "auto ->  9.056251013341878\n"
     ]
    }
   ],
   "source": [
    "def norma2(a) :\n",
    "    m = np.dot(np.transpose(a), a)\n",
    "    d = np.max(npl.eigvals(m))\n",
    "    return np.sqrt(d)\n",
    "\n",
    "a = np.array([[4, -1, 6], [2, 3, -3], [1, -2, 9/2]])\n",
    "print(a)\n",
    "print(\"Norma 2:\")\n",
    "print(\"manual -> \", norma2(a))\n",
    "print(\"auto -> \", npl.norm(a, 2))"
   ]
  },
  {
   "attachments": {},
   "cell_type": "markdown",
   "id": "2b3aefbb-af07-4543-91a9-e6b766760a6a",
   "metadata": {},
   "source": [
    "## Esercizio 4 \n",
    "Implementare il calcolo dell'indice di condizionamento in norma 2 di una matrice A come rapporto tra la radice dell'autovalore massimo di $A^TA$ e la radice dell'autovalore minimo di $A^TA$."
   ]
  },
  {
   "cell_type": "code",
   "execution_count": 174,
   "metadata": {},
   "outputs": [],
   "source": [
    "def mycond(A):\n",
    "    M = np.dot(A.T, A)\n",
    "    autoval = npl.eigvals(M)\n",
    "    c2 = np.sqrt(np.max(autoval)) / np.sqrt(np.min(autoval))\n",
    "    return c2"
   ]
  },
  {
   "cell_type": "code",
   "execution_count": 175,
   "id": "0e74d083",
   "metadata": {},
   "outputs": [
    {
     "name": "stdout",
     "output_type": "stream",
     "text": [
      "Mine:  14.307025535058946\n",
      "Actual:  14.307025535058957\n"
     ]
    }
   ],
   "source": [
    "A = np.array([[3,6,2],[14,2,1],[7,4,3]])\n",
    "cond = mycond(A)\n",
    "print(\"Mine: \", cond)\n",
    "print(\"Actual: \", npl.cond(A))\n"
   ]
  },
  {
   "attachments": {},
   "cell_type": "markdown",
   "id": "2b2f0afd-9374-4f8e-8a7b-eb783ba28fd4",
   "metadata": {},
   "source": [
    "## Esercizio 5\n",
    "- Costruire la matrice di Vandermonde A, generata dal vettore x=[1.0,2.0,...,6.0] utilizzando la funzione np.vander(x, increasing=True) di numpy. \n",
    "- Calcolarne l'indice di condizionamento in norma 1 senza utilizzare la funzione cond di numpy.linalg e poi confrontarne il valore con quello ottenuto utilizzando la funzione.\n",
    "- Considerare il sistema lineare Ax=b  con matrice dei coefficienti A e termine noto costruito in maniera tale che la soluzione esatta sia il vettore x=[1,1,1,1,1,1] (ogni sua componente è 1)\n",
    "- perturbare il vettore dei termini noti della quantità\n",
    "$$\n",
    "\\delta b = 0.025 \\, \\ast \\,\n",
    "\\left [\n",
    "\\begin{array}{c}\n",
    "1\\\\\n",
    "0\\\\\n",
    "0\\\\\n",
    "0\n",
    "\\end{array}\n",
    "\\right ]\n",
    "$$\n",
    "- Risolvere il sistema con termine noto pertubato $b + \\delta b$ ((usando il metodo solve del modulo linalg di Scipy).\n",
    "- Calcolare l'errore relativo sul termine noto e l'errore relativo sulla soluzione. Cosa si può concludere?\n",
    "\n",
    "N.B. per il calcolo dell'inversa della matrice di A usare la funzione di numpy.linalg.inv(A).\n"
   ]
  },
  {
   "cell_type": "code",
   "execution_count": 176,
   "id": "f05458d6",
   "metadata": {},
   "outputs": [
    {
     "name": "stdout",
     "output_type": "stream",
     "text": [
      "[[1.000e+00 1.000e+00 1.000e+00 1.000e+00 1.000e+00 1.000e+00]\n",
      " [1.000e+00 2.000e+00 4.000e+00 8.000e+00 1.600e+01 3.200e+01]\n",
      " [1.000e+00 3.000e+00 9.000e+00 2.700e+01 8.100e+01 2.430e+02]\n",
      " [1.000e+00 4.000e+00 1.600e+01 6.400e+01 2.560e+02 1.024e+03]\n",
      " [1.000e+00 5.000e+00 2.500e+01 1.250e+02 6.250e+02 3.125e+03]\n",
      " [1.000e+00 6.000e+00 3.600e+01 2.160e+02 1.296e+03 7.776e+03]]\n"
     ]
    }
   ],
   "source": [
    "x = np.arange(1, 7, 1.)\n",
    "A = np.vander(x, increasing=True)\n",
    "print(A)"
   ]
  },
  {
   "cell_type": "code",
   "execution_count": 177,
   "id": "8b8581a2",
   "metadata": {},
   "outputs": [
    {
     "name": "stdout",
     "output_type": "stream",
     "text": [
      "Personal cond 1:  1281105.000000183\n",
      "Actual cond 1: 1.281105e+06\n"
     ]
    }
   ],
   "source": [
    "cond1 = norma1(A) * norma1(npl.inv(A))\n",
    "print(\"Personal cond 1: \", cond1)\n",
    "print(\"Actual cond 1: {:e}\".format(npl.cond(A, 1)))"
   ]
  },
  {
   "cell_type": "code",
   "execution_count": 178,
   "id": "6df3265a",
   "metadata": {},
   "outputs": [
    {
     "name": "stdout",
     "output_type": "stream",
     "text": [
      "[[1.]\n",
      " [1.]\n",
      " [1.]\n",
      " [1.]\n",
      " [1.]\n",
      " [1.]]\n"
     ]
    }
   ],
   "source": [
    "b = np.sum(A, axis=1).reshape(6, 1)\n",
    "x = npl.solve(A, b)\n",
    "print(x)"
   ]
  },
  {
   "cell_type": "code",
   "execution_count": 179,
   "id": "39981a2d",
   "metadata": {},
   "outputs": [
    {
     "name": "stdout",
     "output_type": "stream",
     "text": [
      "Errore relativo sui dati:  2.679241238881187e-06\n"
     ]
    }
   ],
   "source": [
    "pb = b.copy()\n",
    "pb[0] = pb[0] + 0.025\n",
    "err_rel_dati = npl.norm(pb - b, np.inf) / npl.norm(b, np.inf)\n",
    "print(\"Errore relativo sui dati: \", err_rel_dati)"
   ]
  },
  {
   "cell_type": "code",
   "execution_count": 180,
   "id": "e17a8038",
   "metadata": {},
   "outputs": [],
   "source": [
    "px = spl.solve(A, pb)"
   ]
  },
  {
   "cell_type": "code",
   "execution_count": 181,
   "id": "0ccc931f",
   "metadata": {},
   "outputs": [
    {
     "name": "stdout",
     "output_type": "stream",
     "text": [
      "Errore relativo sulla soluzione:  0.21750000001003728\n"
     ]
    }
   ],
   "source": [
    "err_rel_sol = npl.norm(px - x, np.inf) / npl.norm(x, np.inf)\n",
    "print(\"Errore relativo sulla soluzione: \", err_rel_sol)"
   ]
  },
  {
   "attachments": {},
   "cell_type": "markdown",
   "id": "1fad1579-04c4-4aae-a840-2ab3120aaf2e",
   "metadata": {},
   "source": [
    "## Esercizio 6\n",
    "Assegnato il sistema lineare $Ax = b$, con\n",
    "$$\n",
    "A =\n",
    "\\left [\n",
    "\\begin{array}{ccc}\n",
    "6 & 63 & 662.2\\\\\n",
    "63 & 662.2 & 6967.8\\\\\n",
    "662.2 & 6967.8 & 73393.5664\n",
    "\\end{array}\n",
    "\\right ], \\qquad\n",
    "b =\n",
    "\\left [\n",
    "\\begin{array}{c}\n",
    "1.1\\\\\n",
    "2.33\\\\\n",
    "1.7\n",
    "\\end{array}\n",
    "\\right ]\n",
    "$$\n",
    "- trovare il vettore soluzione $x$ (usando il metodo solve del modulo linalg di Scipy);\n",
    "- perturbare la matrice dei coefficienti della quantità\n",
    "$$\n",
    "\\delta A =\n",
    "0.01 \\, \\ast \\,\n",
    "\\left [ \\begin{array}{ccc}\n",
    "1 & 0 & 0\\\\\n",
    "0 & 0 & 0\\\\\n",
    "0 & 0 & 0\n",
    "\\end{array}\n",
    "\\right ]\n",
    "$$\n",
    "quindi calcolare l'errore relativo sulla soluzione e confrontarlo con la\n",
    "perturbazione relativa sui dati di ingresso. Cosa si osserva?"
   ]
  },
  {
   "cell_type": "code",
   "execution_count": 182,
   "id": "bc21df1d",
   "metadata": {},
   "outputs": [
    {
     "name": "stdout",
     "output_type": "stream",
     "text": [
      "[136422.3375037  -25999.49955428   1237.44419646]\n",
      "[67.09867276 -9.66739506  0.3124175 ]\n",
      "Errore relativo sui dati:  1.2342088165597937e-07\n",
      "Errore relativo sulle soluzioni:  0.9995081547935368\n"
     ]
    }
   ],
   "source": [
    "A = np.array([[6, 63, 662.2], [63, 662.2, 6967.8], [662.2, 6967.8, 73393.5664]], dtype=float)\n",
    "b = np.array([1.1, 2.33, 1.7])\n",
    "\n",
    "x = spl.solve(A, b)\n",
    "print(x)\n",
    "\n",
    "p_A = A.copy()\n",
    "#perturbo la matrice A -> p_A = A - dA\n",
    "p_A[0, 0] = A[0, 0] + 0.01\n",
    "p_x = spl.solve(p_A, b)\n",
    "print(p_x)\n",
    "\n",
    "#err_relativo sui dati\n",
    "err_rel_dati = npl.norm(A - p_A, np.inf) / npl.norm(A, np.inf)\n",
    "print(\"Errore relativo sui dati: \", err_rel_dati)\n",
    "\n",
    "#err_relativo sulle soluzioni\n",
    "err_rel_sol = npl.norm(x - p_x, np.inf) / npl.norm(x, np.inf)\n",
    "print(\"Errore relativo sulle soluzioni: \", err_rel_sol)"
   ]
  },
  {
   "attachments": {},
   "cell_type": "markdown",
   "id": "3fd35cbb-3eaa-4674-91ff-cf7148cac8b8",
   "metadata": {},
   "source": [
    "## Esercizio 7\n",
    " \n",
    "Assegnato il sistema lineare $Ax = b$, con $A$ matrice di Hilbert di ordine\n",
    "$4$ e $b = [1, 1, 1, 1]^T$,\n",
    " - trovare il vettore soluzione $x$ (usando il metodo solve del modulo linalg di Scipy);\n",
    " -  perturbare il vettore dei termini noti della quantità\n",
    "$$\n",
    "\\delta b = 0.01 \\, \\ast \\,\n",
    "\\left [\n",
    "\\begin{array}{c}\n",
    "1\\\\\n",
    "-1\\\\\n",
    "1\\\\\n",
    "-1\n",
    "\\end{array}\n",
    "\\right ]\n",
    "$$\n",
    "quindi calcolare la soluzione del sistema $A x_p= b_p$ con termine noto $b_p=b+ \\delta b$.\n",
    "Calcolare l'errore relativo sulla soluzione e confrontarlo con la perturbazione relativa sui dati di ingresso. Cosa si osserva?\n",
    "\n",
    "Nota: per la costruzione della matrice di Hilbert usare la funzione hilbert(n) del modulo scipy.linalg\n",
    "(scipy.linalg.hilbert(n))  dove bisogna specificare l'ordine n della matrice."
   ]
  },
  {
   "cell_type": "code",
   "execution_count": 183,
   "id": "8e0b4427",
   "metadata": {},
   "outputs": [
    {
     "name": "stdout",
     "output_type": "stream",
     "text": [
      "[  -4.   60. -180.  140.]\n",
      "[1.01 0.99 1.01 0.99]\n",
      "[  1.16   3.   -43.8   51.8 ]\n",
      "Errore relativo sui dati:  0.010000000000000009\n",
      "Errore relativo sulle soluzioni:  0.7566666666666568\n"
     ]
    }
   ],
   "source": [
    "A = spl.hilbert(4)\n",
    "b = np.array([1, 1, 1, 1])\n",
    "d_b = np.array([1, -1, 1, -1])\n",
    "\n",
    "x = spl.solve(A, b)\n",
    "print(x)\n",
    "\n",
    "p_b = b + d_b * 0.01\n",
    "print(p_b)\n",
    "p_x = spl.solve(A, p_b)\n",
    "print(p_x)\n",
    "\n",
    "#err sui dati\n",
    "err_rel_dati = npl.norm(b - p_b, np.inf) / npl.norm(b, np.inf)\n",
    "print(\"Errore relativo sui dati: \", err_rel_dati)\n",
    "\n",
    "#err sulla soluzione\n",
    "err_rel_sol = npl.norm(x - p_x, np.inf) / npl.norm(x, np.inf)\n",
    "print(\"Errore relativo sulle soluzioni: \", err_rel_sol)\n"
   ]
  },
  {
   "attachments": {},
   "cell_type": "markdown",
   "id": "b7609125-16d1-4652-8945-8128d7ba1ca4",
   "metadata": {},
   "source": [
    "## Esercizio 8\n",
    "Si consideri lo sviluppo in serie dell'esponenziale $e^x=1+x+\\frac{1}{2!}x^2+\\frac{1}{3!}x^3+\\cdots =\\sum_{k=0}^\\infty \\frac{x^k}{k!} $. Si calcoli un'approssimazione dell'esponenziale troncando ad N=100 termini la serie, per valori di x che variano da -10 a 10 incluso. Si calcoli  per ogni valore di x l'errore relativo del valore approssimato rispetto al valore esatto, ottenuto mediante la funzione exp della libreria numpy. Cosa si osserva? Pensare ad un algoritmo più stabile ricordando che $e^{-x}=\\frac{1}{e^{|x|}}$. "
   ]
  },
  {
   "attachments": {},
   "cell_type": "markdown",
   "id": "0205da67-2ed7-4f56-beb7-33b5e38b8216",
   "metadata": {},
   "source": [
    "## Esercizio 9\n",
    "Calcolare l'approssimazione della derivata prima di f(x) = sin(x) in x = 1\n",
    "mediante l'algoritmo del rapporto incrementale (f(x + h) - f(x))/h per valori decrescenti\n",
    "di h, confrontandolo con il valore fornito dalla funzione di libreria per f'(x)\n",
    "mediante calcolo dell'errore relativo."
   ]
  },
  {
   "cell_type": "code",
   "execution_count": 184,
   "id": "887c9633",
   "metadata": {},
   "outputs": [],
   "source": [
    "def taylor(x, N):\n",
    "    val = 1 + x\n",
    "    fatt = 1\n",
    "    for i in range(2, N + 1):\n",
    "        fatt = fatt * i\n",
    "        val += x**i / (fatt)\n",
    "    return val\n",
    "\n",
    "def taylor_stabile(x, N):\n",
    "    if x<0:\n",
    "        x=abs(x)\n",
    "        r=x\n",
    "        fattoriale=1\n",
    "        esponential=1+r\n",
    "        for i in range(2,N+1):\n",
    "            r=r*x\n",
    "            fattoriale=fattoriale*i\n",
    "            esponential=esponential+r/fattoriale\n",
    "    \n",
    "        return 1/esponential\n",
    "    \n",
    "    else: \n",
    "\n",
    "        r=x\n",
    "        fattoriale=1\n",
    "        esponential=1+r\n",
    "        for i in range(2,N+1):\n",
    "            r=r*x\n",
    "            fattoriale=fattoriale*i\n",
    "            esponential=esponential+r/fattoriale\n",
    "        return esponential"
   ]
  },
  {
   "cell_type": "code",
   "execution_count": 185,
   "id": "9ea35604-f9a5-4241-9347-a0994b5a9066",
   "metadata": {},
   "outputs": [],
   "source": [
    "min = -10\n",
    "max = 10\n",
    "n = 100\n",
    "ncamp = 20\n",
    "\n",
    "x = np.linspace(min, max, ncamp)\n",
    "\n",
    "exp_es = np.exp(x) #esatto\n",
    "exp_p = np.zeros((ncamp,)) #personale\n",
    "\n",
    "for i in range(ncamp):\n",
    "    exp_p[i] = taylor(x[i], n)\n",
    "\n",
    "err_rel = np.abs(exp_p - exp_es) / np.abs(exp_es)"
   ]
  },
  {
   "cell_type": "code",
   "execution_count": 186,
   "id": "103bbc53",
   "metadata": {},
   "outputs": [
    {
     "data": {
      "image/png": "[encoded data removed]",
      "text/plain": [
       "<Figure size 640x480 with 1 Axes>"
      ]
     },
     "metadata": {},
     "output_type": "display_data"
    }
   ],
   "source": [
    "plt.plot(x, exp_p,'b-', x, exp_es, 'r--')\n",
    "plt.title('Approssimazione esponenziale con serie di Taylor troncata')\n",
    "plt.legend(['exp_app_1','exp_esatta'])\n",
    "plt.show()"
   ]
  },
  {
   "cell_type": "code",
   "execution_count": 187,
   "id": "769d64f0",
   "metadata": {},
   "outputs": [
    {
     "data": {
      "image/png": "[encoded data removed]",
      "text/plain": [
       "<Figure size 640x480 with 1 Axes>"
      ]
     },
     "metadata": {},
     "output_type": "display_data"
    },
    {
     "data": {
      "image/png": "[encoded data removed]",
      "text/plain": [
       "<Figure size 640x480 with 1 Axes>"
      ]
     },
     "metadata": {},
     "output_type": "display_data"
    }
   ],
   "source": [
    "plt.plot(x,err_rel)\n",
    "plt.title(\"Errore relativo scala cartesiana\")\n",
    "plt.show()\n",
    "\n",
    "plt.plot(x,err_rel)\n",
    "plt.yscale(\"log\")\n",
    "plt.title(\"Errore relativo scala semi-logaritimica\")\n",
    "plt.show()"
   ]
  },
  {
   "cell_type": "code",
   "execution_count": 188,
   "id": "33ce7f31",
   "metadata": {},
   "outputs": [
    {
     "name": "stdout",
     "output_type": "stream",
     "text": [
      "[1.49257138e-16 4.16747507e-16 1.45452411e-16 0.00000000e+00\n",
      " 1.41744670e-16 1.97885806e-16 1.38131444e-16 0.00000000e+00\n",
      " 5.38441294e-16 0.00000000e+00 0.00000000e+00 3.66270620e-16\n",
      " 0.00000000e+00 1.78466991e-16 2.49152820e-16 0.00000000e+00\n",
      " 1.21400822e-16 1.69484322e-16 1.18306182e-16 3.30327965e-16]\n"
     ]
    },
    {
     "data": {
      "image/png": "[encoded data removed]",
      "text/plain": [
       "<Figure size 640x480 with 1 Axes>"
      ]
     },
     "metadata": {},
     "output_type": "display_data"
    }
   ],
   "source": [
    "for i in range(ncamp) :\n",
    "       exp_p[i]= taylor_stabile(x[i],n)\n",
    "   \n",
    "\n",
    "err_rel_2=np.abs(exp_p-exp_es)/np.abs(exp_es)\n",
    "print(err_rel_2)\n",
    "plt.plot(x,err_rel_2)\n",
    "plt.yscale(\"log\")\n",
    "plt.title('Errore relativo Algoritmo Migliorato- scala semilogaritmica')\n",
    "plt.show()"
   ]
  }
 ],
 "metadata": {
  "kernelspec": {
   "display_name": "Python 3",
   "language": "python",
   "name": "python3"
  },
  "language_info": {
   "codemirror_mode": {
    "name": "ipython",
    "version": 3
   },
   "file_extension": ".py",
   "mimetype": "text/x-python",
   "name": "python",
   "nbconvert_exporter": "python",
   "pygments_lexer": "ipython3",
   "version": "3.10.6"
  },
  "vscode": {
   "interpreter": {
    "hash": "916dbcbb3f70747c44a77c7bcd40155683ae19c65e1c03b4aa3499c5328201f1"
   }
  }
 },
 "nbformat": 4,
 "nbformat_minor": 5
}
