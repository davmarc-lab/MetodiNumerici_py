{
 "cells": [
  {
   "cell_type": "markdown",
   "id": "ae8420c8-346b-425b-bf7e-ecabbd4a067e",
   "metadata": {},
   "source": [
    "## Esercitazione Python -- 18/02/2025"
   ]
  },
  {
   "cell_type": "markdown",
   "id": "2dbec7a5-a12e-4693-ab65-a8fd067ff356",
   "metadata": {},
   "source": [
    "**Liste:**\n",
    "\n",
    "Scrivi una funzione che prende una lista di numeri e restituisce una nuova lista contenente solo i numeri pari.\n",
    "\n",
    "Crea una funzione che inverte l'ordine degli elementi in una lista (senza usare reverse() o slicing).\n",
    "\n",
    "Scrivi un programma che trova il valore più grande e il valore più piccolo in una lista.\n",
    "\n",
    "\n"
   ]
  },
  {
   "cell_type": "code",
   "execution_count": null,
   "id": "1fa80b14",
   "metadata": {},
   "outputs": [],
   "source": [
    "def even(list) :\n",
    "    return [x for x in list if x % 2 == 0]"
   ]
  },
  {
   "cell_type": "code",
   "execution_count": null,
   "id": "c30b5158",
   "metadata": {},
   "outputs": [],
   "source": [
    "def manReverse(foo) :\n",
    "    res = []\n",
    "    for i in list(range(len(foo)-1, -1, -1)) :\n",
    "        res.append(foo[i])\n",
    "    return res"
   ]
  },
  {
   "cell_type": "code",
   "execution_count": null,
   "id": "00a5b86b",
   "metadata": {},
   "outputs": [],
   "source": [
    "def manMax(foo) :\n",
    "    return max(foo)\n",
    "\n",
    "def manMin(foo) :\n",
    "    return min(foo)"
   ]
  },
  {
   "cell_type": "code",
   "execution_count": null,
   "id": "3cc7848c",
   "metadata": {},
   "outputs": [],
   "source": [
    "arr = [1, 2, 3, 4, 6, 10]\n",
    "\n",
    "print(even(arr))\n",
    "print(manReverse(arr))\n",
    "print(manMax(arr))\n",
    "print(manMin(arr))\n"
   ]
  },
  {
   "cell_type": "markdown",
   "id": "1af6bcd2-4c2a-4c67-ae77-c1559b9e3c76",
   "metadata": {},
   "source": [
    "**Stringhe:**\n",
    "\n",
    "Scrivi una funzione che conta il numero di vocali in una stringa.\n",
    "\n",
    "Crea una funzione che verifica se una stringa è un palindromo (si legge allo stesso modo da sinistra a destra e viceversa).\n",
    "\n",
    "Scrivi un programma che converte una stringa in maiuscolo o minuscolo (a scelta dell'utente).\n"
   ]
  },
  {
   "cell_type": "code",
   "execution_count": null,
   "id": "b9c81756",
   "metadata": {},
   "outputs": [],
   "source": [
    "vowels = \"aeiouAEIOU\"\n",
    "def countVowels(s) :\n",
    "    return len([x for x in s if x in vowels])"
   ]
  },
  {
   "cell_type": "code",
   "execution_count": null,
   "id": "ba3564f6",
   "metadata": {},
   "outputs": [],
   "source": [
    "def isPalindrome(s) :\n",
    "    return s[::-1] == s[::]"
   ]
  },
  {
   "cell_type": "code",
   "execution_count": null,
   "id": "e378cfef",
   "metadata": {},
   "outputs": [],
   "source": [
    "def convertSize(s, upper = False):\n",
    "    return s.upper() if upper else s.lower()"
   ]
  },
  {
   "cell_type": "code",
   "execution_count": null,
   "id": "fa12bfc5",
   "metadata": {},
   "outputs": [],
   "source": [
    "s = \"Hello World\"\n",
    "pal = \"laltlal\"\n",
    "\n",
    "print(countVowels(s))\n",
    "print(countVowels(pal))\n",
    "\n",
    "print(isPalindrome(s))\n",
    "print(isPalindrome(pal))\n",
    "\n",
    "print(convertSize(s))\n",
    "print(convertSize(pal, True))"
   ]
  },
  {
   "cell_type": "markdown",
   "id": "c9b84acc-0820-455c-8ca5-3208908ff49a",
   "metadata": {},
   "source": [
    "**Dizionari:**\n",
    "\n",
    "Crea un dizionario che contenga alcune parole italiane e le loro traduzioni in inglese. Scrivi un programma che chieda all'utente una parola italiana e restituisca la sua traduzione inglese, oppure un messaggio se la parola non è presente nel dizionario.\n",
    "\n",
    "\n",
    "Scrivi una funzione che prenda in input un dizionario e una chiave, e restituisca True se la chiave è presente nel dizionario, False altrimenti.\n",
    "\n"
   ]
  },
  {
   "cell_type": "code",
   "execution_count": null,
   "id": "58ff633b",
   "metadata": {},
   "outputs": [],
   "source": [
    "words = {\n",
    "    \"Casa\":\"Home\",\n",
    "    \"Scuola\":\"School\",\n",
    "    \"Porta\":\"Door\",\n",
    "}\n",
    "\n",
    "def translate(word) :\n",
    "    return words.get(word) if words.get(word) != None else \"La parola \\\"\" + word + \"\\\" non è presente!\""
   ]
  },
  {
   "cell_type": "code",
   "execution_count": null,
   "id": "35d0871d",
   "metadata": {},
   "outputs": [],
   "source": [
    "def isPresent(dic, key):\n",
    "    return dic.get(key) != None"
   ]
  },
  {
   "cell_type": "code",
   "execution_count": null,
   "id": "106ecdef",
   "metadata": {},
   "outputs": [],
   "source": [
    "print(translate(\"Casa\"))\n",
    "print(translate(\"Chiave\"))\n",
    "\n",
    "print(isPresent(words, \"Casa\"))\n",
    "print(isPresent(words, \"Chiave\"))\n"
   ]
  },
  {
   "cell_type": "markdown",
   "id": "c1dd66ca-a61e-41b9-b6a7-b6b49387bac4",
   "metadata": {},
   "source": [
    "**Cicli for:**\n",
    "\n",
    "Scrivi un programma che stampa i numeri da 1 a 10 usando un ciclo for.\n",
    "\n",
    "Crea una funzione che calcola la somma dei numeri in una lista usando un ciclo for.\n",
    "\n",
    "Scrivi un programma che stampa una tabella di moltiplicazione (ad esempio, da 1 a 10) usando cicli for annidati.\n"
   ]
  },
  {
   "cell_type": "code",
   "execution_count": null,
   "id": "fbcfd393",
   "metadata": {},
   "outputs": [],
   "source": [
    "for x in range(1, 11, 1) :\n",
    "    print(x)"
   ]
  },
  {
   "cell_type": "code",
   "execution_count": null,
   "id": "9120dedb",
   "metadata": {},
   "outputs": [],
   "source": [
    "def numSum(nums) :\n",
    "    res = 0\n",
    "    for n in nums :\n",
    "        res += n\n",
    "    return res"
   ]
  },
  {
   "cell_type": "code",
   "execution_count": null,
   "id": "ec2abf06",
   "metadata": {},
   "outputs": [],
   "source": [
    "def printTables(num) :\n",
    "    for base in num :\n",
    "        print(base, \" table:\")\n",
    "        for i in range(0, 11, 1) :\n",
    "            print(base, \" * \", i, \" = \", base * i)\n",
    "        print()\n"
   ]
  },
  {
   "cell_type": "code",
   "execution_count": null,
   "id": "f0f60375",
   "metadata": {},
   "outputs": [],
   "source": [
    "arr = [1, 2, 5, 6, 3]\n",
    "print(numSum(arr))\n",
    "print(\"Test (using `sum`): \", numSum(arr) == sum(arr))\n",
    "\n",
    "printTables(list(range(1, 11, 1)))"
   ]
  },
  {
   "cell_type": "markdown",
   "id": "9ac6c2c6-431c-45f9-8962-8e4301422c46",
   "metadata": {},
   "source": [
    "**Cicli while:**\n",
    "\n",
    "\n",
    "Crea una funzione che calcola il fattoriale di un numero usando un ciclo while.\n",
    "\n",
    "Scrivi un programma che stampa i numeri pari da 0 a 100 usando un ciclo while.\n"
   ]
  },
  {
   "cell_type": "code",
   "execution_count": null,
   "id": "9408b890",
   "metadata": {},
   "outputs": [],
   "source": [
    "def fact(num) :\n",
    "    res = 1\n",
    "    while num > 1 :\n",
    "        res *= num\n",
    "        num -= 1\n",
    "    return res"
   ]
  },
  {
   "cell_type": "code",
   "execution_count": null,
   "id": "0137ab19",
   "metadata": {},
   "outputs": [],
   "source": [
    "def printEven(num = 100) :\n",
    "    i = 0\n",
    "    while i < num :\n",
    "        if i % 2 == 0 :\n",
    "            print(i)\n",
    "        i+=1\n",
    "    return"
   ]
  },
  {
   "cell_type": "code",
   "execution_count": null,
   "id": "e3009e0e",
   "metadata": {},
   "outputs": [],
   "source": [
    "num = 4\n",
    "print(fact(num))\n",
    "\n",
    "printEven()"
   ]
  },
  {
   "cell_type": "markdown",
   "id": "0af7c6c7-68c3-448a-a297-76fa2875130a",
   "metadata": {},
   "source": [
    "**List comprehension:**\n",
    "\n",
    "Usa una list comprehension per creare una nuova lista contenente i quadrati dei numeri da 1 a 10.\n",
    "\n",
    "Usa una list comprehension per filtrare una lista di stringhe e ottenere solo quelle che iniziano con una determinata lettera.\n",
    "\n",
    "Usa una list comprehension per creare un dizionario dove le chiavi sono i numeri da 1 a 5 e i valori sono i loro quadrati.\n"
   ]
  },
  {
   "cell_type": "code",
   "execution_count": null,
   "id": "d9e00f65",
   "metadata": {},
   "outputs": [],
   "source": [
    "quad = [x**2 for x in range(1, 11, 1)]\n",
    "quad"
   ]
  },
  {
   "cell_type": "code",
   "execution_count": null,
   "id": "a12eafe5",
   "metadata": {},
   "outputs": [],
   "source": [
    "first = [\"ciao\", \"maro\", \"ddd\", \"certo\"]\n",
    "letter = 'c'\n",
    "filtered = [x for x in first if x[0] == letter]\n",
    "filtered"
   ]
  },
  {
   "cell_type": "code",
   "execution_count": null,
   "id": "03a6be01",
   "metadata": {},
   "outputs": [],
   "source": [
    "dquad = dict([(x, x**2) for x in range(1, 6, 1)])\n",
    "dquad"
   ]
  },
  {
   "cell_type": "markdown",
   "id": "4866ecae-6286-4d11-97ed-dccc4a6ef325",
   "metadata": {},
   "source": [
    "**If, else, elif:**\n",
    "\n",
    "Scrivi una funzione che determina se un numero è positivo, negativo o zero.\n",
    "\n",
    "Scrivi un programma che calcola il prezzo di un biglietto del cinema in base all'eta"
   ]
  },
  {
   "cell_type": "code",
   "execution_count": null,
   "id": "027f0337",
   "metadata": {},
   "outputs": [],
   "source": [
    "def numType(num) : \n",
    "    if num > 0 :\n",
    "        return \"Positivo\"\n",
    "    elif num < 0 :\n",
    "        return \"Negativo\"\n",
    "    return \"Zero\""
   ]
  },
  {
   "cell_type": "code",
   "execution_count": null,
   "id": "8f48b875",
   "metadata": {},
   "outputs": [],
   "source": [
    "price = 10.\n",
    "def calcPrice(age) :\n",
    "    return price * 0.5 if age < 18 else price"
   ]
  },
  {
   "cell_type": "code",
   "execution_count": null,
   "id": "a50860aa",
   "metadata": {},
   "outputs": [],
   "source": [
    "print(numType(1))\n",
    "print(numType(0))\n",
    "print(numType(-1))\n",
    "\n",
    "print(calcPrice(50))\n",
    "print(calcPrice(16))"
   ]
  },
  {
   "cell_type": "markdown",
   "id": "840b7e68-db5a-4919-bfce-54ad348ce17d",
   "metadata": {},
   "source": [
    "**Matchcase**"
   ]
  },
  {
   "cell_type": "markdown",
   "id": "9f329943-6fc4-429a-91c4-1d1210b0eff2",
   "metadata": {},
   "source": [
    "Scrivi una funzione che prenda in input un numero intero compreso tra 0 e 5 e restituisca la sua rappresentazione in parole (zero, uno, due, tre, quattro, cinque). Utilizza match/case per implementare la logica."
   ]
  },
  {
   "cell_type": "code",
   "execution_count": 192,
   "id": "1cd2be24-835f-47d2-9c22-6c4780d40a30",
   "metadata": {},
   "outputs": [],
   "source": [
    "def toString(n) :\n",
    "    match n :\n",
    "        case 1 :\n",
    "            return \"uno\"\n",
    "        case 2 :\n",
    "            return \"due\"\n",
    "        case 3 :\n",
    "            return \"tre\"\n",
    "        case 4 :\n",
    "            return \"quattro\"\n",
    "        case 5 :\n",
    "            return \"cinque\"\n",
    "    return \"Non valido\""
   ]
  }
 ],
 "metadata": {
  "kernelspec": {
   "display_name": "mn",
   "language": "python",
   "name": "python3"
  },
  "language_info": {
   "codemirror_mode": {
    "name": "ipython",
    "version": 3
   },
   "file_extension": ".py",
   "mimetype": "text/x-python",
   "name": "python",
   "nbconvert_exporter": "python",
   "pygments_lexer": "ipython3",
   "version": "3.13.2"
  }
 },
 "nbformat": 4,
 "nbformat_minor": 5
}
