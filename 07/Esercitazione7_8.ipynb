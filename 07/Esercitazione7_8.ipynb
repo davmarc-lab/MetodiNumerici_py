{
 "cells": [
  {
   "attachments": {},
   "cell_type": "markdown",
   "id": "e90ec8ce-90d7-46dd-902e-4dfc77ed67cc",
   "metadata": {},
   "source": [
    "#                                                               Esercitazione 7-8\n",
    "## 4 e 18 Aprile 2023"
   ]
  },
  {
   "cell_type": "code",
   "execution_count": 2,
   "id": "a2d53dc7",
   "metadata": {},
   "outputs": [],
   "source": [
    "import numpy as np\n",
    "import scipy as sp\n",
    "from scipy.linalg import lu"
   ]
  },
  {
   "attachments": {},
   "cell_type": "markdown",
   "id": "d54ac306-b55c-4349-9388-ef917d661f36",
   "metadata": {},
   "source": [
    "## Nota 1.\n",
    "La funzione *scipy.linalg.lu(A)*  , presa in input una matrice A a rango massimo, restituisce in output le matrici $P^T$,U,U,  della fattorizzazione di LU della matrice A in maniera tale che PA=LU (restituisce la matrice di permutazione trasposta)"
   ]
  },
  {
   "cell_type": "code",
   "execution_count": 3,
   "id": "771fdc8c-684c-454d-a034-d26b3c3d8fcd",
   "metadata": {
    "tags": []
   },
   "outputs": [
    {
     "name": "stdout",
     "output_type": "stream",
     "text": [
      "A= [[2 1]\n",
      " [3 4]]\n",
      "L= [[1.         0.        ]\n",
      " [0.66666667 1.        ]]\n",
      "U= [[ 3.          4.        ]\n",
      " [ 0.         -1.66666667]]\n",
      "P= [[0. 1.]\n",
      " [1. 0.]]\n",
      "Matrice P*A \n",
      " [[3. 4.]\n",
      " [2. 1.]]\n",
      "Matrice ottenuta moltipicando Le ed U \n",
      " [[3. 4.]\n",
      " [2. 1.]]\n"
     ]
    }
   ],
   "source": [
    "\n",
    "A=np.array([[2,1],[3,4]])\n",
    "PT,L,U=lu(A)  #Restituisce in output la trasposta della matrice di Permutazione\n",
    "P=PT.T.copy()   #P è la matrice di permutazione\n",
    "print(\"A=\",A)\n",
    "print(\"L=\",L)\n",
    "print(\"U=\",U)\n",
    "print(\"P=\",P)\n",
    "#LU è la fattorizzazione di P*A (terorema 2)\n",
    "A1=P@A # equivale al prodotto matrice x matrice np.dot(P,A)\n",
    "A1Fatt=L@U # equivale a np.dot(L,U)\n",
    "print(\"Matrice P*A \\n\", A1)\n",
    "print(\"Matrice ottenuta moltipicando Le ed U \\n\",A1Fatt)\n"
   ]
  },
  {
   "attachments": {},
   "cell_type": "markdown",
   "id": "c8f02e37-3f92-40bd-ad19-2e1820bef98a",
   "metadata": {},
   "source": [
    "## Nota 2\n",
    "La funzione *scipy.linalg.cholesky(a, lower=True)*, presa in input una matrice simmetrica e definta positiva restituisce in output la matrice L triangolare inferiore tale che $A=L \\cdot L^T$. Se la matrice simmetrica in input non è  definita positiva, restituisce un errore."
   ]
  },
  {
   "cell_type": "code",
   "execution_count": 4,
   "id": "b5c2c35c-a5bf-46bb-a074-b1223eb4228d",
   "metadata": {
    "tags": []
   },
   "outputs": [
    {
     "name": "stdout",
     "output_type": "stream",
     "text": [
      "[[ 2  1  3]\n",
      " [ 1  5  7]\n",
      " [ 3  7 12]]\n"
     ]
    }
   ],
   "source": [
    "from scipy.linalg import cholesky\n",
    "A=np.array([[2,1,3],[1,5,7],[3,7,12]])\n",
    "print(A)"
   ]
  },
  {
   "cell_type": "code",
   "execution_count": 5,
   "id": "573c6451-6704-4ec7-882a-5c92b9228728",
   "metadata": {
    "tags": []
   },
   "outputs": [
    {
     "name": "stdout",
     "output_type": "stream",
     "text": [
      "[[1.41421356 0.         0.        ]\n",
      " [0.70710678 2.12132034 0.        ]\n",
      " [2.12132034 2.59272486 0.8819171 ]]\n",
      "A1=\n",
      " [[ 2.  1.  3.]\n",
      " [ 1.  5.  7.]\n",
      " [ 3.  7. 12.]]\n"
     ]
    }
   ],
   "source": [
    "L=cholesky(A,lower=True)\n",
    "print(L)\n",
    "A1=L@L.T\n",
    "print(\"A1=\\n\",A1)"
   ]
  },
  {
   "attachments": {},
   "cell_type": "markdown",
   "id": "61a0ba64-b364-4a43-a1b7-a57ee779ef31",
   "metadata": {},
   "source": [
    "## Nota 3\n",
    "La funzione *scipy.linalg.qr(a)*, presa in input una matrice A (nxn)  a rango massimo, restituisce in output le matrici Q (ortogonale di dimensione nxn) ed una matrice R (nxn) triangolare superiore tale che $A=Q \\cdot R$"
   ]
  },
  {
   "cell_type": "code",
   "execution_count": 6,
   "id": "8d9f5290-f22c-4e10-8694-4e940a751d23",
   "metadata": {
    "tags": []
   },
   "outputs": [
    {
     "name": "stdout",
     "output_type": "stream",
     "text": [
      "Q= \n",
      " [[-0.53452248  0.6882472  -0.49051147]\n",
      " [-0.26726124 -0.6882472  -0.67445327]\n",
      " [-0.80178373 -0.22941573  0.55182541]]\n",
      "R= \n",
      " [[ -3.74165739  -7.48331477 -13.09580085]\n",
      " [  0.          -4.35889894  -5.50597761]\n",
      " [  0.           0.           0.42919754]]\n",
      "[[ 2.  1.  3.]\n",
      " [ 1.  5.  7.]\n",
      " [ 3.  7. 12.]]\n"
     ]
    }
   ],
   "source": [
    "from scipy.linalg import qr\n",
    "A=np.array([[2,1,3],[1,5,7],[3,7,12]])\n",
    "Q,R=qr(A)\n",
    "print(\"Q= \\n\",Q)\n",
    "print(\"R= \\n\",R)\n",
    "A1=Q@R\n",
    "print(A1)"
   ]
  },
  {
   "cell_type": "code",
   "execution_count": 7,
   "id": "9ff03333",
   "metadata": {},
   "outputs": [],
   "source": [
    "import numpy as np\n",
    "import scipy as sp\n",
    "import scipy.linalg as spl\n",
    "import numpy.linalg as npl\n",
    "import matplotlib.pyplot as plt"
   ]
  },
  {
   "attachments": {},
   "cell_type": "markdown",
   "id": "44a1e060-18d2-48d8-b968-e73a58e56fcd",
   "metadata": {},
   "source": [
    "## Esercizio 1. \n",
    "Facendo uso dei numpy array, implementare una funzione Lsolve(L,b), che, presa  in input una matrice L, triangolare inferiore,  e il vettore termine noto b, risolva il sistema lineare Lx=b, con il metodo della sostituzione in avanti e restituisca in output: la soluzione del sistema lineare ed un flag: flag=  0, se sono soddisfatti i criteri di applicabilità flag= 1, se non sono soddisfatti. (NB. Come test di applicabilità controllare che la matrice L sia quadrata e che non si annulli nessun elemento della diagonale)."
   ]
  },
  {
   "cell_type": "code",
   "execution_count": 8,
   "id": "1b3e67d9-0a1c-4669-ae52-1b434ab90732",
   "metadata": {},
   "outputs": [],
   "source": [
    "def Lsolve(L, b):\n",
    "    m, n = L.shape\n",
    "    flag = 0\n",
    "    x = []\n",
    "    \n",
    "    #matrice non quadrata\n",
    "    if m != n:\n",
    "        flag = 1\n",
    "        return x, flag\n",
    "    \n",
    "    #matrice con elementi nulli sulla diagonale\n",
    "    if np.all(np.diag(L)) != True:\n",
    "        flag = 1\n",
    "        return x, flag\n",
    "\n",
    "    #matrice OK\n",
    "    x = np.zeros((n, 1))\n",
    "    for i in range(n):\n",
    "        #prodotto riga * colonna\n",
    "        prc = np.dot(L[i, :i], x[:i])\n",
    "        x[i] = (b[i] - prc) / L[i][i]\n",
    "    \n",
    "    return x, flag"
   ]
  },
  {
   "attachments": {},
   "cell_type": "markdown",
   "id": "c56febff-750a-49bc-9d68-13b0aee0a9fd",
   "metadata": {},
   "source": [
    "## Esercizio 2. \n",
    "Facendo uso dei numpy array, implementare una funzione Usolve(L,b), che, presa  in input una matrice U, triangolare superiore,  e il vettore termine noto b, risolva il sistema lineare Ux=b, con il metodo della sostituzione all'indietro e restituisca in output: la soluzione del sistema lineare ed un flag: flag=  0, se sono soddisfatti i criteri di applicabilità flag= 1, se non sono soddisfatti. (NB. Come criteri di applicabilità controllare che la matrice L sia quadrata e che non si annulli nessun elemento della diagonale)."
   ]
  },
  {
   "cell_type": "code",
   "execution_count": 9,
   "id": "3de55a62",
   "metadata": {},
   "outputs": [],
   "source": [
    "def Usolve(U, b):\n",
    "    m, n = U.shape\n",
    "    flag = 0\n",
    "\n",
    "    #matrice non quadrata\n",
    "    if m != n:\n",
    "        flag = 1\n",
    "        return [], flag\n",
    "    \n",
    "    #matrice con elementi nulli sulla diagonale\n",
    "    if np.all(np.diag(U)) != True:\n",
    "        flag = 1\n",
    "        return [], flag\n",
    "    \n",
    "    x = np.zeros((n, 1))\n",
    "    for i in range(n - 1, -1, -1):\n",
    "        #prodotto riga * colonna\n",
    "        prc = np.dot(U[i, i+1:n], x[i+1:n])\n",
    "        x[i] = (b[i] - prc) / U[i][i]\n",
    "\n",
    "    return x, flag"
   ]
  },
  {
   "attachments": {},
   "cell_type": "markdown",
   "id": "f5f10793-9998-4cd8-bce4-4251de1b55d6",
   "metadata": {},
   "source": [
    "## Esercizio 3\n",
    "- si implementi una function LUsolve(P,A,L,U,b) che risolve il sistema lineare Ax=b nel caso di fattorizzazione $PA = LU$ assegnata,\n",
    "combinando i metodi di risoluzione in avanti ed all'indietro  precedentemente implementati.\n",
    "- si testi sulla matrice A = np.array([[2, 5, 8, 7], [5, 2, 2, 8], [7, 5, 6, 6], [5, 4, 4, 8]]) con termine noto b scelto in maniera tale che la soluzione esatta del sistema lineare sia il vettore formato da tutti 1."
   ]
  },
  {
   "cell_type": "code",
   "execution_count": 10,
   "id": "590d25cf",
   "metadata": {},
   "outputs": [],
   "source": [
    "def LUsolve(P, A, L, U, b):\n",
    "    m, n = A.shape\n",
    "    pb = np.dot(P, b)\n",
    "    y, flag = Lsolve(L, pb)\n",
    "    if flag == 0:\n",
    "        x, flag = Usolve(U, y)\n",
    "    else:\n",
    "        return [], flag\n",
    "    return x, flag"
   ]
  },
  {
   "cell_type": "code",
   "execution_count": 11,
   "id": "bc4cf690",
   "metadata": {},
   "outputs": [
    {
     "name": "stdout",
     "output_type": "stream",
     "text": [
      "b\n",
      " [[22]\n",
      " [17]\n",
      " [24]\n",
      " [21]]\n",
      "P\n",
      " [[0. 0. 1. 0.]\n",
      " [1. 0. 0. 0.]\n",
      " [0. 0. 0. 1.]\n",
      " [0. 1. 0. 0.]]\n",
      "L\n",
      " [[ 1.          0.          0.          0.        ]\n",
      " [ 0.28571429  1.          0.          0.        ]\n",
      " [ 0.71428571  0.12        1.          0.        ]\n",
      " [ 0.71428571 -0.44       -0.46153846  1.        ]]\n",
      "U\n",
      " [[ 7.          5.          6.          6.        ]\n",
      " [ 0.          3.57142857  6.28571429  5.28571429]\n",
      " [ 0.          0.         -1.04        3.08      ]\n",
      " [ 0.          0.          0.          7.46153846]]\n",
      "[[1.]\n",
      " [1.]\n",
      " [1.]\n",
      " [1.]]\n"
     ]
    }
   ],
   "source": [
    "A = np.array([[2, 5, 8, 7], [5, 2, 2, 8], [7, 5, 6, 6], [5, 4, 4, 8]])\n",
    "PT, L, U = spl.lu(A)\n",
    "b = np.sum(A, axis=1).reshape(4, 1)\n",
    "print(\"b\\n\",b)\n",
    "P = PT.T.copy()\n",
    "print(\"P\\n\", P)\n",
    "print(\"L\\n\", L)\n",
    "print(\"U\\n\", U)\n",
    "x, flag = LUsolve(P, A, L, U, b)\n",
    "if flag == 0:\n",
    "    print(x)"
   ]
  },
  {
   "attachments": {},
   "cell_type": "markdown",
   "id": "cd4ed451-8ec8-49df-8558-9811d2a154f2",
   "metadata": {},
   "source": [
    "## Esercizio 4\n",
    "Si implementi una function *solve_nsis(A,B)* per il calcolo della soluzione di un generale sistema lineare $AX = B$, con $X, B$ matrici, che usi la fattorizzazione LU della matrice PA, per risolvere n sistemi lineari: aventi la stessa matrice dei coefficienti A e termine noto l'i-esima colonna della matrice B. \n",
    "Utilizzarla poi per il calcolo dell'inversa delle\n",
    "matrici non singolari\n",
    "$$\n",
    "A=\\left[\n",
    "\\begin{array}{ccc}\n",
    "3 & 5 & 7\\\\\n",
    "2 & 3 & 4\\\\\n",
    "5 & 9 & 11\n",
    "\\end{array}\n",
    "\\right ], \\qquad\n",
    "A=\\left[\n",
    "\\begin{array}{cccc}\n",
    "1 & 2 & 3 & 4\\\\\n",
    "2 & -4 & 6 & 8\\\\\n",
    "-1 & -2 & -3 & -1\\\\\n",
    "5 & 7 & 0 & 1\n",
    "\\end{array}\n",
    "\\right ],\n",
    "$$\n",
    "confrontando i risultati ottenuti con l'output\n",
    "della funzione  *scipy.linalg.inv(A)*"
   ]
  },
  {
   "cell_type": "code",
   "execution_count": 12,
   "id": "6fc6e798",
   "metadata": {},
   "outputs": [],
   "source": [
    "def solve_nsis(A, B):\n",
    "    m, n = A.shape\n",
    "    flag = 0\n",
    "\n",
    "    #matrice non quadrata\n",
    "    if m != n:\n",
    "        flag = 1\n",
    "        return \n",
    "    \n",
    "    X = np.zeros((n, n))\n",
    "    PT, L, U = spl.lu(A)\n",
    "    P = PT.T.copy()\n",
    "\n",
    "    for i in range(n):\n",
    "        y, flag = Lsolve(L, np.dot(P, B[:, i]))\n",
    "        x, flag = Usolve(U, y)\n",
    "        X[:, i] = x.reshape(n, )      \n",
    "    return X"
   ]
  },
  {
   "cell_type": "code",
   "execution_count": 13,
   "metadata": {},
   "outputs": [
    {
     "name": "stdout",
     "output_type": "stream",
     "text": [
      "Personal\n",
      " [[-1.5  4.  -0.5]\n",
      " [-1.  -1.   1. ]\n",
      " [ 1.5 -1.  -0.5]]\n",
      "Calc\n",
      " [[-1.5  4.  -0.5]\n",
      " [-1.  -1.   1. ]\n",
      " [ 1.5 -1.  -0.5]]\n",
      "Personal\n",
      " [[-4.16666667e-01  1.75000000e-01 -6.66666667e-02  2.00000000e-01]\n",
      " [ 2.50000000e-01 -1.25000000e-01 -0.00000000e+00 -8.16340459e-18]\n",
      " [-1.38888889e-01  2.50000000e-02 -4.22222222e-01 -6.66666667e-02]\n",
      " [ 3.33333333e-01  4.62592927e-18  3.33333333e-01 -9.25185854e-18]]\n",
      "Calc\n",
      " [[-4.16666667e-01  1.75000000e-01 -6.66666667e-02  2.00000000e-01]\n",
      " [ 2.50000000e-01 -1.25000000e-01  2.77555756e-17  0.00000000e+00]\n",
      " [-1.38888889e-01  2.50000000e-02 -4.22222222e-01 -6.66666667e-02]\n",
      " [ 3.33333333e-01  3.46944695e-18  3.33333333e-01 -1.38777878e-17]]\n"
     ]
    }
   ],
   "source": [
    "A=np.array([[3,5,7],[2,3,4],[5,9,11]])\n",
    "m, n = A.shape\n",
    "B = np.eye(m)\n",
    "X = np.zeros((m, n))\n",
    "X = solve_nsis(A, B)\n",
    "print(\"Personal\\n\",X)\n",
    "print(\"Calc\\n\", spl.inv(A))\n",
    "\n",
    "A=np.array([[1, 2, 3, 4], [2, -4, 6, 8],[-1, -2, -3, -1],[ 5, 7, 0 ,1]])\n",
    "m, n = A.shape\n",
    "B = np.eye(m)\n",
    "X = np.zeros((m, n))\n",
    "X = solve_nsis(A, B)\n",
    "print(\"Personal\\n\",X)\n",
    "print(\"Calc\\n\", spl.inv(A))"
   ]
  },
  {
   "attachments": {},
   "cell_type": "markdown",
   "id": "336b8ed9-0a19-44f9-8fd2-890b6f70acfa",
   "metadata": {},
   "source": [
    "## Esercizio 5\n",
    "Sfruttando la fattorizzazione PA=LU  di una delle matrici del punto precedente, calcolarne il determinante.\n"
   ]
  },
  {
   "cell_type": "code",
   "execution_count": 14,
   "id": "41f7ada5",
   "metadata": {},
   "outputs": [
    {
     "name": "stdout",
     "output_type": "stream",
     "text": [
      "mydet =  -360.0 ; calcdet =  -360.00000000000006\n"
     ]
    }
   ],
   "source": [
    "PT, L, U = spl.lu(A)\n",
    "deter = np.prod(np.diag(U)) * np.linalg.det(PT)\n",
    "print(\"mydet = \", deter, \"; calcdet = \", np.linalg.det(A))"
   ]
  },
  {
   "attachments": {},
   "cell_type": "markdown",
   "id": "e5216f85-37df-422d-964d-1ee359b9fa1f",
   "metadata": {},
   "source": [
    "## Esercizio 6\n",
    "Per valori di $n = 4 : 6 : 40$, si consideri il sistema lineare $A_n x = b$ con\n",
    "$A_n$ matrice di Hankel di ordine $n$ di elementi\n",
    "$$\n",
    "a^{(n)}_{i,n+k-i}\n",
    "=\n",
    "\\left \\{\n",
    "\\begin{array}{ll}\n",
    "2^k & \\hbox{se} \\ k > 0,\\\\\n",
    "2^{1/(2-k)} & \\hbox{se} \\ k \\leq 0,\n",
    "\\end{array}\n",
    "\\right .\n",
    "\\qquad\n",
    "i = 1, ..., n, \\ \\  k = i + 1-n, ..., i,\n",
    "$$\n",
    "e $b$ scelto in modo che risulti $x = [1, 1, ..., 1]^T$. Si risolva tale sistema\n",
    "con il metodo di fattorizzazione LU della matrice PA\n",
    "e il metodo di fattorizzazione QR (Q,R  =scipy.linalg.qr(A)).\n",
    "Calcolare gli errori relativi $\\| \\delta x \\|_2/\\|x\\|_2$ da cui sono affette\n",
    "le soluzioni calcolate con i due metodi e produrre, al variare di $n$, un\n",
    "grafico in scala logaritmica ( matplotlib.plyplot.loglog) degli errori relativi calcolati. Che cosa si\n",
    "osserva?"
   ]
  },
  {
   "cell_type": "code",
   "execution_count": 15,
   "id": "fdc9fcb9",
   "metadata": {},
   "outputs": [
    {
     "data": {
      "image/png": "[encoded data removed]",
      "text/plain": [
       "<Figure size 640x480 with 1 Axes>"
      ]
     },
     "metadata": {},
     "output_type": "display_data"
    },
    {
     "data": {
      "text/plain": [
       "[<matplotlib.lines.Line2D at 0x7f6ed90efd60>]"
      ]
     },
     "execution_count": 15,
     "metadata": {},
     "output_type": "execute_result"
    },
    {
     "data": {
      "image/png": "[encoded data removed]",
      "text/plain": [
       "<Figure size 640x480 with 1 Axes>"
      ]
     },
     "metadata": {},
     "output_type": "display_data"
    }
   ],
   "source": [
    "def Hankel(n):\n",
    "    A = np.zeros((n, n), dtype=float)\n",
    "    for i in range(n):\n",
    "        for k in range(i + 1 - n, i + 1):\n",
    "            if k > 0:\n",
    "                A[i, n-1+k-i] = 2.0**(k+1)\n",
    "            else:\n",
    "                A[i, n-1+k-1] = 2.0**(1 / (2 - k -1))\n",
    "    return A\n",
    "\n",
    "indCond = []\n",
    "err_rel = []\n",
    "err_rel_qr = []\n",
    "inter = range(4, 41, 6)\n",
    "\n",
    "for n in inter:\n",
    "    A = Hankel(n)\n",
    "    indCond.append(npl.cond(A, 2))\n",
    "    xes = np.ones((n, 1))\n",
    "    b = np.dot(A, xes)\n",
    "\n",
    "    PT, L, U = spl.lu(A)\n",
    "    P = PT.T.copy()\n",
    "    x, flag = LUsolve(P, A, L, U, b)\n",
    "    err_rel.append(npl.norm(x - xes, 2) / npl.norm(xes, 2))\n",
    "\n",
    "    Q, R = spl.qr(A)\n",
    "    y = np.dot(Q.T, b)\n",
    "    xqr, flag = Usolve(R, y)\n",
    "    err_rel_qr.append(npl.norm(xqr - xes, 2) / npl.norm(xes, 2))\n",
    "\n",
    "plt.semilogy(inter, err_rel, 'ro-', inter, err_rel_qr, 'go-')\n",
    "plt.legend(['Gauss', 'QR'])\n",
    "plt.ylabel('Errore relativo sulla soluzione')\n",
    "plt.show()\n",
    "plt.semilogy(inter,indCond,'ro-')\n"
   ]
  },
  {
   "attachments": {},
   "cell_type": "markdown",
   "id": "0ba403c0-aff7-4239-a665-c5c12f99904d",
   "metadata": {},
   "source": [
    "Ripetere l'esercizio precedente per risolvere il sistema lineare $Ax = b$\n",
    "con $A$ e $b$ cos\\`i  definiti:\n",
    "$$\n",
    "a^{(n)}_{i,j}=\n",
    "\\left \\{\n",
    "\\begin{array}{ll}\n",
    "1 & \\hbox{se} \\ i=j \\ \\hbox{o \\, se} \\ j=n,\\\\\n",
    "-1 & \\hbox{se} \\ i>j,\\\\\n",
    "0 & \\hbox{altrimenti}\n",
    "\\end{array}\n",
    "\\right .\n",
    "\\qquad\n",
    "b = A \\cdot [1, ..., 1]^T,\n",
    "$$\n",
    "per $n = 48 : 2 : 58$ e $b$ scelto in modo che risulti $x = [1, 1, ..., 1]^T$. Che\n",
    "cosa si osserva?\n"
   ]
  },
  {
   "cell_type": "code",
   "execution_count": 16,
   "id": "1f8ec21f",
   "metadata": {},
   "outputs": [
    {
     "data": {
      "image/png": "[encoded data removed]",
      "text/plain": [
       "<Figure size 640x480 with 1 Axes>"
      ]
     },
     "metadata": {},
     "output_type": "display_data"
    },
    {
     "data": {
      "text/plain": [
       "[<matplotlib.lines.Line2D at 0x7f6ed8ef61a0>]"
      ]
     },
     "execution_count": 16,
     "metadata": {},
     "output_type": "execute_result"
    },
    {
     "data": {
      "image/png": "[encoded data removed]",
      "text/plain": [
       "<Figure size 640x480 with 1 Axes>"
      ]
     },
     "metadata": {},
     "output_type": "display_data"
    }
   ],
   "source": [
    "def matrix(n):\n",
    "    A = np.zeros((n, n), dtype=float)\n",
    "    for i in range(n):\n",
    "        for j in range(n):\n",
    "            if (i == j or j == n-1):\n",
    "                A[i, j] = 1\n",
    "            elif i > j:\n",
    "                A[i, j] = -1\n",
    "            else:\n",
    "                A[i, j] = 0\n",
    "\n",
    "    return A\n",
    "\n",
    "indCond = []\n",
    "err_rel = []\n",
    "err_rel_qr = []\n",
    "inter = range(48, 59, 2)\n",
    "\n",
    "for n in inter:\n",
    "    A = matrix(n)\n",
    "    xes = np.ones((n, 1))\n",
    "    b = A @ xes\n",
    "    indCond.append(npl.cond(A, 2))\n",
    "\n",
    "    PT, L, U = spl.lu(A)\n",
    "    P = PT.T.copy()\n",
    "    x, flag = LUsolve(P, A, L, U, b)\n",
    "    err_rel.append(npl.norm(x - xes, 2) / npl.norm(xes, 2))\n",
    "\n",
    "    Q, R = spl.qr(A)\n",
    "    y = np.dot(Q.T, b)\n",
    "    xqr, flag = Usolve(R, y)\n",
    "    err_rel_qr.append(npl.norm(xqr - xes, 2) / npl.norm(xes, 2))\n",
    "\n",
    "plt.semilogy(inter, err_rel, 'ro-', inter, err_rel_qr, 'go-')\n",
    "plt.legend(['Gauss', 'QR'])\n",
    "plt.ylabel('Errore relativo sulla soluzione')\n",
    "plt.show()\n",
    "plt.semilogy(inter,indCond,'ro-')  "
   ]
  },
  {
   "attachments": {},
   "cell_type": "markdown",
   "id": "aed547e3-fe49-41b6-a124-d49c8f9b48f5",
   "metadata": {},
   "source": [
    "## Esercizio 7\n",
    "Implementare la  funzione $jacobi(A,b,x0,toll,itmax)$ per risolvere il  sistema lineare Ax=b utilizzando il Metodo iterativo di Jacobi. \n",
    "La funzione prende in input:\n",
    "- A: matrice dei coefficienti\n",
    "- b: termine noto\n",
    "- x0: vettore iniziale della stessa dimensione di b\n",
    "- toll: tolleranza per il criterio di arresto\n",
    "- itmax: iterazioni massime oltre le quali il metodo si ferma\n",
    "\n",
    "e restituisce in output:\n",
    "- il vettore soluzione\n",
    "- un vettore di tante componenti quanto il numero di iterazioni effettuate, contenente l'errore tra due iterazioni successive $||x^{(k)}-x^{(k-1)}||/||x^{(k)}||$\n",
    "- il numero di iterazioni impiegate per calcolare la soluzione con la tolleranza richiesta\n",
    "\n",
    "\n",
    "Calcolare il raggio spettrale della matrice di iterazione.\n",
    "\n",
    "Implementare un criterio di arresto per il procedimento iterativo in termini di : $||x^{(k)}-x^{(k-1)}||/||x^{(k)}|| <toll$"
   ]
  },
  {
   "cell_type": "code",
   "execution_count": 17,
   "id": "3db87b2f",
   "metadata": {},
   "outputs": [],
   "source": [
    "def jacobi(A, b, x0, toll, itmax):\n",
    "    err = toll\n",
    "    x = []\n",
    "    n = A.shape[0]\n",
    "\n",
    "    M = np.diag(A)\n",
    "    invM = np.diag(1 / M)\n",
    "    E = np.tril(A, -1)\n",
    "    F = np.triu(A, 1)\n",
    "    N = -(E + F)\n",
    "    T = invM @ N\n",
    "\n",
    "    autoval = npl.eigvals(T)\n",
    "    raggiospettrale = np.max(np.abs(autoval))\n",
    "    print(\"raggio spettrale Jacobi: \", raggiospettrale)\n",
    "    \n",
    "    it = 0\n",
    "    err_vet = []\n",
    "    while it <= itmax and err >= toll:\n",
    "        x = (b + np.dot(N, x0)) / M.reshape(n, 1)\n",
    "        err = npl.norm(x - x0) / npl.norm(x)\n",
    "        err_vet.append(err)\n",
    "        x0 = x.copy()\n",
    "        it += 1\n",
    "\n",
    "    return x, it, err_vet"
   ]
  },
  {
   "attachments": {},
   "cell_type": "markdown",
   "id": "3e2804e8-0a05-4a88-bb95-014501918127",
   "metadata": {
    "tags": []
   },
   "source": [
    "## Esercizio 8\n",
    "Implementare la  funzione $gauss$_$seidel(A,b,x0,toll,itmax)$ per risolvere il  sistema lineare Ax=b utilizzando il Metodo iterativo di Gauss-Seidel. \n",
    "La funzione prende in input:\n",
    "- A: matrice dei coefficienti\n",
    "- b: termine noto\n",
    "- x0: vettore iniziale della stessa dimensione di b\n",
    "- toll: tolleranza per il criterio di arresto\n",
    "- itmax: iterazioni massime oltre le quali il metodo si ferma\n",
    "\n",
    "e restituisce in output:\n",
    "- il vettore soluzione\n",
    "- un vettore di tante componenti quanto il numero di iterazioni effettuate, contenente l'errore tra due iterazioni successive $||x^{(k)}-x^{(k-1)}||/||x^{(k)}||$\n",
    "- il numero di iterazioni impiegate per calcolare la soluzione con la tolleranza richiesta\n",
    "\n",
    "Calcolare il raggio spettrale della matrice di iterazione.\n",
    "\n",
    "Implementare un criterio di arresto per il procedimento iterativo in termini di : $||x^{(k)}-x^{(k-1)}||/||x^{(k)}|| <toll$"
   ]
  },
  {
   "cell_type": "code",
   "execution_count": 18,
   "id": "e805b7b4",
   "metadata": {},
   "outputs": [],
   "source": [
    "def gauss_seidel(A, b, x0, toll, itmax):\n",
    "    err = toll\n",
    "    x = []\n",
    "    n = A.shape[0]\n",
    "\n",
    "    D = np.diag(A)\n",
    "    D = np.diag(D)\n",
    "    E = np.tril(A, -1)\n",
    "    F = np.triu(A, 1)\n",
    "    M = E + D\n",
    "    N = -F\n",
    "    invM = npl.inv(M)\n",
    "    T = np.dot(invM, N)\n",
    "    \n",
    "    autoval = npl.eigvals(T)\n",
    "    raggiospettrale = np.max(np.abs(autoval))\n",
    "    print(\"raggio spettrale Gauss-Seidel: \", raggiospettrale)\n",
    "\n",
    "    it = 0\n",
    "    err_vet = []\n",
    "    while it <= itmax and err >= toll:\n",
    "        t = b - np.dot(F, x0)\n",
    "        x, flag = Lsolve(M, t)\n",
    "        err = npl.norm(x - x0) / npl.norm(x)\n",
    "        err_vet.append(err)\n",
    "        x0 = x.copy()\n",
    "        it += 1\n",
    "\n",
    "    return x, it, err_vet"
   ]
  },
  {
   "attachments": {},
   "cell_type": "markdown",
   "id": "c74bb0cb-34c4-45c0-b91a-24fe1d933360",
   "metadata": {},
   "source": [
    "## Esercizio 9\n",
    "Testare i metodi di Jacobi e di Gauss Seidel nella soluzione dei - sistemai lineare Ax=b, dove \n",
    "- A=np.array([[4,1,3],[3,4,1],[1,1,17]]) \n",
    "- A=np.array([[3,0, 4],[7, 4, 3],[-1, -1 ,-2]])\n",
    "- A=np.array([[5, 0, -1, 2],[ -2, 4, 1, 0],[0, -1, 4, -1],[ 2, 0, 0, 3]])\n",
    "\n",
    "ed il termine noto del sistema è scelto in maniera tale che la soluzione esatta del sistema sia il vettore fatto da tutti 1.\n",
    "Visualizzare in un grafico in scala logaritmica  l'errore per ogni iterazione per ciascun metodo. Cosa si osserva?\n",
    "Porre toll=1e-8 it_max=500 e x0=np.zeros(A.shape[0])"
   ]
  },
  {
   "cell_type": "code",
   "execution_count": 19,
   "id": "ce40c146",
   "metadata": {},
   "outputs": [
    {
     "name": "stdout",
     "output_type": "stream",
     "text": [
      "[[ 4  1  3]\n",
      " [ 3  4  1]\n",
      " [ 1  1 17]]\n",
      "raggio spettrale Jacobi:  0.5586853131416272\n",
      "sol=\n",
      "  [[1.]\n",
      " [1.]\n",
      " [1.]] \n",
      " it  35\n",
      "raggio spettrale Gauss-Seidel:  0.19431515030791588\n",
      "sol=\n",
      "  [[1.]\n",
      " [1.]\n",
      " [1.]] \n",
      " it  13\n"
     ]
    },
    {
     "data": {
      "image/png": "[encoded data removed]",
      "text/plain": [
       "<Figure size 640x480 with 1 Axes>"
      ]
     },
     "metadata": {},
     "output_type": "display_data"
    }
   ],
   "source": [
    "A=np.array([[4,1,3],[3,4,1],[1,1,17]])\n",
    "m, n = A.shape\n",
    "print(A)\n",
    "#A=np.array([[3,0, 4],[7, 4, 3],[-1, -1 ,-2]])\n",
    "#A=np.array([[5, 0, -1, 2],[ -2, 4, 1, 0],[0, -1, 4, -1],[ 2, 0, 0, 3]])\n",
    "b = np.sum(A, axis=1).reshape(m, 1)\n",
    "toll = 1e-8\n",
    "itmax = 500\n",
    "x0 = np.zeros(m).reshape(m, 1)\n",
    "sol, it, err_vet = jacobi(A, b, x0, toll, itmax)\n",
    "plt.semilogy(np.arange(it), err_vet)\n",
    "print(\"sol=\\n \",sol,\"\\n it \",it)\n",
    "\n",
    "sol, it, err_vet = gauss_seidel(A, b, x0, toll, itmax)\n",
    "print(\"sol=\\n \",sol,\"\\n it \",it)\n",
    "plt.semilogy(np.arange(it), err_vet)\n",
    "plt.legend(['Jacobi', 'Gauss-Seidel'])\n",
    "plt.show()\n"
   ]
  },
  {
   "attachments": {},
   "cell_type": "markdown",
   "id": "a2a550cc-b2af-4e4a-969f-964bbb79182f",
   "metadata": {},
   "source": [
    "## Esercizio 10\n",
    "Implementare la  funzione $gauss$_$seidel$_sor(A,b,x0,omega, toll,itmax) per risolvere il  sistema lineare Ax=b utilizzando il Metodo iterativo di Gauss-Seidel-SOR\n",
    "La funzione prende in input:\n",
    "- A: matrice dei coefficienti\n",
    "- b: termine noto\n",
    "- x0: vettore iniziale della stessa dimensione di b\n",
    "- omega: il parametro di rilassamento\n",
    "- toll: tolleranza per il criterio di arresto\n",
    "- itmax: iterazioni massime oltre le quali il metodo si ferma\n",
    "\n",
    "e restituisce in output:\n",
    "- il vettore soluzione\n",
    "- un vettore di tante componenti quanto il numero di iterazioni effettuate, contenente l'errore tra due iterazioni successive $||x^{(k)}-x^{(k-1)}||/||x^{(k)}||$\n",
    "- il numero di iterazioni impiegate per calcolare la soluzione con la tolleranza richiesta\n",
    "\n",
    "Calcolare il raggio spettrale della matrice di iterazione.\n",
    "\n",
    "Implementare un criterio di arresto per il procedimento iterativo in termini di : $||x^{(k)}-x^{(k-1)}||/||x^{(k)}|| <toll$"
   ]
  },
  {
   "cell_type": "code",
   "execution_count": 26,
   "id": "79549fb1",
   "metadata": {},
   "outputs": [],
   "source": [
    "def gauss_seidel_sor(A, b, x0, omega, toll, itmax):\n",
    "    err = toll\n",
    "    x = []\n",
    "    n = A.shape[0]\n",
    "\n",
    "    D = np.diag(A)\n",
    "    D = np.diag(D)\n",
    "    E = np.tril(A, -1)\n",
    "    F = np.triu(A, 1)\n",
    "    Momega = npl.inv(D + (omega * E))\n",
    "    Nomega = ((1 - omega) * D) - (omega * F)\n",
    "    T = np.dot(Momega, Nomega)\n",
    "    \n",
    "    autoval = npl.eigvals(T)\n",
    "    raggiospettrale = np.max(np.abs(autoval))\n",
    "    print(\"raggio spettrale Gauss-Seidel: \", raggiospettrale)\n",
    "\n",
    "    M = E + D\n",
    "    N = -F\n",
    "\n",
    "    it = 0\n",
    "    err_vet = []\n",
    "    xold = x0.copy()\n",
    "    xnew = x0.copy()\n",
    "    while it <= itmax and err >= toll:\n",
    "        t = b - np.dot(F, xold)\n",
    "        xtilde, flag = Lsolve(M, t)\n",
    "        xnew = (1 - omega) * xold + omega * xtilde\n",
    "        err = npl.norm(xnew - xold) / npl.norm(xnew)\n",
    "        err_vet.append(err)\n",
    "        xold = xnew.copy()\n",
    "        it += 1\n",
    "\n",
    "    return x, it, err_vet"
   ]
  },
  {
   "cell_type": "code",
   "execution_count": 29,
   "id": "92a645d3",
   "metadata": {},
   "outputs": [
    {
     "name": "stdout",
     "output_type": "stream",
     "text": [
      "raggio spettrale Gauss-Seidel:  0.8745350604104057\n",
      "sol=\n",
      "  [] \n",
      " it  102\n"
     ]
    },
    {
     "data": {
      "image/png": "[encoded data removed]",
      "text/plain": [
       "<Figure size 640x480 with 1 Axes>"
      ]
     },
     "metadata": {},
     "output_type": "display_data"
    }
   ],
   "source": [
    "A=np.array([[4,1,3],[3,4,1],[1,1,17]])\n",
    "m, n = A.shape\n",
    "b = np.sum(A, axis=1).reshape(m, 1)\n",
    "toll = 1e-8\n",
    "itmax = 500\n",
    "x0 = np.zeros(m).reshape(m, 1)\n",
    "sol, it, err_vet = gauss_seidel_sor(A, b, x0, 0.2, toll, itmax)\n",
    "plt.semilogy(np.arange(it), err_vet)\n",
    "print(\"sol=\\n \",sol,\"\\n it \",it)"
   ]
  },
  {
   "attachments": {},
   "cell_type": "markdown",
   "id": "0a6df5f9-ad94-4a81-b55a-19afe9b82064",
   "metadata": {},
   "source": [
    "## Esercizio 11\n",
    "Scrivere una funzione creaPoisson(n) che preso in input l'ordine della matrice quadrata di Poisson la costruzione secondo la seguente formula:\n",
    "$$A =\n",
    "\\left [\n",
    "\\begin{array}{ccccccccccc}\n",
    "4 & -1 & 0 & -1 &0 &0 & 0& 0& \\cdots &   0 & 0\\\\\n",
    "-1 & 4 & -1 & 0  &-1 &0 & 0& 0& \\cdots &   0 & 0\\\\\n",
    "0 & -1 & 4 & -1  &0 &-1 & 0& 0& \\cdots &   0 & 0 \\\\\n",
    "-1 & 0 & -1 & 4  &-1 &0  & -1 & 0& \\cdots &   0 & 0\\\\\n",
    "0 & -1 & 0 & -1  & 4 &-1 & 0 & -1& \\cdots &   0 & 0\\\\\n",
    "0 & 0 & -1 & 0  & -1 &4 & -1 & 0&  -1 & 0 & 0 \\\\\n",
    "0 & 0 & 0 & \\ddots  & 0 &\\ddots & \\ddots & \\ddots& \\ddots & \\ddots & 0\\\\\n",
    "0 & 0 & 0 & 0  & -1 &0  & -1 & 4& -1 &   0& -1\\\\\n",
    "\\end{array}\n",
    " \\right ], \\qquad\n",
    "$$\n",
    "- Risolvere il sistema lineare Ax=b con matrice dei coefficienti A di Poisson di ordine 10 e termine noto b scelto in maniera tale che il sistema abbia soluzione il vettore x con tutte le componenti  uguali ad 1, utilizzando  il metodo iterativo di Jacobi, Gauss-Seidel e Gauss-Seidel-Sor con parametro omega scelto tra 1 e 2 in maniera tale che il raggio spettrale della matrice di iterazione sia il più piccolo possibile e confrontare su un unico grafico l'andamento degli errori in scala logaritmica. Usare toll=1e-10."
   ]
  },
  {
   "cell_type": "code",
   "execution_count": 38,
   "id": "c9c7f5a7",
   "metadata": {},
   "outputs": [
    {
     "name": "stdout",
     "output_type": "stream",
     "text": [
      "[[ 4. -1.  0. -1.  0.  0.  0.  0.  0.  0.]\n",
      " [-1.  4. -1.  0. -1.  0.  0.  0.  0.  0.]\n",
      " [ 0. -1.  4. -1.  0. -1.  0.  0.  0.  0.]\n",
      " [-1.  0. -1.  4. -1.  0. -1.  0.  0.  0.]\n",
      " [ 0. -1.  0. -1.  4. -1.  0. -1.  0.  0.]\n",
      " [ 0.  0. -1.  0. -1.  4. -1.  0. -1.  0.]\n",
      " [ 0.  0.  0. -1.  0. -1.  4. -1.  0. -1.]\n",
      " [ 0.  0.  0.  0. -1.  0. -1.  4. -1.  0.]\n",
      " [ 0.  0.  0.  0.  0. -1.  0. -1.  4. -1.]\n",
      " [ 0.  0.  0.  0.  0.  0. -1.  0. -1.  4.]]\n"
     ]
    }
   ],
   "source": [
    "def creaPoisson(n):\n",
    "    A = np.zeros((n, n))\n",
    "    d = np.ones((n,)) * 4\n",
    "    e = -np.ones((n-1,))\n",
    "    f = -np.ones((n-3,))\n",
    "    A = np.diag(d) + np.diag(e, k=1) + np.diag(e, k=-1) + np.diag(f, k=3) + np.diag(f, k=-3)\n",
    "    return A\n",
    "print(creaPoisson(10))"
   ]
  },
  {
   "attachments": {},
   "cell_type": "markdown",
   "id": "186ca402-f3bd-4d8e-b930-11746a839678",
   "metadata": {},
   "source": [
    "## Esercizio 12\n",
    "Implementare una funzione **steepestdescent(A,b,x0,itmax,tol)** che implementa il metodo di discesa più ripida del gradiente per risolvere il sistema lineare Ax=b, con A matrice simmetrica e definita positiva. La funzione prende in input:\n",
    "- A: matrice dei coefficienti\n",
    "- b: termine noto\n",
    "- x0: vettore iniziale della stessa dimensione di b\n",
    "- itmax: iterazioni massime oltre le quali il metodo si ferma\n",
    "- toll: tolleranza per il criterio di arresto\n",
    "\n",
    "e restituisce in output:\n",
    "- il vettore soluzione\n",
    "- un vettore di tante componenti quanto il numero di iterazioni effettuate, contenente la\n",
    "  norma del residuo iterazione per iterazione\n",
    "- il numero di iterazioni impiegate per calcolare la soluzione con la tolleranza richiesta\n",
    "\n",
    "Usare come criterio di arresto $norm(r(k),2) < toll$"
   ]
  },
  {
   "attachments": {},
   "cell_type": "markdown",
   "id": "3a42d682-1775-4ed6-b65a-2666ba309df7",
   "metadata": {},
   "source": [
    "## Esercizio 13\n",
    "Testare il metodo del gradiente sull'esempio dell'esercizio 11"
   ]
  },
  {
   "cell_type": "code",
   "execution_count": null,
   "id": "2efd5c81-967d-4692-b754-af12452eeba0",
   "metadata": {},
   "outputs": [],
   "source": []
  }
 ],
 "metadata": {
  "kernelspec": {
   "display_name": "Python 3 (ipykernel)",
   "language": "python",
   "name": "python3"
  },
  "language_info": {
   "codemirror_mode": {
    "name": "ipython",
    "version": 3
   },
   "file_extension": ".py",
   "mimetype": "text/x-python",
   "name": "python",
   "nbconvert_exporter": "python",
   "pygments_lexer": "ipython3",
   "version": "3.10.6"
  }
 },
 "nbformat": 4,
 "nbformat_minor": 5
}
