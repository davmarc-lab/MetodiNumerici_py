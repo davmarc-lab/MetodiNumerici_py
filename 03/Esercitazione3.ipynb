{
 "cells": [
  {
   "cell_type": "markdown",
   "id": "cd8d6a57-49d8-4eab-bb0f-107b277ad3d1",
   "metadata": {},
   "source": [
    "## Esercizi sui Numpy array  7 Marzo 2023\n"
   ]
  },
  {
   "cell_type": "code",
   "execution_count": 1,
   "id": "b56b6fe2",
   "metadata": {},
   "outputs": [],
   "source": [
    "import numpy as np"
   ]
  },
  {
   "cell_type": "markdown",
   "id": "e84277dd-60f6-4f68-a215-01a84d73523e",
   "metadata": {},
   "source": [
    "- **0.** Costruisci un numpy array con 2000000 elementi equidistanti nell'intervallo [0,4] utilizzando il linspace e con il metodo che assegna i valori in un ciclo dopo aver definito il passo e confronta il tempo di esecuzione delle due modalità di costruzione."
   ]
  },
  {
   "cell_type": "code",
   "execution_count": 10,
   "id": "d5bb23d0",
   "metadata": {},
   "outputs": [
    {
     "name": "stdout",
     "output_type": "stream",
     "text": [
      "[0.000000e+00 2.000001e-06 4.000002e-06 ... 3.999996e+00 3.999998e+00\n",
      " 4.000000e+00]\n"
     ]
    }
   ],
   "source": [
    "arr = np.linspace(0, 4, 2000000)\n",
    "print(arr)"
   ]
  },
  {
   "cell_type": "markdown",
   "id": "55088af4-a3a4-452b-9f39-38327eba5ab0",
   "metadata": {},
   "source": [
    "- **1.**  Costruire un numpy array 1d, denominato  `c`, di valori equidistanti che variano tra 7 e 41 con step 2 e trasformarlo in un numpy array 2d, denominato `C1` , con shape(2,9) applicando il metodo `.reshape((m,n))` a c. \n",
    "\n",
    "  Si tratta di una copia o di una `vista dell'array originale` con una nuova shape, con dati condivisi con l'array originale?\n"
   ]
  },
  {
   "cell_type": "code",
   "execution_count": 11,
   "id": "8496a691",
   "metadata": {},
   "outputs": [
    {
     "name": "stdout",
     "output_type": "stream",
     "text": [
      "[ 7  9 11 13 15 17 19 21 23 25 27 29 31 33 35 37 39 41] \n",
      " [[ 7  9 11 13 15 17 19 21 23]\n",
      " [25 27 29 31 33 35 37 39 41]]\n"
     ]
    }
   ],
   "source": [
    "c = np.arange(7, 42, 2)\n",
    "c1 = np.reshape(c, (2, 9))\n",
    "print(c, \"\\n\",c1)"
   ]
  },
  {
   "cell_type": "markdown",
   "id": "62109805-3fdd-4ceb-b478-7e0c1652ef6b",
   "metadata": {},
   "source": [
    "Importa il modulo numpy"
   ]
  },
  {
   "cell_type": "markdown",
   "id": "7b81197a-a950-48ab-8e75-31855ac69d9d",
   "metadata": {},
   "source": [
    " - **2.** Costruire un numpy array 1d, denominato $C$ di valori che variano tra 15 e 41 con step 2 e trasformarlo in un numpy array 2d con shape(7,2) usando il metodo .`resize(7,2)` che lavora in-place,  (cioè  modifica l'array esistente, senza creare una copia). Verificare la shape di C"
   ]
  },
  {
   "cell_type": "code",
   "execution_count": 15,
   "id": "702906a3",
   "metadata": {},
   "outputs": [
    {
     "name": "stdout",
     "output_type": "stream",
     "text": [
      "(7, 2)\n"
     ]
    }
   ],
   "source": [
    "c = np.arange(15, 42, 2)\n",
    "c.resize(7, 2)\n",
    "print(c.shape)"
   ]
  },
  {
   "cell_type": "markdown",
   "id": "65a55a8f-1b6d-474d-a012-8e83ca167588",
   "metadata": {},
   "source": [
    "- **3.** Costruire un numpy array 1d $c$ di valori che variano tra 15 e 41 con step 2 e trasformarlo in un numpy array 2d con shape(7,2) usando la funzione `reshape`. Verificare se la funzione  `reshape` restituisce una copia oppure una vista. "
   ]
  },
  {
   "cell_type": "code",
   "execution_count": 21,
   "id": "6819faff",
   "metadata": {},
   "outputs": [
    {
     "name": "stdout",
     "output_type": "stream",
     "text": [
      "int64 (14,)\n"
     ]
    }
   ],
   "source": [
    "c = np.arange(15, 42, 2)\n",
    "c1 = c.reshape((7, 2))\n",
    "print(c1.dtype, c.shape)"
   ]
  },
  {
   "cell_type": "markdown",
   "id": "fa72fbdd-8a7a-419a-8067-6951f06e2de4",
   "metadata": {},
   "source": [
    "- **4.** Costruire un numpy array 1d $d$ di valori che variano tra 15 e 41 con step 2 e trasformarlo in un numpy array 2d con shape(7,2) usando la funzione `resize`. Verificare se la funzione  `resize` restituisce una copia oppure una vista. "
   ]
  },
  {
   "cell_type": "code",
   "execution_count": 8,
   "id": "0998af38",
   "metadata": {},
   "outputs": [
    {
     "name": "stdout",
     "output_type": "stream",
     "text": [
      "int64 (7, 2)\n"
     ]
    }
   ],
   "source": [
    "d = np.arange(15, 42, 2)\n",
    "d.resize(7, 2)\n",
    "print(d.dtype, d.shape)"
   ]
  },
  {
   "cell_type": "markdown",
   "id": "d1adc080-9ce4-404c-ba18-c831f2625214",
   "metadata": {},
   "source": [
    "- **5.** Dato il numpy array s formato da 100 valori equidistanti in  [0,4], considerarne il reshape in un array 2d che ha 4 righe con un numero opportuno di colonne"
   ]
  },
  {
   "cell_type": "code",
   "execution_count": 35,
   "id": "b7889848",
   "metadata": {},
   "outputs": [
    {
     "name": "stdout",
     "output_type": "stream",
     "text": [
      "(4, 25)\n"
     ]
    }
   ],
   "source": [
    "s = np.linspace(0, 4, 100)\n",
    "s1 = s.reshape((4, 100 // 4))\n",
    "print(s1.shape)"
   ]
  },
  {
   "cell_type": "markdown",
   "id": "d40f5d7a-4808-4004-b806-b8b75bcaa01b",
   "metadata": {},
   "source": [
    "- **6.** Dato il numpy array s formato da 100 valori equidistanti in  [0,4], considerarne il reshape in un array 2d che ha 4 colonne con un numero opportuno di righe"
   ]
  },
  {
   "cell_type": "code",
   "execution_count": 36,
   "id": "eceff79f",
   "metadata": {},
   "outputs": [
    {
     "name": "stdout",
     "output_type": "stream",
     "text": [
      "(25, 4)\n"
     ]
    }
   ],
   "source": [
    "s1 = s.reshape((100 // 4, 4))\n",
    "print(s1.shape)"
   ]
  },
  {
   "cell_type": "markdown",
   "id": "19559c2a-0ac7-4d4a-b6ff-38e58843b3b6",
   "metadata": {},
   "source": [
    " - **7.** Scrivere il numpy  array 2d [[10,11,12],[13,14,15],[16,17,18]] e trasformarlo in un numpy array 1d usando i metodi `.ravel()` e `.flatten()`. Verificare che flatten restituisce una copia mentre ravel restituisce una vista."
   ]
  },
  {
   "cell_type": "code",
   "execution_count": 3,
   "id": "69068d6f",
   "metadata": {},
   "outputs": [
    {
     "name": "stdout",
     "output_type": "stream",
     "text": [
      "[10 11 12 13 14 15 16 17 18] \n",
      " [10 11 12 13 14 15 16 17 18]\n"
     ]
    }
   ],
   "source": [
    "a = np.arange(10, 19).reshape((3, 3))\n",
    "print(a.flatten(), \"\\n\", a.ravel())"
   ]
  },
  {
   "cell_type": "markdown",
   "id": "c77c2529-d680-42c9-9231-3aca724b1c12",
   "metadata": {},
   "source": [
    " - **8.** creare i due  numpy array 1d\n",
    "f1= [ 0  1  2  3  4  5  6  7  8  9 10 11 12 13 14 15] ed \n",
    "f2= [16 17 18 19 20 21 22 23 24 25 26 27 28 29 30 31]\n",
    "\"vederli\" come matrici  4x4 ed effettuarne il prodotto scalare, memorizzando in f3 la matrice che nasce dal loro prodotto."
   ]
  },
  {
   "cell_type": "code",
   "execution_count": 10,
   "metadata": {},
   "outputs": [
    {
     "name": "stdout",
     "output_type": "stream",
     "text": [
      "[[ 152  158  164  170]\n",
      " [ 504  526  548  570]\n",
      " [ 856  894  932  970]\n",
      " [1208 1262 1316 1370]]\n"
     ]
    }
   ],
   "source": [
    "f1 = np.arange(0, 16)\n",
    "f2 = np.arange(16, 32)\n",
    "f3 = np.dot(f1.reshape((4, 4)), f2.reshape((4, 4)))\n",
    "print (f3)"
   ]
  },
  {
   "cell_type": "markdown",
   "id": "c9249961-c220-46c0-9e0d-e59dfefe662c",
   "metadata": {},
   "source": [
    "- **9.**                Dati :\n",
    " - Numpy Array A di shape (2,10) : array di valori random campionati da una distribuzione gaussiana con media 0 e varianza 1.\n",
    " - Numpy array 1D B di shape (20,) formato dagli interi da 0 a 19.\n",
    " \n",
    "\"Vedere\" A come un array 1D di 20 elementi ed effettuare la somma di A+B\n",
    "\n"
   ]
  },
  {
   "cell_type": "code",
   "execution_count": 25,
   "id": "ce109602",
   "metadata": {},
   "outputs": [
    {
     "name": "stdout",
     "output_type": "stream",
     "text": [
      "[ 0.76785483  0.81074428  3.71965846  2.64790355  5.30147174  2.80781245\n",
      "  5.25169352  6.75272649  6.97744225  8.39515596 10.50238457 12.72615099\n",
      " 11.90234646 15.14182508 14.1312236  16.15787645 16.68794177 15.35659258\n",
      " 18.7803259  20.01818217]\n"
     ]
    }
   ],
   "source": [
    "a = np.random.randn(2, 10)\n",
    "b = np.arange(0, 20)\n",
    "a = a.flatten()\n",
    "print(a + b)"
   ]
  },
  {
   "cell_type": "markdown",
   "id": "7f6cf29e-d14a-46c9-8f35-e66151a9e0a3",
   "metadata": {},
   "source": [
    " - **10.** Creare un array 2D di shape (5,5), denominato B2, con valori tutti uguali a 15.\n",
    "Creare una copia B3 di B2. Modificare l'elemento B3[0,0] assegnandogli il valore 150. \n",
    "Stampare il numpy array B2 ed il numpy array B3 e verificare che B2, dopo la modifica di B3, è rimasto inalterato"
   ]
  },
  {
   "cell_type": "code",
   "execution_count": 30,
   "id": "c2029631",
   "metadata": {},
   "outputs": [
    {
     "name": "stdout",
     "output_type": "stream",
     "text": [
      "[[15 15 15 15 15]\n",
      " [15 15 15 15 15]\n",
      " [15 15 15 15 15]\n",
      " [15 15 15 15 15]\n",
      " [15 15 15 15 15]] \n",
      " [[150  15  15  15  15]\n",
      " [ 15  15  15  15  15]\n",
      " [ 15  15  15  15  15]\n",
      " [ 15  15  15  15  15]\n",
      " [ 15  15  15  15  15]]\n"
     ]
    }
   ],
   "source": [
    "b2 = np.full((5, 5), 15)\n",
    "b3 = b2.copy()\n",
    "b3[0][0] = 150\n",
    "print(b2, \"\\n\", b3)"
   ]
  },
  {
   "cell_type": "markdown",
   "id": "22c456d1-2897-412c-99c1-e9b19cbab4e7",
   "metadata": {},
   "source": [
    " - **11.** - Dato un numpy array 1D, di shape (10,) denominato `f`, costituito da 10 valori equidistanti nell'intervallo [0,1], aumentarne la dimensionalità, in maniera tale che abbia shape (10,1)"
   ]
  },
  {
   "cell_type": "code",
   "execution_count": 3,
   "id": "8e7835ca",
   "metadata": {},
   "outputs": [
    {
     "data": {
      "text/plain": [
       "array([[0.        ],\n",
       "       [0.11111111],\n",
       "       [0.22222222],\n",
       "       [0.33333333],\n",
       "       [0.44444444],\n",
       "       [0.55555556],\n",
       "       [0.66666667],\n",
       "       [0.77777778],\n",
       "       [0.88888889],\n",
       "       [1.        ]])"
      ]
     },
     "execution_count": 3,
     "metadata": {},
     "output_type": "execute_result"
    }
   ],
   "source": [
    "f = np.linspace(0, 1, 10)\n",
    "f.reshape((10, 1))"
   ]
  },
  {
   "cell_type": "markdown",
   "id": "2866db7c-cbcb-431e-bc6a-2645577a65e8",
   "metadata": {},
   "source": [
    "- **12.** Dati i seguenti numpy array\n",
    "  - a= np.array([14,13,12,11])\n",
    "  - b=np.array([[4,3,2,1],[9,10,11,12]])\n",
    "\n",
    "  Costruire il numpy array che si ottiene concatenando a e b per righe\n"
   ]
  },
  {
   "cell_type": "code",
   "execution_count": 14,
   "id": "56272137",
   "metadata": {},
   "outputs": [
    {
     "name": "stdout",
     "output_type": "stream",
     "text": [
      "[[14 13 12 11]\n",
      " [ 4  3  2  1]\n",
      " [ 9 10 11 12]]\n"
     ]
    }
   ],
   "source": [
    "a = np.array([14, 13, 12, 11]).reshape(1, 4)\n",
    "b = np.array([[4, 3, 2, 1], [9, 10, 11, 12]])\n",
    "res = np.concatenate((a, b))\n",
    "print(res)"
   ]
  },
  {
   "cell_type": "markdown",
   "id": "d57c7290-27ce-4dce-a8e2-6b89124ed223",
   "metadata": {},
   "source": [
    "- **13.** - Dati i seguenti numpy array\n",
    "  - a= np.array([14,13,12,11])\n",
    "  - b=np.array([[4,3,2,1],[9,10,11,12],[4,3,2,1],[9,10,11,12]])\n",
    "\n",
    "  Costruire il numpy array che si ottiene concatenando a e b per colonne"
   ]
  },
  {
   "cell_type": "code",
   "execution_count": 20,
   "id": "adc2974c",
   "metadata": {},
   "outputs": [
    {
     "name": "stdout",
     "output_type": "stream",
     "text": [
      "[[14  4  3  2  1]\n",
      " [13  9 10 11 12]\n",
      " [12  4  3  2  1]\n",
      " [11  9 10 11 12]]\n"
     ]
    }
   ],
   "source": [
    "a = np.array([14, 13, 12, 11]).reshape(4, 1)\n",
    "b = np.array([[4, 3, 2, 1], [9, 10, 11, 12], [4, 3, 2, 1], [9, 10, 11, 12]])\n",
    "res = np.concatenate((a, b), axis=1)\n",
    "print(res)"
   ]
  },
  {
   "cell_type": "markdown",
   "id": "7c6eb421-0e1f-445b-b72f-7d2a2451fcb4",
   "metadata": {},
   "source": [
    "- **14.** Costruisci la matrice tridiagonale A di ordine 10, che ha elementi diagonali $A_{i,i}=10$, i=1,20, elementi nella codiagonale inferiore $A_{i-1,i}=-12$ i=2,..,20\n",
    "elementi nella codiagonale superiore $A_{i,i+1}=-2$ i=1,..,19"
   ]
  },
  {
   "cell_type": "code",
   "execution_count": 26,
   "id": "6c28ed31",
   "metadata": {},
   "outputs": [
    {
     "name": "stdout",
     "output_type": "stream",
     "text": [
      "[[ 10  -2   0   0   0   0   0   0   0   0]\n",
      " [-12  10  -2   0   0   0   0   0   0   0]\n",
      " [  0 -12  10  -2   0   0   0   0   0   0]\n",
      " [  0   0 -12  10  -2   0   0   0   0   0]\n",
      " [  0   0   0 -12  10  -2   0   0   0   0]\n",
      " [  0   0   0   0 -12  10  -2   0   0   0]\n",
      " [  0   0   0   0   0 -12  10  -2   0   0]\n",
      " [  0   0   0   0   0   0 -12  10  -2   0]\n",
      " [  0   0   0   0   0   0   0 -12  10  -2]\n",
      " [  0   0   0   0   0   0   0   0 -12  10]]\n"
     ]
    }
   ],
   "source": [
    "a = np.diag([10 for x in range(10)])\n",
    "b = np.diag([-12 for x in range(9)], k=-1)\n",
    "c = np.diag([-2 for x in range(9)], k=1)\n",
    "A = a + b + c\n",
    "print(A)"
   ]
  },
  {
   "cell_type": "markdown",
   "id": "bae8a3dc-e71c-4ff4-8062-2d66c377d63f",
   "metadata": {},
   "source": [
    " - **15** Costruire la matrice identità della stessa dimensione di A"
   ]
  },
  {
   "cell_type": "code",
   "execution_count": 34,
   "metadata": {},
   "outputs": [
    {
     "name": "stdout",
     "output_type": "stream",
     "text": [
      "[[1. 0. 0. 0. 0. 0. 0. 0. 0. 0.]\n",
      " [0. 1. 0. 0. 0. 0. 0. 0. 0. 0.]\n",
      " [0. 0. 1. 0. 0. 0. 0. 0. 0. 0.]\n",
      " [0. 0. 0. 1. 0. 0. 0. 0. 0. 0.]\n",
      " [0. 0. 0. 0. 1. 0. 0. 0. 0. 0.]\n",
      " [0. 0. 0. 0. 0. 1. 0. 0. 0. 0.]\n",
      " [0. 0. 0. 0. 0. 0. 1. 0. 0. 0.]\n",
      " [0. 0. 0. 0. 0. 0. 0. 1. 0. 0.]\n",
      " [0. 0. 0. 0. 0. 0. 0. 0. 1. 0.]\n",
      " [0. 0. 0. 0. 0. 0. 0. 0. 0. 1.]]\n"
     ]
    }
   ],
   "source": [
    "id = np.identity(len(A))\n",
    "print(id)"
   ]
  },
  {
   "cell_type": "markdown",
   "id": "612458f4-d8f6-4015-ae74-042d73cbd9f9",
   "metadata": {},
   "source": [
    "- **16.** Selezionare dalla matrice A le righe che vanno dalla 2 alla 9 con step 2 e le colonne che vanno dalla 3 alla 6 con step 2\n"
   ]
  },
  {
   "cell_type": "code",
   "execution_count": 40,
   "id": "ec2ac67e",
   "metadata": {},
   "outputs": [
    {
     "name": "stdout",
     "output_type": "stream",
     "text": [
      "[[ -2   0]\n",
      " [-12  -2]\n",
      " [  0 -12]\n",
      " [  0   0]]\n"
     ]
    }
   ],
   "source": [
    "print(A[2:9:2, 3:6:2])"
   ]
  },
  {
   "cell_type": "markdown",
   "id": "db2a4f82-fe57-4763-bd58-9921869c671c",
   "metadata": {},
   "source": [
    "- **17.** A1 è una vista di A, come trasformarla in copia?"
   ]
  },
  {
   "cell_type": "code",
   "execution_count": 41,
   "id": "5712fb87",
   "metadata": {},
   "outputs": [],
   "source": [
    "A1 = A.copy()"
   ]
  },
  {
   "cell_type": "markdown",
   "id": "f5a336bc-5cf9-4400-ae23-4be1f35521de",
   "metadata": {
    "tags": []
   },
   "source": [
    "- **18.** Costruisci due numpy array di shape (5,5) \n",
    "   - A formata da numeri interi casuali  nell'intervallo [1,20]\n",
    "   - B formata da numeri interi casuali  nell'intervallo [1,6]\n",
    " \n",
    "  Costruisci in modalità element-wise le matrici\n",
    "  C=A+B\n",
    "  D=A-B\n",
    "  E=A*B\n",
    "  F=A\\B"
   ]
  },
  {
   "cell_type": "code",
   "execution_count": 85,
   "id": "a5b6696a",
   "metadata": {},
   "outputs": [
    {
     "name": "stdout",
     "output_type": "stream",
     "text": [
      "[[16 12 15 24  7]\n",
      " [ 5 19 21 21 10]\n",
      " [ 4 21  8 23 18]\n",
      " [21 19 21 13 13]\n",
      " [26 19 24  6 18]]\n",
      "[[14  8 11 16 -1]\n",
      " [ 1 15 19  9  0]\n",
      " [-2 13  4 15 14]\n",
      " [13 13  9  1 11]\n",
      " [14  9 14  0 14]]\n",
      "[[ 15  20  26  80  12]\n",
      " [  6  34  20  90  25]\n",
      " [  3  68  12  76  32]\n",
      " [ 68  48  90  42  12]\n",
      " [120  70  95   9  32]]\n",
      "[[15.          5.          6.5         5.          0.75      ]\n",
      " [ 1.5         8.5        20.          2.5         1.        ]\n",
      " [ 0.33333333  4.25        3.          4.75        8.        ]\n",
      " [ 4.25        5.33333333  2.5         1.16666667 12.        ]\n",
      " [ 3.33333333  2.8         3.8         1.          8.        ]]\n"
     ]
    }
   ],
   "source": [
    "A = np.random.randint(1, 21, (5, 5))\n",
    "B = np.random.randint(1, 7, (5, 5))\n",
    "C = A + B\n",
    "D = A - B\n",
    "E = A * B\n",
    "F = A / B\n",
    "print(C)\n",
    "print(D)\n",
    "print(E)\n",
    "print(F)\n"
   ]
  },
  {
   "cell_type": "markdown",
   "id": "43fad425-0411-4471-962e-c79247aecb83",
   "metadata": {},
   "source": [
    "- **19.** Costruisci il prodotto scalare tra le  matrici A e B (righe per colonne)"
   ]
  },
  {
   "cell_type": "code",
   "execution_count": 86,
   "id": "854ce3f4",
   "metadata": {},
   "outputs": [
    {
     "name": "stdout",
     "output_type": "stream",
     "text": [
      "[[172 177 201 301 162]\n",
      " [187 190 178 299 162]\n",
      " [225 197 225 292 152]\n",
      " [194 207 182 302 209]\n",
      " [213 233 190 306 223]]\n"
     ]
    }
   ],
   "source": [
    "print(np.dot(A, B))"
   ]
  },
  {
   "cell_type": "markdown",
   "id": "e6ae130a-1d6c-429b-ab62-718ff805d9bc",
   "metadata": {},
   "source": [
    "- **20.** Somma gli elementi delle righe della matrice B"
   ]
  },
  {
   "cell_type": "code",
   "execution_count": 87,
   "id": "37690026",
   "metadata": {},
   "outputs": [
    {
     "name": "stdout",
     "output_type": "stream",
     "text": [
      "[16 16 16 23 14]\n"
     ]
    }
   ],
   "source": [
    "print(np.sum(B, axis=0))"
   ]
  },
  {
   "cell_type": "markdown",
   "id": "4cb04c63-c9c6-41a8-8e62-bc4497a4251b",
   "metadata": {},
   "source": [
    "- **21.** Somma gli elementi delle colonne della matrice B"
   ]
  },
  {
   "cell_type": "code",
   "execution_count": 88,
   "id": "958a90cf",
   "metadata": {},
   "outputs": [
    {
     "name": "stdout",
     "output_type": "stream",
     "text": [
      "[13 16 15 20 21]\n"
     ]
    }
   ],
   "source": [
    "print(np.sum(B, axis=1))"
   ]
  },
  {
   "cell_type": "markdown",
   "id": "5715d0db-b005-4256-86a0-4a94a46fdd96",
   "metadata": {},
   "source": [
    "- **22.** Somma tutti gli elementi di B"
   ]
  },
  {
   "cell_type": "code",
   "execution_count": 89,
   "id": "000cc47b",
   "metadata": {},
   "outputs": [
    {
     "name": "stdout",
     "output_type": "stream",
     "text": [
      "85\n"
     ]
    }
   ],
   "source": [
    "print(np.sum(B))"
   ]
  },
  {
   "cell_type": "markdown",
   "id": "337c76cc-d82b-4bbb-a57c-52080a6aa9cb",
   "metadata": {},
   "source": [
    "- **23.** Calcolare il minimo degli elementi di B, tra le righe, tra le colonne, il minimo di tutta la matrice B"
   ]
  },
  {
   "cell_type": "code",
   "execution_count": 90,
   "id": "430d99a3",
   "metadata": {},
   "outputs": [
    {
     "name": "stdout",
     "output_type": "stream",
     "text": [
      "[1 2 1 3 1]\n",
      "[1 1 2 1 2]\n",
      "1\n"
     ]
    }
   ],
   "source": [
    "print(np.min(B, axis=0))\n",
    "print(np.min(B, axis=1))\n",
    "print(np.min(B))"
   ]
  },
  {
   "cell_type": "markdown",
   "id": "30bc84d9-f2ff-42aa-95ee-b10d69e50762",
   "metadata": {},
   "source": [
    "- **24** Calcola, memorizzando in un vettore, la somma degli elementi di ogni colonna di $ |B |$. Calcola successivamente il massimo di questo vettore.\n",
    "$cmaxc= \\max_{j=1,n} \\sum_{i} |b_{ij}|$"
   ]
  },
  {
   "cell_type": "code",
   "execution_count": 91,
   "id": "d2169b10",
   "metadata": {},
   "outputs": [
    {
     "name": "stdout",
     "output_type": "stream",
     "text": [
      "21\n"
     ]
    }
   ],
   "source": [
    "y = np.sum(B, axis=1)\n",
    "print(y.max())"
   ]
  },
  {
   "cell_type": "markdown",
   "id": "7763e180-a6f1-41d3-9af7-4fb92bacd72d",
   "metadata": {},
   "source": [
    "- **25.** Calcola, memorizzando in un vettore, la somma degli elementi di ogni riga  di $ |B |$. Calcola successivamente il massimo di questo vettore.\n",
    "$cmaxr= \\max_{i=1,n} \\sum_{j} |b_{ij}|$"
   ]
  },
  {
   "cell_type": "code",
   "execution_count": 92,
   "id": "662a6b79",
   "metadata": {},
   "outputs": [
    {
     "name": "stdout",
     "output_type": "stream",
     "text": [
      "23\n"
     ]
    }
   ],
   "source": [
    "x = np.sum(B, axis=0)\n",
    "print(x.max())"
   ]
  },
  {
   "cell_type": "markdown",
   "id": "89a136bb-2e23-4fca-9717-d32434f5f5ce",
   "metadata": {},
   "source": [
    "- **26.** Effettua nella matrice B lo scambio tra la  riga 2 e  la riga 3"
   ]
  },
  {
   "cell_type": "code",
   "execution_count": 98,
   "id": "872df75c",
   "metadata": {},
   "outputs": [
    {
     "name": "stdout",
     "output_type": "stream",
     "text": [
      "[[1 2 2 4 4]\n",
      " [2 2 1 6 5]\n",
      " [4 3 6 6 1]\n",
      " [3 4 2 4 2]\n",
      " [6 5 5 3 2]]\n",
      "[[1 2 2 4 4]\n",
      " [4 3 6 6 1]\n",
      " [2 2 1 6 5]\n",
      " [3 4 2 4 2]\n",
      " [6 5 5 3 2]]\n"
     ]
    }
   ],
   "source": [
    "print(B)\n",
    "# tmp = B[1].copy()\n",
    "# B[1] = B[2]\n",
    "# B[2] = tmp\n",
    "# print(B)\n",
    "\n",
    "# oppure\n",
    "B[[1, 2], :] = B[[2, 1], :]\n",
    "print(B)"
   ]
  },
  {
   "cell_type": "markdown",
   "id": "5a00eaef-f14c-49f9-b9d1-c8ad90627935",
   "metadata": {},
   "source": [
    " - **27.** Calcola il valore massimo della colonna 0-esima della matrice B e l'indice di riga a cui appartiene"
   ]
  },
  {
   "cell_type": "code",
   "execution_count": 107,
   "id": "d706c9f0",
   "metadata": {},
   "outputs": [
    {
     "name": "stdout",
     "output_type": "stream",
     "text": [
      "Max number:  6\n",
      "Index:  4\n"
     ]
    }
   ],
   "source": [
    "max = np.max(B[:, 0])\n",
    "print(\"Max number: \", max)\n",
    "index = np.argmax(B[:, 0])\n",
    "print(\"Index: \", index)"
   ]
  },
  {
   "cell_type": "markdown",
   "id": "12be327e-41a9-4700-82b2-f78709585ce3",
   "metadata": {},
   "source": [
    "- **28.** Scrivi una funzione border(m,n) per creare un array 2D di shape(m,n) che abbia tutti valori zero, ad eccezione degli elementi attorno al bordo (ovvero la prima e l'ultima riga e la prima e l'ultima colonna), che deve avere un valore pari a uno. Prevedi un argomento di default che se impostato a True visualizza la matrice "
   ]
  },
  {
   "cell_type": "code",
   "execution_count": 125,
   "id": "9b27058f",
   "metadata": {},
   "outputs": [
    {
     "name": "stdout",
     "output_type": "stream",
     "text": [
      "Out:  [[1 1 1 1 1 1]\n",
      " [1 0 0 0 0 1]\n",
      " [1 0 0 0 0 1]\n",
      " [1 0 0 0 0 1]\n",
      " [1 0 0 0 0 1]\n",
      " [1 1 1 1 1 1]]\n"
     ]
    },
    {
     "data": {
      "text/plain": [
       "array([[1, 1, 1, 1, 1, 1],\n",
       "       [1, 0, 0, 0, 0, 1],\n",
       "       [1, 0, 0, 0, 0, 1],\n",
       "       [1, 0, 0, 0, 0, 1],\n",
       "       [1, 0, 0, 0, 0, 1],\n",
       "       [1, 1, 1, 1, 1, 1]])"
      ]
     },
     "execution_count": 125,
     "metadata": {},
     "output_type": "execute_result"
    }
   ],
   "source": [
    "def border(m, n, out=False) :\n",
    "    A = np.zeros((m, n), dtype=int)\n",
    "    A[:, 0] = A[:, n - 1] = A[0, :] = A[m - 1, :] = 1\n",
    "    if out == True :\n",
    "        print(\"Out: \", A)\n",
    "    return A\n",
    "border(6, 6, out=True)\n"
   ]
  },
  {
   "cell_type": "markdown",
   "id": "20e88028-91cf-4f99-90b9-5d2f8148b3a9",
   "metadata": {},
   "source": [
    "- **29.** Scrivi una funzione `visualizza(f,a,b)`che prende in input una lambda function, gli estremi dell'intervallo su cui è definita e la visualizzi in una finestra grafica"
   ]
  },
  {
   "cell_type": "code",
   "execution_count": 139,
   "id": "1a375dd0",
   "metadata": {},
   "outputs": [
    {
     "data": {
      "image/png": "[encoded data removed]",
      "text/plain": [
       "<Figure size 640x480 with 1 Axes>"
      ]
     },
     "metadata": {},
     "output_type": "display_data"
    }
   ],
   "source": [
    "import matplotlib.pyplot as plt    \n",
    "def visualizza(f, a, b) :\n",
    "    x = np.linspace(a, b, 100)\n",
    "    y = f(x)\n",
    "    plt.plot(x, y)\n",
    "    plt.show()\n",
    "visualizza(lambda x: np.sin(x), -np.pi, np.pi)\n"
   ]
  },
  {
   "cell_type": "markdown",
   "id": "c4e0b8d0-b590-4554-9954-7333715b3c63",
   "metadata": {},
   "source": [
    "- **30.** Scrivi una funzione `visualizza2(f,a,b,f2,a2,b2)`che prende in input una lambda function f e gli estremi dell'intervallo su cui è definita, una lambda function f2 e gli estremi dell'intervallo su cui è definita, e l2 visualizzi sulla stessa finestra grafica"
   ]
  },
  {
   "cell_type": "code",
   "execution_count": 141,
   "id": "52a2cfe9",
   "metadata": {},
   "outputs": [
    {
     "data": {
      "image/png": "[encoded data removed]",
      "text/plain": [
       "<Figure size 640x480 with 1 Axes>"
      ]
     },
     "metadata": {},
     "output_type": "display_data"
    }
   ],
   "source": [
    "import matplotlib.pyplot as plt    \n",
    "def visualizza(f, a, b, f2, a2, b2) :\n",
    "    x = np.linspace(a, b, 100)\n",
    "    y = f(x)\n",
    "    x2 = np.linspace(a2, b2, 100)\n",
    "    y2 = f2(x2)\n",
    "    plt.plot(x, y)\n",
    "    plt.plot(x2, y2)\n",
    "    plt.grid()\n",
    "    plt.show()\n",
    "visualizza(lambda x: np.sin(x), -np.pi, np.pi, lambda x2: np.cos(x2), -np.pi, np.pi)"
   ]
  },
  {
   "cell_type": "markdown",
   "id": "46de23a7-2f43-4732-a9c4-a00a89098811",
   "metadata": {},
   "source": [
    "- "
   ]
  },
  {
   "cell_type": "code",
   "execution_count": null,
   "id": "7113b12c-8b69-4c98-8880-d4905f90f343",
   "metadata": {},
   "outputs": [],
   "source": []
  },
  {
   "cell_type": "code",
   "execution_count": null,
   "id": "ffe47da7-b9eb-4a0a-ae9a-d84b1beee62e",
   "metadata": {},
   "outputs": [],
   "source": [
    "\n",
    "\n",
    "\n"
   ]
  }
 ],
 "metadata": {
  "kernelspec": {
   "display_name": "Python 3 (ipykernel)",
   "language": "python",
   "name": "python3"
  },
  "language_info": {
   "codemirror_mode": {
    "name": "ipython",
    "version": 3
   },
   "file_extension": ".py",
   "mimetype": "text/x-python",
   "name": "python",
   "nbconvert_exporter": "python",
   "pygments_lexer": "ipython3",
   "version": "3.10.6"
  }
 },
 "nbformat": 4,
 "nbformat_minor": 5
}
