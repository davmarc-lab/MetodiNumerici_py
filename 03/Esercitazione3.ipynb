{
 "cells": [
  {
   "cell_type": "markdown",
   "id": "cd8d6a57-49d8-4eab-bb0f-107b277ad3d1",
   "metadata": {},
   "source": [
    "## Esercizi sui Numpy array  7 Marzo 2023\n"
   ]
  },
  {
   "cell_type": "code",
   "execution_count": 1,
   "id": "b56b6fe2",
   "metadata": {},
   "outputs": [],
   "source": [
    "import numpy as np"
   ]
  },
  {
   "cell_type": "markdown",
   "id": "e84277dd-60f6-4f68-a215-01a84d73523e",
   "metadata": {},
   "source": [
    "- **0.** Costruisci un numpy array con 2000000 elementi equidistanti nell'intervallo [0,4] utilizzando il linspace e con il metodo che assegna i valori in un ciclo dopo aver definito il passo e confronta il tempo di esecuzione delle due modalità di costruzione."
   ]
  },
  {
   "cell_type": "code",
   "execution_count": 10,
   "id": "d5bb23d0",
   "metadata": {},
   "outputs": [
    {
     "name": "stdout",
     "output_type": "stream",
     "text": [
      "[0.000000e+00 2.000001e-06 4.000002e-06 ... 3.999996e+00 3.999998e+00\n",
      " 4.000000e+00]\n"
     ]
    }
   ],
   "source": [
    "arr = np.linspace(0, 4, 2000000)\n",
    "print(arr)"
   ]
  },
  {
   "cell_type": "markdown",
   "id": "55088af4-a3a4-452b-9f39-38327eba5ab0",
   "metadata": {},
   "source": [
    "- **1.**  Costruire un numpy array 1d, denominato  `c`, di valori equidistanti che variano tra 7 e 41 con step 2 e trasformarlo in un numpy array 2d, denominato `C1` , con shape(2,9) applicando il metodo `.reshape((m,n))` a c. \n",
    "\n",
    "  Si tratta di una copia o di una `vista dell'array originale` con una nuova shape, con dati condivisi con l'array originale?\n"
   ]
  },
  {
   "cell_type": "code",
   "execution_count": 11,
   "id": "8496a691",
   "metadata": {},
   "outputs": [
    {
     "name": "stdout",
     "output_type": "stream",
     "text": [
      "[ 7  9 11 13 15 17 19 21 23 25 27 29 31 33 35 37 39 41] \n",
      " [[ 7  9 11 13 15 17 19 21 23]\n",
      " [25 27 29 31 33 35 37 39 41]]\n"
     ]
    }
   ],
   "source": [
    "c = np.arange(7, 42, 2)\n",
    "c1 = np.reshape(c, (2, 9))\n",
    "print(c, \"\\n\",c1)"
   ]
  },
  {
   "cell_type": "markdown",
   "id": "62109805-3fdd-4ceb-b478-7e0c1652ef6b",
   "metadata": {},
   "source": [
    "Importa il modulo numpy"
   ]
  },
  {
   "cell_type": "markdown",
   "id": "7b81197a-a950-48ab-8e75-31855ac69d9d",
   "metadata": {},
   "source": [
    " - **2.** Costruire un numpy array 1d, denominato $C$ di valori che variano tra 15 e 41 con step 2 e trasformarlo in un numpy array 2d con shape(7,2) usando il metodo .`resize(7,2)` che lavora in-place,  (cioè  modifica l'array esistente, senza creare una copia). Verificare la shape di C"
   ]
  },
  {
   "cell_type": "code",
   "execution_count": 15,
   "id": "702906a3",
   "metadata": {},
   "outputs": [
    {
     "name": "stdout",
     "output_type": "stream",
     "text": [
      "(7, 2)\n"
     ]
    }
   ],
   "source": [
    "c = np.arange(15, 42, 2)\n",
    "c.resize(7, 2)\n",
    "print(c.shape)"
   ]
  },
  {
   "cell_type": "markdown",
   "id": "65a55a8f-1b6d-474d-a012-8e83ca167588",
   "metadata": {},
   "source": [
    "- **3.** Costruire un numpy array 1d $c$ di valori che variano tra 15 e 41 con step 2 e trasformarlo in un numpy array 2d con shape(7,2) usando la funzione `reshape`. Verificare se la funzione  `reshape` restituisce una copia oppure una vista. "
   ]
  },
  {
   "cell_type": "code",
   "execution_count": 21,
   "id": "6819faff",
   "metadata": {},
   "outputs": [
    {
     "name": "stdout",
     "output_type": "stream",
     "text": [
      "int64 (14,)\n"
     ]
    }
   ],
   "source": [
    "c = np.arange(15, 42, 2)\n",
    "c1 = c.reshape((7, 2))\n",
    "print(c1.dtype, c.shape)"
   ]
  },
  {
   "cell_type": "markdown",
   "id": "fa72fbdd-8a7a-419a-8067-6951f06e2de4",
   "metadata": {},
   "source": [
    "- **4.** Costruire un numpy array 1d $d$ di valori che variano tra 15 e 41 con step 2 e trasformarlo in un numpy array 2d con shape(7,2) usando la funzione `resize`. Verificare se la funzione  `resize` restituisce una copia oppure una vista. "
   ]
  },
  {
   "cell_type": "code",
   "execution_count": 20,
   "id": "0998af38",
   "metadata": {},
   "outputs": [
    {
     "name": "stdout",
     "output_type": "stream",
     "text": [
      "int64 (7, 2)\n"
     ]
    }
   ],
   "source": [
    "d = np.arange(15, 42, 2)\n",
    "d.resize(7, 2)\n",
    "print(d.dtype, d.shape)"
   ]
  },
  {
   "cell_type": "markdown",
   "id": "d1adc080-9ce4-404c-ba18-c831f2625214",
   "metadata": {},
   "source": [
    "- **5.** Dato il numpy array s formato da 100 valori equidistanti in  [0,4], considerarne il reshape in un array 2d che ha 4 righe con un numero opportuno di colonne"
   ]
  },
  {
   "cell_type": "code",
   "execution_count": 35,
   "id": "b7889848",
   "metadata": {},
   "outputs": [
    {
     "name": "stdout",
     "output_type": "stream",
     "text": [
      "(4, 25)\n"
     ]
    }
   ],
   "source": [
    "s = np.linspace(0, 4, 100)\n",
    "s1 = s.reshape((4, 100 // 4))\n",
    "print(s1.shape)"
   ]
  },
  {
   "cell_type": "markdown",
   "id": "d40f5d7a-4808-4004-b806-b8b75bcaa01b",
   "metadata": {},
   "source": [
    "- **6.** Dato il numpy array s formato da 100 valori equidistanti in  [0,4], considerarne il reshape in un array 2d che ha 4 colonne con un numero opportuno di righe"
   ]
  },
  {
   "cell_type": "code",
   "execution_count": 36,
   "id": "eceff79f",
   "metadata": {},
   "outputs": [
    {
     "name": "stdout",
     "output_type": "stream",
     "text": [
      "(25, 4)\n"
     ]
    }
   ],
   "source": [
    "s1 = s.reshape((100 // 4, 4))\n",
    "print(s1.shape)"
   ]
  },
  {
   "cell_type": "markdown",
   "id": "19559c2a-0ac7-4d4a-b6ff-38e58843b3b6",
   "metadata": {},
   "source": [
    " - **7.** Scrivere il numpy  array 2d [[10,11,12],[13,14,15],[16,17,18]] e trasformarlo in un numpy array 1d usando i metodi `.ravel()` e `.flatten()`. Verificare che flatten restituisce una copia mentre ravel restituisce una vista."
   ]
  },
  {
   "cell_type": "markdown",
   "id": "c77c2529-d680-42c9-9231-3aca724b1c12",
   "metadata": {},
   "source": [
    " - **8.** creare i due  numpy array 1d\n",
    "f1= [ 0  1  2  3  4  5  6  7  8  9 10 11 12 13 14 15] ed \n",
    "f2= [16 17 18 19 20 21 22 23 24 25 26 27 28 29 30 31]\n",
    "\"vederli\" come matrici  4x4 ed effettuarne il prodotto scalare, memorizzando in f3 la matrice che nasce dal loro prodotto."
   ]
  },
  {
   "cell_type": "markdown",
   "id": "c9249961-c220-46c0-9e0d-e59dfefe662c",
   "metadata": {},
   "source": [
    "- **9.**                Dati :\n",
    " - Numpy Array A di shape (2,10) : array di valori random campionati da una distribuzione gaussiana con media 0 e varianza 1.\n",
    " - Numpy array 1D B di shape (20,) formato dagli interi da 0 a 19.\n",
    " \n",
    "\"Vedere\" A come un array 1D di 20 elementi ed effettuare la somma di A+B\n",
    "\n"
   ]
  },
  {
   "cell_type": "markdown",
   "id": "7f6cf29e-d14a-46c9-8f35-e66151a9e0a3",
   "metadata": {},
   "source": [
    " - **10.** Creare un array 2D di shape (5,5), denominato B2, con valori tutti uguali a 15.\n",
    "Creare una copia B3 di B2. Modificare l'elemento B3[0,0] assegnandogli il valore 150. \n",
    "Stampare il numpy array B2 ed il numpy array B3 e verificare che B2, dopo la modifica di B3, è rimasto inalterato"
   ]
  },
  {
   "cell_type": "markdown",
   "id": "af234d9c-98b6-4741-91a8-0c1d14ff8183",
   "metadata": {},
   "source": [
    "\n"
   ]
  },
  {
   "cell_type": "markdown",
   "id": "22c456d1-2897-412c-99c1-e9b19cbab4e7",
   "metadata": {},
   "source": [
    " - **11.** - Dato un numpy array 1D, di shape (10,) denominato `f`, costituito da 10 valori equidistanti nell'intervallo [0,1], aumentarne la dimensionalità, in maniera tale che abbia shape (10,1)"
   ]
  },
  {
   "cell_type": "markdown",
   "id": "2866db7c-cbcb-431e-bc6a-2645577a65e8",
   "metadata": {},
   "source": [
    "- **12.** Dati i seguenti numpy array\n",
    "  - a= np.array([14,13,12,11])\n",
    "  - b=np.array([[4,3,2,1],[9,10,11,12]])\n",
    "\n",
    "  Costruire il numpy array che si ottiene concatenando a e b per righe\n"
   ]
  },
  {
   "cell_type": "markdown",
   "id": "d57c7290-27ce-4dce-a8e2-6b89124ed223",
   "metadata": {},
   "source": [
    "- **13.** - Dati i seguenti numpy array\n",
    "  - a= np.array([14,13,12,11])\n",
    "  - b=np.array([[4,3,2,1],[9,10,11,12],[4,3,2,1],[9,10,11,12]])\n",
    "\n",
    "  Costruire il numpy array che si ottiene concatenando a e b per colonne"
   ]
  },
  {
   "cell_type": "markdown",
   "id": "7c6eb421-0e1f-445b-b72f-7d2a2451fcb4",
   "metadata": {},
   "source": [
    "- **14.** Costruisci la matrice tridiagonale A di ordine 10, che ha elementi diagonali $A_{i,i}=10$, i=1,20, elementi nella codiagonale inferiore $A_{i-1,i}=-12$ i=2,..,20\n",
    "elementi nella codiagonale superiore $A_{i,i+1}=-2$ i=1,..,19"
   ]
  },
  {
   "cell_type": "markdown",
   "id": "bae8a3dc-e71c-4ff4-8062-2d66c377d63f",
   "metadata": {},
   "source": [
    " - **15** Costruire la matrice identità della stessa dimensione di A"
   ]
  },
  {
   "cell_type": "markdown",
   "id": "612458f4-d8f6-4015-ae74-042d73cbd9f9",
   "metadata": {},
   "source": [
    "- **16.** Selezionare dalla matrice A le righe che vanno dalla 2 alla 9 con step 2 e le colonne che vanno dalla 3 alla 6 con step 2\n"
   ]
  },
  {
   "cell_type": "markdown",
   "id": "db2a4f82-fe57-4763-bd58-9921869c671c",
   "metadata": {},
   "source": [
    "- **17.** A1 è una vista di A, come trasformarla in copia?"
   ]
  },
  {
   "cell_type": "markdown",
   "id": "f5a336bc-5cf9-4400-ae23-4be1f35521de",
   "metadata": {
    "tags": []
   },
   "source": [
    "- **18.** Costruisci due numpy array di shape (5,5) \n",
    "   - A formata da numeri interi casuali  nell'intervallo [1,20]\n",
    "   - B formata da numeri interi casuali  nell'intervallo [1,6]\n",
    " \n",
    "  Costruisci in modalità element-wise le matrici\n",
    "  C=A+B\n",
    "  D=A-B\n",
    "  E=A*B\n",
    "  F=A\\B"
   ]
  },
  {
   "cell_type": "markdown",
   "id": "43fad425-0411-4471-962e-c79247aecb83",
   "metadata": {},
   "source": [
    "- **19.** Costruisci il prodotto scalare tra le  matrici A e B (righe per colonne)"
   ]
  },
  {
   "cell_type": "markdown",
   "id": "e6ae130a-1d6c-429b-ab62-718ff805d9bc",
   "metadata": {},
   "source": [
    "- **20.** Somma gli elementi delle righe della matrice B"
   ]
  },
  {
   "cell_type": "markdown",
   "id": "4cb04c63-c9c6-41a8-8e62-bc4497a4251b",
   "metadata": {},
   "source": [
    "- **21.** Somma gli elementi delle colonne della matrice B"
   ]
  },
  {
   "cell_type": "markdown",
   "id": "5715d0db-b005-4256-86a0-4a94a46fdd96",
   "metadata": {},
   "source": [
    "- **22.** Somma tutti gli elementi di B"
   ]
  },
  {
   "cell_type": "markdown",
   "id": "337c76cc-d82b-4bbb-a57c-52080a6aa9cb",
   "metadata": {},
   "source": [
    "- **23.** Calcolare il minimo degli elementi di B, tra le righe, tra le colonne, il minimo di tutta la matrice B"
   ]
  },
  {
   "cell_type": "markdown",
   "id": "30bc84d9-f2ff-42aa-95ee-b10d69e50762",
   "metadata": {},
   "source": [
    "- **24** Calcola, memorizzando in un vettore, la somma degli elementi di ogni colonna di $ |B |$. Calcola successivamente il massimo di questo vettore.\n",
    "$cmaxc= \\max_{j=1,n} \\sum_{i} |b_{ij}|$"
   ]
  },
  {
   "cell_type": "markdown",
   "id": "7763e180-a6f1-41d3-9af7-4fb92bacd72d",
   "metadata": {},
   "source": [
    "- **25.** Calcola, memorizzando in un vettore, la somma degli elementi di ogni riga  di $ |B |$. Calcola successivamente il massimo di questo vettore.\n",
    "$cmaxr= \\max_{i=1,n} \\sum_{j} |b_{ij}|$"
   ]
  },
  {
   "cell_type": "markdown",
   "id": "89a136bb-2e23-4fca-9717-d32434f5f5ce",
   "metadata": {},
   "source": [
    "- **26.** Effettua nella matrice B lo scambio tra la  riga 2 e  la riga 3"
   ]
  },
  {
   "cell_type": "markdown",
   "id": "5a00eaef-f14c-49f9-b9d1-c8ad90627935",
   "metadata": {},
   "source": [
    " - **27.** Calcola il valore massimo della colonna 0-esima della matrice B e l'indice di riga a cui appartiene"
   ]
  },
  {
   "cell_type": "markdown",
   "id": "12be327e-41a9-4700-82b2-f78709585ce3",
   "metadata": {},
   "source": [
    "- **28.** Scrivi una funzione border(m,n) per creare un array 2D di shape(m,n) che abbia tutti valori zero, ad eccezione degli elementi attorno al bordo (ovvero la prima e l'ultima riga e la prima e l'ultima colonna), che deve avere un valore pari a uno. Prevedi un argomento di default che se impostato a True visualizza la matrice "
   ]
  },
  {
   "cell_type": "markdown",
   "id": "20e88028-91cf-4f99-90b9-5d2f8148b3a9",
   "metadata": {},
   "source": [
    "- **29.** Scrivi una funzione `visualizza(f,a,b)`che prende in input una lambda function, gli estremi dell'intervallo su cui è definita e la visualizzi in una finestra grafica"
   ]
  },
  {
   "cell_type": "markdown",
   "id": "c4e0b8d0-b590-4554-9954-7333715b3c63",
   "metadata": {},
   "source": [
    "- **30.** Scrivi una funzione `visualizza2(f,a,b,f2,a2,b2)`che prende in input una lambda function f e gli estremi dell'intervallo su cui è definita, una lambda function f2 e gli estremi dell'intervallo su cui è definita, e l2 visualizzi sulla stessa finestra grafica"
   ]
  },
  {
   "cell_type": "markdown",
   "id": "46de23a7-2f43-4732-a9c4-a00a89098811",
   "metadata": {},
   "source": [
    "- "
   ]
  },
  {
   "cell_type": "code",
   "execution_count": null,
   "id": "7113b12c-8b69-4c98-8880-d4905f90f343",
   "metadata": {},
   "outputs": [],
   "source": []
  },
  {
   "cell_type": "code",
   "execution_count": null,
   "id": "ffe47da7-b9eb-4a0a-ae9a-d84b1beee62e",
   "metadata": {},
   "outputs": [],
   "source": [
    "\n",
    "\n",
    "\n"
   ]
  }
 ],
 "metadata": {
  "kernelspec": {
   "display_name": "Python 3 (ipykernel)",
   "language": "python",
   "name": "python3"
  },
  "language_info": {
   "codemirror_mode": {
    "name": "ipython",
    "version": 3
   },
   "file_extension": ".py",
   "mimetype": "text/x-python",
   "name": "python",
   "nbconvert_exporter": "python",
   "pygments_lexer": "ipython3",
   "version": "3.10.6"
  }
 },
 "nbformat": 4,
 "nbformat_minor": 5
}
