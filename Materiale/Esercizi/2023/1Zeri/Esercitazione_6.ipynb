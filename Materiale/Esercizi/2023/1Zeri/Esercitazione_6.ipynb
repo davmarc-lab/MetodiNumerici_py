{
 "cells": [
  {
   "cell_type": "markdown",
   "id": "bf169812-94dc-4b34-83ff-c84a3e29571a",
   "metadata": {},
   "source": [
    "## Esercitazione 6 - 26 Marzo 2024"
   ]
  },
  {
   "cell_type": "code",
   "execution_count": 55,
   "id": "f6bbe3d1",
   "metadata": {},
   "outputs": [],
   "source": [
    "import numpy as np\n",
    "import numpy.linalg as npl\n",
    "import math\n",
    "from math import copysign\n",
    "import scipy as sp\n",
    "import scipy.linalg as spl\n",
    "import sympy as sym\n",
    "from sympy.utilities.lambdify import lambdify\n",
    "import matplotlib.pyplot as plt"
   ]
  },
  {
   "cell_type": "markdown",
   "id": "6776a84b-7a0a-4001-bb1c-2316249e1bb4",
   "metadata": {},
   "source": [
    "Scrivere le funzioni python `bisezione.py`, `falsi.py`, `corde.py`, `secanti.py`,`newton.py` che implementino rispettivamente il metodo di bisezione, di falsa posizione, delle corde, delle secanti e di Newton.\n",
    "\n",
    "Le funzioni `bisezione.py`, `falsi.py` devono assumere come input:\n",
    "\n",
    "-  gli estremi dell'intervallo [a,b], dominio di f.\n",
    "-  il nome `fname` della funzione di cui calcolare lo zero\n",
    "-  tol: tolleranza per il test di arresto.\n",
    "    Nel caso del metodo di bisezione e di falsa posizione si considera per il test di arresto l’ampiezza del sottointervallo confrontata con tolx.\n",
    "-  nmax= numero massimo di iterazioni\n",
    "    \n",
    "In output:\n",
    "-      lo zero della funzione\n",
    "-      il numero di iterazioni effettuate\n",
    "-      una lista contenente tutti gli iterati xk\n",
    "\n",
    "La funzione `corde.py` deve assumere come input:\n",
    "\n",
    "-  l'iterato iniziale x_0.\n",
    "-  il coefficiente angolare comune a tutte le rette\n",
    "-  il nome `fname` della funzione di cui calcolare lo zero\n",
    "-  tolx: tolleranza per il test di arresto sull'incremento:          \n",
    "               |x_k+1-x_k|/|x_k+1|<= tolx\n",
    "-  tolf: tolleranza per il test di arresto sulla funzione\n",
    "        \n",
    "                |abs(f(x_k+1)|<= tolf\n",
    "-  nmax= numero massimo di iterazioni\n",
    "    \n",
    "In output:\n",
    "-      lo zero della funzione\n",
    "-      il numero di iterazioni effettuate\n",
    "-      una lista contenente tutti gli iterati xk\n",
    "La funzione `newton.py` deve assumere come input:\n",
    "\n",
    "-  l'iterato iniziale x_0.\n",
    "-  il nome `fname` della funzione di cui calcolare lo zero\n",
    "-  il nome `fpname` della derivata prima della funzione di cui calcolare lo zero\n",
    "-  tolx: tolleranza per il test di arresto sull'incremento:          \n",
    "               |x_k+1-x_k|/|x_k+1|<= tols\n",
    "-  tolf: tolleranza per il test di arresto sulla funzione\n",
    "        \n",
    "                |abs(f(x_k+1)|<= tolf\n",
    "-  nmax= numero massimo di iterazioni\n",
    "    \n",
    "In output:\n",
    "-      lo zero della funzione\n",
    "-      il numero di iterazioni effettuate\n",
    "-      una lista contenente tutti gli iterati xk\n",
    "\n",
    "La funzione `secanti.py` deve assumere come input:\n",
    "\n",
    "-  due iterati iniziali x_1, x_0.\n",
    "-  il nome `fname` della funzione di cui calcolare lo zero\n",
    "-  tolx: tolleranza per il test di arresto sull'incremento:         \n",
    "               |x_k+1-x_k|/|x_k+1|<= tolx\n",
    "-  tolf: tolleranza per il test di arresto sulla funzione\n",
    "        \n",
    "                |abs(f(x_k+1)|<= tolf\n",
    "-  nmax= numero massimo di iterazioni\n",
    "    \n",
    "In output:\n",
    "-      lo zero della funzione\n",
    "-      il numero di iterazioni effettuate\n",
    "-      una lista contenente tutti gli iterati xk"
   ]
  },
  {
   "cell_type": "code",
   "execution_count": 24,
   "id": "15d3d0f4",
   "metadata": {},
   "outputs": [],
   "source": [
    "def sign(x) :\n",
    "    return copysign(1, x)"
   ]
  },
  {
   "cell_type": "code",
   "execution_count": 25,
   "id": "04406e5b",
   "metadata": {},
   "outputs": [],
   "source": [
    "def Bisezione(fname, a, b, tolx):\n",
    "    fa = fname(a)\n",
    "    fb = fname(b)\n",
    "\n",
    "    if sign(fa) * sign(fb) >= 0:\n",
    "        # Non è possibile applicare il metodo della bisezione\n",
    "        return None, None, None\n",
    "\n",
    "    it = 0\n",
    "    vxk = []\n",
    "\n",
    "    maxit = math.ceil(math.log((b - a) / tolx) / math.log(2)) - 1\n",
    "\n",
    "    while np.abs(b - a) >= tolx:\n",
    "        xk = a + (b - a) / 2\n",
    "        vxk.append(xk)\n",
    "        it += 1\n",
    "        fxk = fname(xk)\n",
    "        if fxk == 0:\n",
    "            return xk, it, vxk\n",
    "\n",
    "        if sign(fa) * sign(fxk) > 0:\n",
    "            a = xk\n",
    "            fa = fxk\n",
    "        elif sign(fb) * sign(fxk) > 0:\n",
    "            b = xk\n",
    "            fb = fxk\n",
    "\n",
    "    return xk, it, vxk"
   ]
  },
  {
   "cell_type": "code",
   "execution_count": 38,
   "id": "4913f417",
   "metadata": {},
   "outputs": [],
   "source": [
    "def Falsi(fname, a, b, tolx, tolf, nmax):\n",
    "    fa = fname(a)\n",
    "    fb = fname(b)\n",
    "\n",
    "    if sign(fa) * sign(fb) >= 0:\n",
    "        # Non è possibile applicare il metodo della falsa posizione\n",
    "        return None, None, None\n",
    "\n",
    "    it = 0\n",
    "    vxk = []\n",
    "    fxk = 10\n",
    "\n",
    "    while np.abs(b - a) >= tolx and np.abs(fxk) > tolf and it < nmax:  \n",
    "        # xk = a + (b - a) / 2\n",
    "        xk = a - fa * (b - a) / (fb - fa)\n",
    "        vxk.append(xk)\n",
    "        it += 1\n",
    "        fxk = fname(xk)\n",
    "\n",
    "        if fxk == 0:\n",
    "            return xk, it, vxk\n",
    "\n",
    "        if sign(fa) * sign(fxk) > 0:\n",
    "            a = xk\n",
    "            fa = fxk\n",
    "        elif sign(fb) * sign(fxk) > 0:\n",
    "            b = xk\n",
    "            fb = fxk\n",
    "\n",
    "    return xk, it, vxk"
   ]
  },
  {
   "cell_type": "code",
   "execution_count": 48,
   "id": "32320d57",
   "metadata": {},
   "outputs": [],
   "source": [
    "def Corde(fname, m, x0, tolx, tolf, nmax):\n",
    "    vxk = []\n",
    "    fx0 = fname(x0)\n",
    "    d = fx0 / m\n",
    "    x1 = x0 - d\n",
    "    fx1 = fname(x1)\n",
    "    vxk.append(x1)\n",
    "    it = 1\n",
    "\n",
    "    while it < nmax and abs(d) >= tolx * abs(x1) and abs(fx1) >= tolf :\n",
    "        x0 = x1\n",
    "        fx0 = fname(x0)\n",
    "        d = fx0 / m\n",
    "        \"\"\"\n",
    "        x1= ascissa del punto di intersezione tra  la retta che passa per il punto\n",
    "        (xi,f(xi)) e ha pendenza uguale a m  e l'asse x\n",
    "        \"\"\"\n",
    "        x1 = x0 - d\n",
    "        fx1 = fname(x1)\n",
    "        it += 1\n",
    "        vxk.append(x1)\n",
    "\n",
    "        if it == nmax:\n",
    "            # Max Num di iterazioni\n",
    "            return x1, it, vxk\n",
    "    return x1, it, vxk"
   ]
  },
  {
   "cell_type": "code",
   "execution_count": 28,
   "id": "a440db4c",
   "metadata": {},
   "outputs": [],
   "source": [
    "def Secanti(fname, xm1, x0, tolx, tolf, nmax):\n",
    "    vxk = []\n",
    "    fxm1 = fname(xm1)\n",
    "    fx0 = fname(x0)\n",
    "    # d = (fxm1 - fx0) / (xm1 - x0)\n",
    "    d = fx0 * (x0 - xm1) / (fx0 - fxm1) # d = fx0 / m\n",
    "    x1 = x0 - d \n",
    "    fx1 = fname(x1)\n",
    "    vxk.append(x1)\n",
    "    it = 1\n",
    "\n",
    "    while it <= nmax and abs(d) >= tolx * abs(x1) and abs(fx1) >= tolf:\n",
    "        xm1 = x0\n",
    "        x0 = x1\n",
    "        fxm1 = fname(xm1)\n",
    "        fx0 = fname(x0)\n",
    "        d = fx0 * (x0 - xm1) / (fx0 - fxm1)\n",
    "        x1 = x0 - d\n",
    "\n",
    "        fx1 = fname(x1)\n",
    "        vxk.append(x1)\n",
    "        it += 1\n",
    "\n",
    "    return x1, it, vxk"
   ]
  },
  {
   "cell_type": "code",
   "execution_count": 29,
   "id": "86be30ea",
   "metadata": {},
   "outputs": [],
   "source": [
    "def Newton(fname, fpname, x0, tolx, tolf, nmax):\n",
    "    vxk = []\n",
    "    fx0 = fname(x0)\n",
    "    fpx0 = fpname(x0)\n",
    "    if abs(fpx0) <= np.spacing(1):\n",
    "        # derivata prima nulla\n",
    "        return None, None, None\n",
    "\n",
    "    d = fx0 / fpx0\n",
    "    x1 = x0 - d\n",
    "\n",
    "    fx1 = fname(x1)\n",
    "    vxk.append(x1)\n",
    "    it = 1\n",
    "\n",
    "    while it < nmax and abs(fx1) >= tolf and abs(d) >= tolx * abs(x1):  \n",
    "        x0 = x1\n",
    "        fx0 = fname(x0)\n",
    "        fpx0 = fpname(x0)\n",
    "        if abs(fpx0) <= np.spacing(1):\n",
    "            # derivata prima nulla\n",
    "            return None, None, None\n",
    "\n",
    "        d = fx0 / fpx0\n",
    "        x1 = x0 - d\n",
    "        fx1 = fname(x1)\n",
    "        it += 1\n",
    "\n",
    "        vxk.append(x1)\n",
    "\n",
    "    return x1, it, vxk"
   ]
  },
  {
   "cell_type": "markdown",
   "id": "20bbe42c-264f-40aa-887c-1505be3c0d50",
   "metadata": {},
   "source": [
    "**Sperimentazione numerica**"
   ]
  },
  {
   "cell_type": "markdown",
   "id": "22339d84-a5cc-4950-a537-104611a315f8",
   "metadata": {},
   "source": [
    " Confrontare i metodi sopra implementati nei casi seguenti:\n",
    "\n",
    "- f(x) = exp(−x) − (x + 1) in [−1, 2] con x0 = −0.5, x−1 = −0.3, tolx = 1.e − 12, tolf = 1.e − 12, (soluzione esatta alfa=0);\n",
    "- f(x) = log2(x + 3) − 2 in [−1, 2] con x0 = −0.5, x−1 = 0.5, tolx = 1.e − 12, tolf = 1.e − 12, (soluzione esatta alfa=1);\n",
    "- f(x) =sqrt(x)-(x^2)/4 in [1, 3] con x0 = 1.8, x−1 = 1.5, tolx = 1.e − 12, tolf =1.e − 12, (soluzione esatta alfa=2**(4/3))\n",
    "\n",
    "Mostrare in un grafico in scala semilogaritmica sulle ordinate (comando semilogy) l’andamento di ek = |xk − α|, k = 1, ..., nit, sapendo che α = 0, 1, 2**(4/3) nei\n",
    "tre casi.\n",
    "Calcolare infine, a partire dai valori di {xk} con k sufficientemente grande, la stima dell’ordine di convergenza p come\n",
    "\n",
    "p= ln (|x_{k+1}-x_k|/|x_k-x_{k-1}|)/ln (|x_k-x_{k-1}|/|x_{k-1}-x_{k-2}|)"
   ]
  },
  {
   "cell_type": "code",
   "execution_count": 35,
   "id": "0b3e61c7",
   "metadata": {},
   "outputs": [],
   "source": [
    "tolx = 1.e-12\n",
    "tolf = 1.e-12\n",
    "nmax = 100"
   ]
  },
  {
   "cell_type": "code",
   "execution_count": 64,
   "id": "2b4230ac",
   "metadata": {},
   "outputs": [
    {
     "name": "stdout",
     "output_type": "stream",
     "text": [
      "Bisezione:  -2.2737367544323206e-13 42\n",
      "Falsi:  3.2573943542502093e-13 22\n",
      "Corde:  3.8360249906457256e-13 11\n",
      "Secanti:  -3.3511624323578764e-14 6\n",
      "Newton:  3.827482567520148e-17 4\n"
     ]
    }
   ],
   "source": [
    "x = sym.symbols('x')\n",
    "f = lambdify(x, sym.exp(-x) - (x + 1), np)\n",
    "df = sym.diff(sym.exp(-x) - (x + 1), x, 1)\n",
    "df = lambdify(x, df, np)\n",
    "\n",
    "a, b = -1, 2\n",
    "x0 = -0.5\n",
    "x1 = -0.3\n",
    "\n",
    "m = (f(b) - f(a)) / (b - a)\n",
    "xb, itb, xkb = Bisezione(f, a, b, tolx)\n",
    "xf, itf, xkf = Falsi(f, a, b, tolx, tolf, nmax)\n",
    "xc, itc, xkc = Corde(f, m, x0, tolx, tolf, nmax)\n",
    "xs, its, xks = Secanti(f, m, x0, tolx, tolf, nmax)\n",
    "xn, itn, xkn = Newton(f, df, x1, tolx, tolf, nmax)\n",
    "\n",
    "print(\"Bisezione: \", xb, itb)\n",
    "print(\"Falsi: \", xf, itf)\n",
    "print(\"Corde: \", xc, itc)\n",
    "print(\"Secanti: \", xs, its)\n",
    "print(\"Newton: \", xn, itn)"
   ]
  },
  {
   "cell_type": "markdown",
   "id": "deaeb530-4fe7-4ded-9f34-449ef48fa995",
   "metadata": {},
   "source": [
    "- Utilizzare il metodo di Newton e il metodo di Newton modificato per il calcolo\n",
    "dello zero di molteplicita' 2 della funzione f(x) = \n",
    "x^3 + x^2− 33x + 63 con x0 = 1,\n",
    "tolx = 1.e − 12 e tolf = 1.e − 12. Calcolare infine, a partire dai valori di {xk}\n",
    "ottenuti nei due casi, la stima dell’ordine di convergenza p."
   ]
  },
  {
   "cell_type": "code",
   "execution_count": 67,
   "id": "0ac364e3",
   "metadata": {},
   "outputs": [],
   "source": [
    "def NewtonMod(fname, fpname, m, x0, tolx, tolf, nmax):\n",
    "    vxk = []\n",
    "    fx0 = fname(x0)\n",
    "    fpx0 = fpname(x0)\n",
    "    if abs(fpx0) <= np.spacing(1):  \n",
    "        # derivata prima nulla in x0\n",
    "        return None, None, None\n",
    "\n",
    "    d = fx0 / fpx0\n",
    "    x1 = x0 - m * d\n",
    "\n",
    "    fx1 = fname(x1)\n",
    "    vxk.append(x1)\n",
    "    it = 1\n",
    "\n",
    "    while it < nmax and abs(d) >= tolx * abs(x1) and abs(fx1) >= tolf: \n",
    "        x0 = x1\n",
    "        fx0 = fname(x0)\n",
    "        fpx0 = fpname(x0)\n",
    "        if abs(fpx0) <= np.spacing(1):  \n",
    "            # derivata prima nulla in x0\n",
    "            return None, None, None\n",
    "        d = fx0 / fpx0\n",
    "        \"\"\"\n",
    "           x1= ascissa del punto di intersezione tra  la retta che passa per il punto\n",
    "           (xi,f(xi)) ed è tangente alla funzione f(x) nel punto (xi.f(xi))  e l'asse x\n",
    "        \"\"\"\n",
    "        x1 = x0 - m * d\n",
    "        fx1 = fname(x1)\n",
    "        it = it + 1\n",
    "\n",
    "        vxk.append(x1)\n",
    "\n",
    "    return x1, it, vxk"
   ]
  },
  {
   "cell_type": "code",
   "execution_count": 97,
   "id": "e3cc5cd5",
   "metadata": {},
   "outputs": [
    {
     "name": "stdout",
     "output_type": "stream",
     "text": [
      "Newton: 2.9999999996871622 4\n",
      "Newton Mod: 2.999999813817361 23\n"
     ]
    },
    {
     "data": {
      "image/png": "[encoded data removed]",
      "text/plain": [
       "<Figure size 640x480 with 1 Axes>"
      ]
     },
     "metadata": {},
     "output_type": "display_data"
    }
   ],
   "source": [
    "x = sym.symbols('x')\n",
    "f = x**3 + x**2 - 33 * x + 63\n",
    "df = sym.diff(f, x, 1)\n",
    "f = lambdify(x, f, np)\n",
    "df = lambdify(x, df, np)\n",
    "\n",
    "m = 2\n",
    "x0 = 1\n",
    "\n",
    "f = lambda x: x**3 + x**2 - 33 * x + 63\n",
    "x = np.linspace(0, 4, 100)\n",
    "plt.plot(x, f(x))\n",
    "\n",
    "xn, itn, vxn = NewtonMod(f, df, m, x0, tolx, tolf, nmax)\n",
    "print(\"Newton:\", xn, itn)\n",
    "\n",
    "xm, itm, vxm = Newton(f, df, x0, tolx, tolf, nmax)\n",
    "print(\"Newton Mod:\", xm, itm)"
   ]
  },
  {
   "cell_type": "markdown",
   "id": "d9787fdd-725e-4803-b148-8a137e4335c8",
   "metadata": {},
   "source": [
    "- Utilizzare il metodo di bisezione ed il metodo di Newton per calcolare la radice quadrata di 2. Analizzate i risultati."
   ]
  },
  {
   "cell_type": "markdown",
   "id": "fc00ebed-d9db-4223-aeac-9618852c74d2",
   "metadata": {},
   "source": [
    "- Utilizzare il metodo di Newton per determinare le radici dell’equazione f (x) = \n",
    "rcatan(x) con x0 = 1.2, 1.4 assumendo tolx = 1.e − 6 e tolf = 1.e − 5. Che cos a\n",
    "si osserva?"
   ]
  },
  {
   "cell_type": "markdown",
   "id": "c149b9e1-3beb-4f1f-bc60-9e4c9ecee1e6",
   "metadata": {},
   "source": [
    "**Soluzione di sistemi non lineari**"
   ]
  },
  {
   "cell_type": "markdown",
   "id": "6ffd1881-6df4-426e-a962-3a5318513229",
   "metadata": {},
   "source": [
    "\n",
    "- Scrivere la function `NewtonRaphson.py`, che implementa il metodo di Newton-Raphson\n",
    "per il calcolo della soluzione di un sistema di equazioni non lineari. \n",
    "\n",
    "    Tale function\n",
    "deve assumere come dati in input:\n",
    "- fname: nome della funzione vettoriale di cui calcolare lo zero;\n",
    "- JacName: nome della funzione che calcola lo J acobiano della funzione vettoriale;\n",
    "- X0: vettore contenente le componenti dell'iterato iniziale);\n",
    "- tolx tolleranza  per il test d'arresto sull'incremento\n",
    "        ||X_{k+1}-X_k||/||X_{k}||<= tolx\n",
    "- tolf tolleranza per il test del residuo\n",
    "        ||F(Xk+1)|| <= tolf;\n",
    "- NMAX numero massimo di iterazioni.\n",
    "In output devono essere restituiti il vettore contenente l'approssimazione dello zero x, un vettore contenente l'errore relativo tra due iterati successivi, il numero di iterazioni\n",
    "effettuate, nit.\n"
   ]
  },
  {
   "cell_type": "code",
   "execution_count": null,
   "id": "327bb3d4",
   "metadata": {},
   "outputs": [],
   "source": []
  },
  {
   "cell_type": "markdown",
   "id": "d0853020-340b-422b-bd4d-a2d780b7fc2f",
   "metadata": {},
   "source": [
    "**Sperimentazione Numerica**"
   ]
  },
  {
   "cell_type": "markdown",
   "id": "593eac55-b48c-4454-b0e8-73338f053717",
   "metadata": {},
   "source": [
    "Risolvere i seguenti tre sistemi non lineari:\n",
    "\n",
    "1) \n",
    "\n",
    "   2x0-cos(x1)=0\n",
    "\n",
    "   sin(x0)+2x1=0\n",
    "\n",
    "2) \n",
    "\n",
    "   x0^2+x1^2-9=0\n",
    "\n",
    "   x0+x1-3=0\n",
    "\n",
    "3) \n",
    "\n",
    "   4x0^2+x_1^2=4\n",
    "\n",
    "   x0+x1=sin(x0-x1)\n",
    "\n"
   ]
  },
  {
   "cell_type": "markdown",
   "id": "2c279af1-357d-42ae-9669-d5160b0b6054",
   "metadata": {},
   "source": [
    "Servirsi del metodo grafico per individuare un \n",
    "iterato iniziale  $X_0$  nell'intorno della soluzione che si vuole approssimare. Visualizzare le \n",
    "curve di livello corrisponenti a z=0 delle due superfici z1 = f1 (x0 ,x1 ) e z2 = f2(x0, x1 ) e \n",
    "definire come iterato iniziale un vettore $X_0$ oppurtuno le cui componenti stanno in un \n",
    "intorno della soluzione (punti di intersezione tra le curve di livello delle due superfici) \n",
    " "
   ]
  },
  {
   "cell_type": "code",
   "execution_count": null,
   "id": "b4390206-4345-45ef-a314-bfc8f3a98cdf",
   "metadata": {},
   "outputs": [],
   "source": []
  }
 ],
 "metadata": {
  "kernelspec": {
   "display_name": "mn",
   "language": "python",
   "name": "python3"
  },
  "language_info": {
   "codemirror_mode": {
    "name": "ipython",
    "version": 3
   },
   "file_extension": ".py",
   "mimetype": "text/x-python",
   "name": "python",
   "nbconvert_exporter": "python",
   "pygments_lexer": "ipython3",
   "version": "3.13.2"
  }
 },
 "nbformat": 4,
 "nbformat_minor": 5
}
