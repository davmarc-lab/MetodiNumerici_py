{
 "cells": [
  {
   "cell_type": "code",
   "execution_count": 56,
   "id": "0e998422",
   "metadata": {},
   "outputs": [],
   "source": [
    "import numpy as np\n",
    "import numpy.linalg as npl\n",
    "import scipy.linalg as spl\n",
    "import sympy as sym\n",
    "import matplotlib.pyplot as plt\n",
    "import math\n",
    "from SolveTriangular import *"
   ]
  },
  {
   "cell_type": "markdown",
   "id": "73aa0225-b2dd-4e47-8ded-3a61037a72c4",
   "metadata": {},
   "source": [
    "## Esame Metodi Numerici  4 Luglio 2024 - Turno I Ore 9"
   ]
  },
  {
   "cell_type": "markdown",
   "id": "95150ab8",
   "metadata": {},
   "source": [
    "# Esercizio 1\n",
    "\n",
    "Si consideri il sistema lineare:\n",
    "\n",
    "     A  x = b \n",
    "dove A è la matrice dei coefficienti, b è il termine noto, ed x è il vettore delle incognite da determinare.\n",
    "I dati di questo sistema lineare sono contenuti nel file **testI.mat**."
   ]
  },
  {
   "cell_type": "markdown",
   "id": "18395123-3e72-4667-9f4c-5c98ddd3412d",
   "metadata": {},
   "source": [
    "\n",
    "Per la lettura dei dati procedere nel seguente modo:\n",
    "\n",
    "``from scipy.io import loadmat``\n",
    "\n",
    "``import numpy as np``\n",
    "\n",
    "``dati = loadmat('testI')``\n",
    "\n",
    "``A=dati[\"A\"] ``\n",
    "\n",
    "``A=A.astype(float)``\n",
    "\n",
    "`` b=dati[\"b\"] ``\n",
    "\n",
    "`` b=b.astype(float)``"
   ]
  },
  {
   "cell_type": "code",
   "execution_count": null,
   "id": "b2a862d3",
   "metadata": {},
   "outputs": [
    {
     "data": {
      "text/plain": [
       "(400, 1)"
      ]
     },
     "execution_count": 27,
     "metadata": {},
     "output_type": "execute_result"
    }
   ],
   "source": [
    "from scipy.io import loadmat\n",
    "dati = loadmat('testI.mat')\n",
    "A = dati[\"A\"]\n",
    "b = dati[\"b\"]\n",
    "A = A.astype(float)\n",
    "b = b.astype(float)"
   ]
  },
  {
   "cell_type": "markdown",
   "id": "1424b92a",
   "metadata": {},
   "source": [
    "- Si implementino e si testino sui dati forniti due metodi che sono adatti a risolvere tale sistema lineare con le caratteristiche delle matrici dei coefficienti date in input.\n",
    "                                      **[punti 7]**"
   ]
  },
  {
   "cell_type": "code",
   "execution_count": 22,
   "id": "6135d666",
   "metadata": {},
   "outputs": [
    {
     "name": "stdout",
     "output_type": "stream",
     "text": [
      "Quadrata: True\n",
      "Simm: False\n",
      "Diagonale Dominante: True\n"
     ]
    }
   ],
   "source": [
    "m, n = A.shape\n",
    "print(\"Quadrata:\", m == n)\n",
    "print(\"Simm:\", np.all(A.T == A))\n",
    "# non simmetrica\n",
    "\n",
    "D = np.diag(A)\n",
    "S = np.sum(np.abs(A), axis=1) - D\n",
    "print(\"Diagonale Dominante:\", np.all(D>S))\n",
    "\n",
    "#jacobi, gauss-seidel, gauss-seidel-sor"
   ]
  },
  {
   "cell_type": "code",
   "execution_count": 36,
   "id": "1b7725fa",
   "metadata": {},
   "outputs": [],
   "source": [
    "def jacobi(A, b, x0, toll, it_max):\n",
    "    errore = 1000\n",
    "    d = np.diag(A)\n",
    "    n = A.shape[0]\n",
    "    invM = np.diag(1 / d)\n",
    "    E = np.tril(A, -1)\n",
    "    F = np.triu(A, 1)\n",
    "    N = -(F + E)\n",
    "    T = invM @ N\n",
    "    autovalori = np.linalg.eigvals(T)\n",
    "    raggiospettrale = np.max(np.abs(autovalori))\n",
    "    print(\"raggio spettrale jacobi\", raggiospettrale)\n",
    "    it = 0\n",
    "\n",
    "    er_vet = []\n",
    "    while it <= it_max and errore >= toll:\n",
    "        x = (b + N @ x0) / d.reshape(n, 1)\n",
    "        errore = np.linalg.norm(x - x0) / np.linalg.norm(x)\n",
    "        er_vet.append(errore)\n",
    "        x0 = x.copy()\n",
    "        it = it + 1\n",
    "    return x, it, er_vet\n",
    "\n",
    "def gauss_seidel(A, b, x0, toll, it_max):\n",
    "    errore = 1000\n",
    "    d = np.diag(A)\n",
    "    D = np.diag(d)\n",
    "    E = np.tril(A, -1)\n",
    "    F = np.triu(A, 1)\n",
    "    M = D + E\n",
    "    N = -F\n",
    "    T = np.dot(npl.inv(M), N)\n",
    "    autovalori = np.linalg.eigvals(T)\n",
    "    raggiospettrale = np.max(np.abs(autovalori))\n",
    "    print(\"raggio spettrale Gauss-Seidel \", raggiospettrale)\n",
    "    it = 0\n",
    "    er_vet = []\n",
    "    while it <= it_max and errore >= toll:\n",
    "        temp = b - F @ x0\n",
    "        x, _= Lsolve(M, temp)\n",
    "        errore = np.linalg.norm(x - x0) / np.linalg.norm(x)\n",
    "        er_vet.append(errore)\n",
    "        x0 = x.copy()\n",
    "        it = it + 1\n",
    "    return x, it, er_vet\n",
    "\n",
    "def gauss_seidel_sor(A, b, x0, toll, it_max, omega):\n",
    "    errore = 1000\n",
    "    d = np.diag(A)\n",
    "    D = np.diag(d)\n",
    "    Dinv = npl.inv(D)\n",
    "    E = np.tril(A, -1)\n",
    "    F = np.triu(A, 1)\n",
    "    Momega = D + omega * E\n",
    "    Nomega = (1 - omega) * D - omega * F\n",
    "    T = npl.inv(Momega) @ Nomega\n",
    "    autovalori = np.linalg.eigvals(T)\n",
    "    raggiospettrale = np.max(np.abs(autovalori))\n",
    "    print(\"raggio spettrale Gauss-Seidel SOR \", raggiospettrale)\n",
    "\n",
    "    M = D + E\n",
    "    N = -F\n",
    "    it = 0\n",
    "    xold = x0.copy()\n",
    "    xnew = x0.copy()\n",
    "    er_vet = []\n",
    "    while it <= it_max and errore >= toll:\n",
    "        temp = b - F @ x0\n",
    "        xtilde, _ = Lsolve(M, temp)\n",
    "        xnew = (1 - omega) * xold + omega * xtilde\n",
    "        errore = np.linalg.norm(xnew - xold) / np.linalg.norm(xnew)\n",
    "        er_vet.append(errore)\n",
    "        xold = xnew.copy()\n",
    "        it = it + 1\n",
    "    return xnew, it, er_vet"
   ]
  },
  {
   "cell_type": "markdown",
   "id": "4cac56bc",
   "metadata": {},
   "source": [
    "- Si confrontino i risultati ottenuti e si giustifichino utilizzando  e richiamando gli aspetti teorici dei metodi implementati.\n",
    "                                      **[punti 2]**"
   ]
  },
  {
   "cell_type": "code",
   "execution_count": 54,
   "id": "225b22c5",
   "metadata": {},
   "outputs": [
    {
     "name": "stdout",
     "output_type": "stream",
     "text": [
      "raggio spettrale jacobi 0.48209261553629823\n",
      "IT Jacobi: 19\n",
      "raggio spettrale Gauss-Seidel  0.28897377801649166\n",
      "IT Gauss-Seidel: 12\n",
      "raggio spettrale Gauss-Seidel SOR  0.28897377801649166\n",
      "IT Gauss-Seidel-SOR: 2\n"
     ]
    },
    {
     "data": {
      "image/png": "[encoded data removed]",
      "text/plain": [
       "<Figure size 640x480 with 1 Axes>"
      ]
     },
     "metadata": {},
     "output_type": "display_data"
    }
   ],
   "source": [
    "toll = 1e-6\n",
    "itmax = 1000\n",
    "omega = 1\n",
    "m, n = A.shape\n",
    "x0 = np.zeros(m).reshape(m, 1)\n",
    "\n",
    "xj, itj, vxj = jacobi(A, b, x0, toll, itmax)\n",
    "print(\"IT Jacobi:\", itj)\n",
    "xg, itg, vxg = gauss_seidel(A, b, x0, toll, itmax)\n",
    "print(\"IT Gauss-Seidel:\", itg)\n",
    "xs, its, vxs = gauss_seidel_sor(A, b, x0, toll, itmax, omega)\n",
    "print(\"IT Gauss-Seidel-SOR:\", its)\n",
    "\n",
    "plt.semilogy(np.arange(itj), vxj, np.arange(itg), vxg, np.arange(its), vxs)\n",
    "plt.legend([\"Jacobi\", \"Gauss-Seidel\", \"Gauss-Seidel-SOR\"])\n",
    "plt.show()"
   ]
  },
  {
   "cell_type": "markdown",
   "id": "26e0b8fe-c204-4a42-9bbf-0b338fbdcf8c",
   "metadata": {},
   "source": [
    "## Esercizio 2\n",
    "\n",
    "-  Implementare il  metodo di Newton Raphson, la variante delle corde e la variante di Shamanskii per la soluzione di un sistema non lineare\n",
    "                           [**punti: 7**]\n",
    "\n",
    "- Risolvere il sistema di equazioni non lineare \n",
    "\n",
    "$$\n",
    "\\left\\{\n",
    "\\begin{array}{c}\n",
    "x_0\\cdot x_1+x_0=1 \\\\\n",
    " x_0^2+x_1^2=9\n",
    "\\end{array}\n",
    "\\right.\n",
    "$$\n",
    "con ciascuno dei tre metodi e confrontare per ciascun metodo il grafico dell'errore relativo tra due iterati successivi, giustificando i risultati alla luce della teoria. [**punti: 3**]\n",
    "\n",
    " **Nota Bene**: Servirsi del metodo grafico per individuare un \n",
    "iterato iniziale  $X^{(0)}$ nell'intorno della soluzione che si vuole approssimare.  Per fare cio',  visualizzare le \n",
    "curve di livello corrisponenti a z=0 delle due superfici $z_1 = f_1 (x_0 ,x_1 )$ e $z_2 = f_2(x_0 , x_1 )$ e \n",
    "definire come iterato iniziale un vettore $X^{(0)}=(x_0^{(0)},x_1^{(0)})$ oppurtuno le cui componenti appartengono ad un \n",
    "intorno della soluzione (cioè  dei punti di  intersezione tra le curve di livello delle due superfici) \\]\n",
    "\n",
    "- Descrivere teoricamente la variante del Metodo di Newton-Raphson per calcolare il minimo di una funzione non lineare in più variabili.\n",
    "\n",
    " [**punti: 2**]\n",
    " \n",
    "\n"
   ]
  },
  {
   "cell_type": "code",
   "execution_count": 71,
   "id": "97050e91",
   "metadata": {},
   "outputs": [],
   "source": [
    "def my_newton_minimo(gradiente, Hess, x0, tolx, tolf, nmax):\n",
    "    \"\"\"\n",
    "    DA UTILIZZARE NEL CASO IN CUI CALCOLATE DRIVATE PARZIALI PER GRADIENTE ED HESSIANO SENZA UTILIZZO DI SYMPY\n",
    "\n",
    "    Funzione di newton-raphson per calcolare il minimo di una funzione in più variabili\n",
    "\n",
    "    Parametri\n",
    "    ----------\n",
    "    fun :\n",
    "            Nome della funzione che calcola il gradiente della funzione non lineare.\n",
    "    Hess :\n",
    "            Nome della funzione che calcola la matrice Hessiana della funzione non lineare.\n",
    "    x0 : array\n",
    "            Vettore contenente l'approssimazione iniziale della soluzione.\n",
    "    tolx : float\n",
    "            Parametro di tolleranza per l'errore assoluto.\n",
    "    tolf : float\n",
    "            Parametro di tolleranza per l'errore relativo.\n",
    "    nmax : int\n",
    "            Numero massimo di iterazioni.\n",
    "\n",
    "    Restituisce\n",
    "    -------\n",
    "    x : array\n",
    "            Vettore soluzione del sistema (o equazione) non lineare.\n",
    "    it : int\n",
    "            Numero di iterazioni fatte per ottenere l'approssimazione desiderata.\n",
    "    Xm : array\n",
    "            Vettore contenente la norma del passo ad ogni iterazione.\n",
    "    \"\"\"\n",
    "\n",
    "    matHess = Hess(x0)\n",
    "    if npl.det(matHess) == 0:\n",
    "        print(\n",
    "            \"La matrice Hessiana calcolata nell'iterato precedente non è a rango massimo\"\n",
    "        )\n",
    "        return None, None, None\n",
    "    grad_fx0 = gradiente(x0)\n",
    "    s = -spl.solve(matHess, grad_fx0)\n",
    "    # Aggiornamento della soluzione\n",
    "    it = 1\n",
    "    x1 = x0 + s\n",
    "    grad_fx1 = gradiente(x1)\n",
    "    Xm = [np.linalg.norm(s, 1)]\n",
    "\n",
    "    while (\n",
    "        it <= itmax\n",
    "        and npl.norm(s, 1) >= tolx * npl.norm(x1, 1)\n",
    "        and npl.norm(grad_fx1, 1) >= tolf\n",
    "    ):\n",
    "        x0 = x1\n",
    "        it += 1\n",
    "        matHess = Hess(x0)\n",
    "        grad_fx0 = grad_fx1\n",
    "\n",
    "        if npl.det(matHess) == 0:\n",
    "            print(\n",
    "                \"La matrice Hessiana calcolata nell'iterato precedente non è a rango massimo\"\n",
    "            )\n",
    "            return None, None, None\n",
    "\n",
    "        s = -spl.solve(matHess, grad_fx0)\n",
    "\n",
    "        # Aggiornamento della soluzione\n",
    "        x1 = x0 + s\n",
    "\n",
    "        # Calcolo del gradiente nel nuovo iterato\n",
    "        grad_fx1 = gradiente(x1)\n",
    "        print(np.linalg.norm(s, 1))\n",
    "        Xm.append(np.linalg.norm(s, 1))\n",
    "\n",
    "    return x1, it, Xm"
   ]
  },
  {
   "cell_type": "code",
   "execution_count": 76,
   "id": "f7c5fcc5",
   "metadata": {},
   "outputs": [],
   "source": [
    "tolx = 1e-8\n",
    "tolf = 1e-8\n",
    "nmax = 1000\n",
    "\n",
    "x0 = sym.symbols(\"x0\")\n",
    "x1 = sym.symbols(\"x1\")\n",
    "\n",
    "f1 = x0 * x1 + x0\n",
    "f1sym = sym.lambdify((x0, x1), f1, np)\n",
    "df1dx0 = sym.diff(f1, x0, 1)\n",
    "df1dx1 = sym.diff(f1, x1, 1)\n",
    "d2f1dx0 = sym.diff(df1dx0, x0, 1)\n",
    "\n",
    "d2f1dx0 = sym.diff(df1dx0, x0, 1)\n",
    "d2f1dx1 = sym.diff(df1dx0, x1, 1)\n",
    "\n",
    "f2 = x0**2 + x1**2\n",
    "\n",
    "sys = np.array([f1, f2])\n",
    "x = np.array([x0, x1])\n",
    "jac = lambda x: sym.jacobi(x)\n",
    "\n",
    "xx1 = np.arange(-4, 4, 0.1)\n",
    "yy1 = np.arange(-4, 4, 0.1)\n",
    "X1, Y1 = np.meshgrid(xx1, yy1)\n",
    "Z1 = X1 * Y1 + X1\n",
    "\n",
    "xx2 = np.arange(-4, 4, 0.1)\n",
    "yy2 = np.arange(-4, 4, 0.1)\n",
    "X2, Y2 = np.meshgrid(xx1, yy1)\n",
    "Z2 = X2**2 + Y2**2\n",
    "\n",
    "# fig = plt.figure()\n",
    "# ax = fig.add_subplot(111, projection=\"3d\")\n",
    "# ax.plot_surface(X1, Y1, Z1)\n",
    "# plt.show()\n",
    "\n",
    "# fig = plt.figure()\n",
    "# ax = fig.add_subplot(111, projection=\"3d\")\n",
    "# ax.plot_surface(X2, Y2, Z2)\n",
    "# plt.show()"
   ]
  },
  {
   "cell_type": "markdown",
   "id": "b1e3945c-db1a-4b49-b80b-cc12c5330e68",
   "metadata": {},
   "source": [
    "## Domande Intelligenza Artificiale\n",
    "**NB: Ogni risposta esatta:  +0.5 punti, ogni risposta errata: -0.5 punti. La mancanza di risposta:  0 punti**"
   ]
  },
  {
   "cell_type": "markdown",
   "id": "aa9e415e-dc1f-42b0-aa27-cb4a046582c5",
   "metadata": {},
   "source": [
    "Domande a risposta multipla"
   ]
  },
  {
   "cell_type": "markdown",
   "id": "5ff34e78-5769-41bc-9983-e25fc55eb18f",
   "metadata": {},
   "source": [
    "**1.** Quali sono i passaggi fondamentali all’interno del paradigma generale dell’Intelligenza Artificiale?\n",
    "\n",
    "•\tAcquisizione dati, Data Processing, Addestramento del modello, Predizione e metriche\n",
    "\n",
    "•\tData Processing, Addestramento del Modello, Predizione, Analisi economica dei risultati\n",
    "\n",
    "•\tAcquisizione dati, Data Processing, Addestramento del modello, Predizione, Test di Turing\n",
    "\n",
    "•\tAcquisizione dati, Addestramento del Modello, Test di Turing, Predizione\n"
   ]
  },
  {
   "cell_type": "markdown",
   "id": "5474e22e-e367-4289-8a1c-ed104eb111c6",
   "metadata": {},
   "source": [
    "**2.** Per una rete neurale, l’apprendimento è legato a:\n",
    "\n",
    "•\tMinimizzare la funzione obiettivo\n",
    "\n",
    "•\tMinimizzare la funzione di attivazione\n",
    "\n",
    "•\tMassimizzare il valore dei pesi tramite l’algoritmo di back-propagation\n",
    "\n",
    "•\tMassimizzare il valore della funzione di training\n"
   ]
  },
  {
   "cell_type": "markdown",
   "id": "76a59024",
   "metadata": {},
   "source": []
  },
  {
   "cell_type": "markdown",
   "id": "328706ff-0d3c-4b99-97f3-d2eea5158c0c",
   "metadata": {},
   "source": [
    "**3.**  Il Test di Turing serve a:\n",
    "\n",
    "•\tValutare se una macchina dimostra un comportamento intelligente\n",
    "\n",
    "•\tValutare il carico computazionale di un algoritmo di Intelligenza Artificiale\n",
    "\n",
    "•\tValutare la velocità di risposta di un algoritmo di Intelligenza Artificiale\n",
    "\n",
    "•\tValutare se una macchina dimostra un comportamento predicibile\n"
   ]
  },
  {
   "cell_type": "markdown",
   "id": "248323f7-7a5a-478b-b446-71db7d2ff490",
   "metadata": {},
   "source": [
    "**4.**\n",
    "Le ultime e più recenti innovazioni nel campo dell’Intelligenza Artificiale sono:\n",
    "\n",
    "•\tCNN, GAN e Transformers\n",
    "\n",
    "•\tExpert Systems, CNN e GAN\n",
    "\n",
    "•\tExpert Systems, Deep Learning e CNN\n",
    "\n",
    "•\tCNN, Expert Systems e Transformers\n"
   ]
  },
  {
   "cell_type": "markdown",
   "id": "0ab76c03-ab08-49b8-a688-688ca2aa7cbe",
   "metadata": {},
   "source": [
    "**5.** A cosa serve il validation set?\n",
    "\n",
    "•\tA trovare i migliori iperparametri del modello\n",
    "\n",
    "•\tAd addestrare il modello \n",
    "\n",
    "•\tA testare il modello\n",
    "\n",
    "•\tA trovare le etichette dei dati di input\n"
   ]
  },
  {
   "cell_type": "markdown",
   "id": "b18ecaab-5021-450a-90d5-720082587ddb",
   "metadata": {},
   "source": [
    "**Domande aperte**"
   ]
  },
  {
   "cell_type": "markdown",
   "id": "9d9bcf40-f194-4892-ad65-a2055d694430",
   "metadata": {},
   "source": [
    "Quale è il ruolo del learning rate nella formula di aggiornamento dei pesi mediante gradient descent. Aggiornamento del learning rate programmato (learning rate scheduling) : step decay, decadimento esponenziale, decadimento dipendente dal tempo. **[punti 2]**"
   ]
  },
  {
   "cell_type": "markdown",
   "id": "6f184854-745b-413a-b707-026d69441abd",
   "metadata": {},
   "source": [
    "\n",
    "Learning rate adattivo per ogni peso (durante il processo di ottimizzazione) : Adagrad, RMSProp, Adadelta, Adam. (formula di aggiornamento dei pesi e discussioni)\n",
    "**[punti 2.5]**"
   ]
  },
  {
   "cell_type": "markdown",
   "id": "b24fca09-a7e4-4fc2-9dcb-f052a31248e4",
   "metadata": {},
   "source": []
  }
 ],
 "metadata": {
  "kernelspec": {
   "display_name": "mn",
   "language": "python",
   "name": "python3"
  },
  "language_info": {
   "codemirror_mode": {
    "name": "ipython",
    "version": 3
   },
   "file_extension": ".py",
   "mimetype": "text/x-python",
   "name": "python",
   "nbconvert_exporter": "python",
   "pygments_lexer": "ipython3",
   "version": "3.13.2"
  }
 },
 "nbformat": 4,
 "nbformat_minor": 5
}
