{
 "cells": [
  {
   "cell_type": "code",
   "execution_count": 18,
   "id": "2134e716",
   "metadata": {},
   "outputs": [],
   "source": [
    "import numpy as np\n",
    "import numpy.linalg as npl\n",
    "import scipy as sp\n",
    "import sympy as sym\n",
    "import matplotlib.pyplot as plt\n",
    "import math"
   ]
  },
  {
   "cell_type": "markdown",
   "id": "004b0103-bd48-49d2-b8f3-05e5d5502207",
   "metadata": {},
   "source": [
    "## Esercizio 1"
   ]
  },
  {
   "cell_type": "markdown",
   "id": "25a961e6-278c-4723-a1b9-83467e05aceb",
   "metadata": {},
   "source": [
    "Si consideri il polinomio $$L(x)=(1/2) (5x^3-3x)$$ $x \\in [-1,1]$"
   ]
  },
  {
   "cell_type": "code",
   "execution_count": 14,
   "id": "91b2af97",
   "metadata": {},
   "outputs": [],
   "source": [
    "a, b = -1, 1\n",
    "x = sym.symbols(\"x\")\n",
    "f = 0.5 * (5 * (x**3) - 3 * x)\n",
    "df = sym.diff(f, x, 1)\n",
    "fp = sym.lambdify(x, df, np)\n",
    "f = lambda x: 0.5 * (5 * (x**3) - 3 * x)"
   ]
  },
  {
   "cell_type": "markdown",
   "id": "60aa1e63-c68e-4d29-92c5-7a73cdc8e0b2",
   "metadata": {},
   "source": [
    "Si visualizzi il grafico del polinomio in [-1,1]"
   ]
  },
  {
   "cell_type": "markdown",
   "id": "7eec16a7-922b-41ab-8b6b-639681e70fad",
   "metadata": {},
   "source": [
    "- Si implementi il metodo di Newton per la determinazione degli zeri di un'equazione non lineare [**Punti 4**]"
   ]
  },
  {
   "cell_type": "code",
   "execution_count": 9,
   "id": "173959f8",
   "metadata": {},
   "outputs": [],
   "source": [
    "def newton(fname, fpname, x0, tolx, tolf, nmax):\n",
    "    \"\"\"\n",
    "    Implementa il metodo di Newton per il calcolo degli zeri di un'equazione non lineare.\n",
    "\n",
    "    Parametri:\n",
    "            fname: La funzione di cui si vuole calcolare lo zero.\n",
    "            fpname: La derivata prima della funzione di  cui si vuole calcolare lo zero.\n",
    "            x0: iterato iniziale\n",
    "            tolx: La tolleranza di errore tra due iterati successivi\n",
    "            tolf: tolleranza sul valore della funzione\n",
    "            nmax: numero massimo di iterazione\n",
    "\n",
    "    Restituisce:\n",
    "            Lo zero approssimato della funzione, il numero di iterazioni e la lista degli iterati intermedi.\n",
    "    \"\"\"\n",
    "    xk = []\n",
    "    fx0 = fname(x0)\n",
    "    fpx0 = fpname(x0)\n",
    "    if abs(fpx0) <= np.spacing(1):  # to do\n",
    "        print(\" derivata prima nulla in x0\")\n",
    "        return None, None, None\n",
    "\n",
    "    d = fx0 / fpx0\n",
    "    x1 = x0 - d\n",
    "\n",
    "    fx1 = fname(x1)\n",
    "    xk.append(x1)\n",
    "    it = 1\n",
    "\n",
    "    while it <= nmax and abs(fx0) >= tolf and abs(x1) >= tolx:\n",
    "        x0 = x1\n",
    "        fx0 = fname(x0)\n",
    "        fpx0 = fpname(x0)\n",
    "        if abs(fpx0) <= np.spacing(\n",
    "            1\n",
    "        ):  # Se la derivata prima e' pià piccola della precisione di macchina stop\n",
    "            print(\" derivata prima nulla in x0\")\n",
    "            return None, None, None\n",
    "        d = fx0 / fpx0\n",
    "\n",
    "        x1 = x0 - d\n",
    "        fx1 = fname(x1)\n",
    "        it = it + 1\n",
    "\n",
    "        xk.append(x1)\n",
    "\n",
    "    if it == nmax:\n",
    "        print(\"raggiunto massimo numero di iterazioni \\n\")\n",
    "\n",
    "    return x1, it, xk"
   ]
  },
  {
   "cell_type": "markdown",
   "id": "4495e605-8592-466c-9bf0-625ecc4921cc",
   "metadata": {},
   "source": [
    "- Si implementi il metodo di Bisezione per la determinazione degli zeri di un'equazione non lineare [**Punti 4**]"
   ]
  },
  {
   "cell_type": "code",
   "execution_count": 10,
   "id": "54f8c2e5",
   "metadata": {},
   "outputs": [],
   "source": [
    "def sign(x):\n",
    "    return math.copysign(1, x)"
   ]
  },
  {
   "cell_type": "code",
   "execution_count": 30,
   "id": "1ffbec73",
   "metadata": {},
   "outputs": [],
   "source": [
    "def metodo_bisezione(fname, a, b, tolx, tolf):\n",
    "    \"\"\"\n",
    "    Implementa il metodo di bisezione per il calcolo degli zeri di un'equazione non lineare.\n",
    "\n",
    "    Parametri:\n",
    "            f: La funzione da cui si vuole calcolare lo zero.\n",
    "            a: L'estremo sinistro dell'intervallo di ricerca.\n",
    "            b: L'estremo destro dell'intervallo di ricerca.\n",
    "            tol: La tolleranza di errore.\n",
    "\n",
    "    Restituisce:\n",
    "            Lo zero approssimato della funzione, il numero di iterazioni e la lista di valori intermedi.\n",
    "    \"\"\"\n",
    "    fa = fname(a)\n",
    "    fb = fname(b)\n",
    "    if sign(fa) * sign(fb) >= 0:\n",
    "        print(\"Non è possibile applicare il metodo di bisezione \\n\")\n",
    "        return None, None, None\n",
    "\n",
    "    it = 0\n",
    "    v_xk = []\n",
    "\n",
    "    maxit = math.ceil(math.log((b - a) / tolx) / math.log(2)) - 1\n",
    "\n",
    "    while abs(b - a) >= tolx:  # to do\n",
    "        xk = a + (b - a) / 2\n",
    "        v_xk.append(xk)\n",
    "        it += 1\n",
    "        fxk = fname(xk)\n",
    "        if fxk == 0:\n",
    "            return xk, it, v_xk\n",
    "\n",
    "        if sign(fa) * sign(fxk) > 0:\n",
    "            a = xk\n",
    "            fa = fxk\n",
    "        elif sign(fxk) * sign(fb) > 0:\n",
    "            b = xk\n",
    "            fb = fxk\n",
    "\n",
    "    return xk, it, v_xk"
   ]
  },
  {
   "cell_type": "markdown",
   "id": "7a4eb352-abd8-4ae8-90c9-2a82612a4213",
   "metadata": {},
   "source": [
    "- Si utilizzi il metodo di Newton con iterato iniziale $x_0=1$ per determinare lo zero $x^*$ piu' vicino ad 1. [**Punti 2**]"
   ]
  },
  {
   "cell_type": "code",
   "execution_count": 23,
   "id": "019b52bd",
   "metadata": {},
   "outputs": [
    {
     "data": {
      "image/png": "[encoded data removed]",
      "text/plain": [
       "<Figure size 640x480 with 1 Axes>"
      ]
     },
     "metadata": {},
     "output_type": "display_data"
    }
   ],
   "source": [
    "tolx = 1e-12\n",
    "tolf = 1e-12\n",
    "nmax = 1000\n",
    "\n",
    "x0 = 1\n",
    "\n",
    "xzero, it, vxk = newton(f, fp, x0, tolx, tolf, nmax)\n",
    "\n",
    "ax = np.linspace(a, b, 100)\n",
    "y = f(ax)\n",
    "yzero = f(xzero)\n",
    "plt.plot(ax, y, xzero, yzero, \"ro\")\n",
    "plt.show()"
   ]
  },
  {
   "cell_type": "markdown",
   "id": "4d0df9dd-b119-4dfd-94b6-991eb1ec0943",
   "metadata": {},
   "source": [
    "Si consideri la funzione $q(x)=L(x)/(x-x^*)$ dove $x^*$ è lo zero calcolato nel punto precedente. Si applichi il metodo di Newton con iterato iniziale $x_0=-0.5$ per calcolare uno zero della funzione $q(x)$  e si verifichi che è anche zero di $L(x)$  [**Punti 2**]"
   ]
  },
  {
   "cell_type": "code",
   "execution_count": 26,
   "id": "39f3a0f2",
   "metadata": {},
   "outputs": [
    {
     "data": {
      "image/png": "[encoded data removed]",
      "text/plain": [
       "<Figure size 640x480 with 1 Axes>"
      ]
     },
     "metadata": {},
     "output_type": "display_data"
    }
   ],
   "source": [
    "q = f(x) / (x - xzero)\n",
    "dq = sym.diff(q, x, 1)\n",
    "qp = sym.lambdify(x, dq, np)\n",
    "\n",
    "q = lambda x: f(x) / (x - xzero)\n",
    "\n",
    "x0 = -0.5\n",
    "\n",
    "xq, itq, vxq = newton(q, qp, x0, tolx, tolf, nmax)\n",
    "\n",
    "qx = np.linspace(a, b, 100)\n",
    "qy = q(qx)\n",
    "plt.plot(qx, qy, xq, q(xq), 'ro')\n",
    "plt.show()"
   ]
  },
  {
   "cell_type": "markdown",
   "id": "fd4a767b-5051-4a7d-9ab1-2f99864025e8",
   "metadata": {},
   "source": [
    "Si applichi il metodo di bisezione alle funzioni $q(x)$ ed $L(x)$ definite in [-1,1] e si fornisca una spiegazione teorica dei risultati ottenuti  [**Punti 2**]"
   ]
  },
  {
   "cell_type": "code",
   "execution_count": 32,
   "id": "7042c1b6",
   "metadata": {},
   "outputs": [
    {
     "name": "stdout",
     "output_type": "stream",
     "text": [
      "Non è possibile applicare il metodo di bisezione \n",
      "\n"
     ]
    }
   ],
   "source": [
    "xbl, itl, vxl = metodo_bisezione(f, a, b, tolx, tolf)\n",
    "xbq, itq, vxq = metodo_bisezione(q, a, b, tolx, tolf)"
   ]
  },
  {
   "cell_type": "markdown",
   "id": "e92a6695-bf91-41fb-868f-5ffde2bacf7a",
   "metadata": {},
   "source": [
    "                                                                                                                Punti [14]"
   ]
  }
 ],
 "metadata": {
  "kernelspec": {
   "display_name": "mn",
   "language": "python",
   "name": "python3"
  },
  "language_info": {
   "codemirror_mode": {
    "name": "ipython",
    "version": 3
   },
   "file_extension": ".py",
   "mimetype": "text/x-python",
   "name": "python",
   "nbconvert_exporter": "python",
   "pygments_lexer": "ipython3",
   "version": "3.13.2"
  }
 },
 "nbformat": 4,
 "nbformat_minor": 5
}
