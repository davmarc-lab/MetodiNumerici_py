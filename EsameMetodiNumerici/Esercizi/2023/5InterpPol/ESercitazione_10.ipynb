{
 "cells": [
  {
   "cell_type": "markdown",
   "id": "c33c02f5-a85e-4689-bcba-9a00a03dab3c",
   "metadata": {},
   "source": [
    "# Esercitazione 10\n",
    "**7  Maggio 2024**"
   ]
  },
  {
   "cell_type": "code",
   "execution_count": 2,
   "id": "acc3203e",
   "metadata": {},
   "outputs": [],
   "source": [
    "import numpy as np\n",
    "import numpy.linalg as npl\n",
    "import scipy as sp\n",
    "import scipy.linalg as spl\n",
    "import matplotlib.pyplot as plt"
   ]
  },
  {
   "cell_type": "code",
   "execution_count": 4,
   "id": "55238126",
   "metadata": {},
   "outputs": [],
   "source": [
    "def USolve(U, b):\n",
    "    \"\"\"\n",
    "    Risoluzione con procedura backward di Ux=b con U triangolare superiore\n",
    "     Input: U matrice triangolare superiore\n",
    "            b termine noto\n",
    "    Output: x: soluzione del sistema lineare\n",
    "            flag=  0, se sono soddisfatti i test di applicabilità\n",
    "                   1, se non sono soddisfatti\n",
    "    \"\"\"\n",
    "    # Test dimensione\n",
    "    m, n = U.shape\n",
    "    flag = 0\n",
    "    if n != m:\n",
    "        print(\"Errore: Matrice non quadrata\")\n",
    "        flag = 1\n",
    "        x = []\n",
    "        return x, flag\n",
    "\n",
    "    # Test singolarità\n",
    "    if np.all(np.diag(U)) != True:\n",
    "        print(\"el. diag. nullo - matrice triangolare superiore\")\n",
    "        x = []\n",
    "        flag = 1\n",
    "        return x, flag\n",
    "    # Preallocazione vettore soluzione\n",
    "    x = np.zeros((n, 1))\n",
    "\n",
    "    for i in range(n - 1, -1, -1):\n",
    "        s = np.dot(U[i, i + 1 : n], x[i + 1 : n])\n",
    "        x[i] = (b[i] - s) / U[i, i]\n",
    "\n",
    "    return x, flag\n",
    "def LSolve(L, b):\n",
    "    \"\"\"\n",
    "    Risoluzione con procedura forward di Lx=b con L triangolare inferiore\n",
    "     Input: L matrice triangolare inferiore\n",
    "            b termine noto\n",
    "    Output: x: soluzione del sistema lineare\n",
    "            flag=  0, se sono soddisfatti i test di applicabilità\n",
    "                   1, se non sono soddisfatti\n",
    "    \"\"\"\n",
    "    # test dimensione\n",
    "    m, n = L.shape\n",
    "    flag = 0\n",
    "    if n != m:\n",
    "        print(\"Errore: Matrice non quadrata\")\n",
    "        flag = 1\n",
    "        x = []\n",
    "        return x, flag\n",
    "\n",
    "    # Test singolaritò\n",
    "    if np.all(np.diag(L)) != True:\n",
    "        print(\"el. diag. nullo - matrice triangolare inferiore\")\n",
    "        x = []\n",
    "        flag = 1\n",
    "        return x, flag\n",
    "\n",
    "    # Preallocazione vettore soluzione\n",
    "    x = np.zeros((n, 1))\n",
    "\n",
    "    for i in range(n):\n",
    "        s = np.dot(L[i, :i], x[:i])\n",
    "        x[i] = (b[i] - s) / L[i, i]\n",
    "\n",
    "    return x, flag"
   ]
  },
  {
   "cell_type": "markdown",
   "id": "f6b59003-c255-41cb-b711-67609181c39e",
   "metadata": {},
   "source": [
    "### Codice EquazioniNormali\n",
    "Implementare la function  **eqnorm(A,b)** che implementa il metodo delle equazioni normali per la soluzione del sistema sovradeterminato Ax=b e che prende in input:\n",
    "- la matrice A di dimensione $m \\times n$ , $m>n$\n",
    "- il termine noto b di ordine m\n",
    "restituisce in output\n",
    "- la soluzione del sistema lineare "
   ]
  },
  {
   "cell_type": "code",
   "execution_count": 5,
   "id": "90b0ebad",
   "metadata": {},
   "outputs": [],
   "source": [
    "def eqnorm(A, b):\n",
    "    G = A.T@A\n",
    "    f = A.T@b\n",
    "\n",
    "    L = spl.cholesky(G, lower=True)\n",
    "    U = L.T\n",
    "\n",
    "    z, flag = LSolve(L, f)\n",
    "    if flag == 0:  # optional\n",
    "        x, flag = USolve(U, z)\n",
    "    return x"
   ]
  },
  {
   "cell_type": "markdown",
   "id": "cdd19909-e613-455a-a98e-dd5e8175a835",
   "metadata": {},
   "source": [
    "### Codice QRLS\n",
    "Implementare la function  **qrLS(A,b)** che utilizza il metodo QR per la soluzione del sistema sovradeterminato Ax=b e che prende in input:\n",
    "- la matrice A di dimensione $m \\times n$ , $m>n$\n",
    "- il termine noto b di ordine m\n",
    "restituisce in output\n",
    "- la soluzione del sistema lineare e la norma 2 al quadrato del residuo."
   ]
  },
  {
   "cell_type": "code",
   "execution_count": 6,
   "id": "1d8569c8",
   "metadata": {},
   "outputs": [],
   "source": [
    "def QRLS(A, b):\n",
    "    n = A.shape[1]\n",
    "\n",
    "    Q, R = spl.qr(A)\n",
    "    h = Q.T @ b\n",
    "\n",
    "    x, flag = USolve(R[0:n, :], h[0:n])\n",
    "    residuo = np.linalg.norm(h[n:]) ** 2\n",
    "    return x, residuo"
   ]
  },
  {
   "cell_type": "markdown",
   "id": "5efe494f-3f53-4dfb-8601-fcee7f691691",
   "metadata": {},
   "source": [
    "### Codice SVDLS\n",
    "Implementare la function  **svdLS(A,b)** che utilizza  il metodo SVD per la soluzione del sistema sovradeterminato Ax=b e che prende in input:\n",
    "- la matrice A di dimensione $m \\times n$ , $m>n$\n",
    "- il termine noto b di ordine m\n",
    "restituisce in output\n",
    "- la soluzione del sistema lineare e la norma 2 al quadrato del residuo."
   ]
  },
  {
   "cell_type": "code",
   "execution_count": 8,
   "id": "9a084a39",
   "metadata": {},
   "outputs": [],
   "source": [
    "def SVDLS(A, b):\n",
    "    m, n = A.shape\n",
    "    U, s, VT = spl.svd(A)\n",
    "    V = VT.T\n",
    "    thresh = np.spacing(1) * m * s[0]\n",
    "    k = np.count_nonzero(s > thresh)\n",
    "\n",
    "    d = U.T @ b\n",
    "    d1 = d[:k].reshape(k, 1)\n",
    "    s1 = s[:k].reshape(k, 1)\n",
    "\n",
    "    c = d1 / s1\n",
    "    x = V[:, :k] @ c\n",
    "    residuo = np.linalg.norm(d[k:]) ** 2\n",
    "\n",
    "    return x, residuo"
   ]
  },
  {
   "cell_type": "markdown",
   "id": "12228038-aafe-45b0-803b-8ad5d3a2925c",
   "metadata": {},
   "source": [
    "## Esercizio 1\n",
    "- Si utilizzino i tre metodi implementati  per l'approssimazione ai minimi quadrati delle seguenti configurazioni di dati:\n",
    "\n",
    "$$\n",
    "\\begin{array}{l}\n",
    "x_1 = [-3.5, \\, -3, \\, -2, \\, -1.5, \\, -0.5, \\, 0.5, \\, 1.7, \\, 2.5, \\, 3] ;\\\\\n",
    "y_1 = [-3.9, \\, -4.8, \\, -3.3, \\, -2.5, \\, 0.3, \\, 1.8, \\, 4, \\, 6.9, \\, 7.1] ;\\\\\n",
    "x_2 = [-3.14, \\, -2.4, \\, -1.57, \\, -0.7, \\, -0.3, \\, 0, \\, 0.4, \\, 0.7, \\, 1.57] ;\\\\\n",
    "y_2 = [0.02, \\, -1, \\, -0.9, \\, -0.72, \\, -0.2, \\, -0.04, \\, 0.65, \\, 0.67, \\, 1.1] ;\\\\\n",
    "x_3 = [[1.001,\\, 1.004,\\, 1.005,\\,1.0012, \\,1.0013,  \\, 1.0014,  \\, 1.0015, \\, 1.0016] ;\\\\\n",
    "y_3 = [-1.2, \\, -0.95, \\, -0.9, \\, -1.15, \\, -1.1, \\, -1] ;\\\\\n",
    "\\end{array}\n",
    "$$\n",
    "\n",
    "al variare del grado $n$ tra 1 e 4.\n",
    "\n"
   ]
  },
  {
   "cell_type": "code",
   "execution_count": 46,
   "id": "7fea9fdb",
   "metadata": {},
   "outputs": [],
   "source": [
    "x = np.array([-3.5, -3, -2, -1.5, -0.5, 0.5, 1.7, 2.5, 3])\n",
    "y = np.array([-3.9, -4.8, -3.3, -2.5, 0.3, 1.8, 4, 6.9, 7.1])\n",
    "# x2 = np.array([-3.14, -2.4, -1.57, -0.7, -0.3, 0, 0.4, 0.7, 1.57])\n",
    "# y2 = np.array([0.02, -1, -0.9, -0.72, -0.2, -0.04, 0.65, 0.67, 1.1])\n",
    "# x3 = np.array([1.001, 1.004, 1.005, 0.0012, 0.0013, 1.0014, 1.0015, 1.0016])\n",
    "# y3 = np.array([-1.2, -1.0, -0.98, -0.95, -0.9, -1.15, -1.1, -1])"
   ]
  },
  {
   "cell_type": "code",
   "execution_count": 49,
   "id": "29f0970f",
   "metadata": {},
   "outputs": [
    {
     "name": "stdout",
     "output_type": "stream",
     "text": [
      "Residuo EQN:  4.954617839084975\n",
      "Residuo QRLS:  4.954617839084981\n",
      "Residuo SVDLS:  4.954617839084981\n"
     ]
    },
    {
     "data": {
      "image/png": "[encoded data removed]",
      "text/plain": [
       "<Figure size 640x480 with 1 Axes>"
      ]
     },
     "metadata": {},
     "output_type": "display_data"
    }
   ],
   "source": [
    "# grado del polinomio di regressione\n",
    "n = 1\n",
    "m = x.shape[0]\n",
    "n1 = n + 1\n",
    "A = np.vander(x, increasing=True)[:, :n1]\n",
    "\n",
    "xe = eqnorm(A, y)\n",
    "re = npl.norm(A @ xe - y.reshape(m, 1)) ** 2\n",
    "xq, rq = QRLS(A, y)\n",
    "xs, rs = SVDLS(A, y)\n",
    "\n",
    "print(\"Residuo EQN: \", re)\n",
    "print(\"Residuo QRLS: \", rq)\n",
    "print(\"Residuo SVDLS: \", rs)\n",
    "\n",
    "xv = np.linspace(np.min(x), np.max(x), 100)\n",
    "\n",
    "polEQ = np.polyval(np.flip(xe), xv)\n",
    "polQRLS = np.polyval(np.flip(xq), xv)\n",
    "polSVDLS = np.polyval(np.flip(xs), xv)\n",
    "\n",
    "plt.plot(x, y, 'ro', xv, polEQ, xv, polQRLS, xv, polSVDLS)\n",
    "plt.show()"
   ]
  },
  {
   "cell_type": "code",
   "execution_count": 42,
   "id": "b63053d1",
   "metadata": {},
   "outputs": [
    {
     "name": "stdout",
     "output_type": "stream",
     "text": [
      "Residuo EQN:  2.7057055433315575\n",
      "Residuo QRLS:  2.7057055433315607\n",
      "Residuo SVDLS:  2.7057055433315607\n"
     ]
    },
    {
     "data": {
      "image/png": "[encoded data removed]",
      "text/plain": [
       "<Figure size 640x480 with 1 Axes>"
      ]
     },
     "metadata": {},
     "output_type": "display_data"
    }
   ],
   "source": [
    "# grado del polinomio di regressione\n",
    "n = 2\n",
    "m = x.shape[0]\n",
    "n1 = n + 1\n",
    "A = np.vander(x, increasing=True)[:, :n1]\n",
    "\n",
    "xe = eqnorm(A, y)\n",
    "re = npl.norm(A @ xe - y.reshape(m, 1)) ** 2\n",
    "xq, rq = QRLS(A, y)\n",
    "xs, rs = SVDLS(A, y)\n",
    "\n",
    "print(\"Residuo EQN: \", re)\n",
    "print(\"Residuo QRLS: \", rq)\n",
    "print(\"Residuo SVDLS: \", rs)\n",
    "\n",
    "xv = np.linspace(np.min(x), np.max(x), 100)\n",
    "\n",
    "polEQ = np.polyval(np.flip(xe), xv)\n",
    "polQRLS = np.polyval(np.flip(xq), xv)\n",
    "polSVDLS = np.polyval(np.flip(xs), xv)\n",
    "\n",
    "plt.plot(x, y, 'ro', xv, polEQ, xv, polQRLS, xv, polSVDLS)\n",
    "plt.show()"
   ]
  },
  {
   "cell_type": "code",
   "execution_count": 41,
   "id": "3f73ca2d",
   "metadata": {},
   "outputs": [
    {
     "name": "stdout",
     "output_type": "stream",
     "text": [
      "Residuo EQN:  1.8874817726480202\n",
      "Residuo QRLS:  1.8874817726480269\n",
      "Residuo SVDLS:  1.8874817726480269\n"
     ]
    },
    {
     "data": {
      "image/png": "[encoded data removed]",
      "text/plain": [
       "<Figure size 640x480 with 1 Axes>"
      ]
     },
     "metadata": {},
     "output_type": "display_data"
    }
   ],
   "source": [
    "# grado del polinomio di regressione\n",
    "n = 3\n",
    "m = x.shape[0]\n",
    "n1 = n + 1\n",
    "A = np.vander(x, increasing=True)[:, :n1]\n",
    "\n",
    "xe = eqnorm(A, y)\n",
    "re = npl.norm(A @ xe - y.reshape(m, 1)) ** 2\n",
    "xq, rq = QRLS(A, y)\n",
    "xs, rs = SVDLS(A, y)\n",
    "\n",
    "print(\"Residuo EQN: \", re)\n",
    "print(\"Residuo QRLS: \", rq)\n",
    "print(\"Residuo SVDLS: \", rs)\n",
    "\n",
    "xv = np.linspace(np.min(x), np.max(x), 100)\n",
    "\n",
    "polEQ = np.polyval(np.flip(xe), xv)\n",
    "polQRLS = np.polyval(np.flip(xq), xv)\n",
    "polSVDLS = np.polyval(np.flip(xs), xv)\n",
    "\n",
    "plt.plot(x, y, 'ro', xv, polEQ, xv, polQRLS, xv, polSVDLS)\n",
    "plt.show()"
   ]
  },
  {
   "cell_type": "code",
   "execution_count": 45,
   "id": "3afc7ddc",
   "metadata": {},
   "outputs": [
    {
     "name": "stdout",
     "output_type": "stream",
     "text": [
      "Residuo EQN:  1.3679038603216631\n",
      "Residuo QRLS:  1.3679038603216662\n",
      "Residuo SVDLS:  1.3679038603216662\n"
     ]
    },
    {
     "data": {
      "image/png": "[encoded data removed]",
      "text/plain": [
       "<Figure size 640x480 with 1 Axes>"
      ]
     },
     "metadata": {},
     "output_type": "display_data"
    }
   ],
   "source": [
    "# grado del polinomio di regressione\n",
    "n = 4\n",
    "m = x.shape[0]\n",
    "n1 = n + 1\n",
    "A = np.vander(x, increasing=True)[:, :n1]\n",
    "\n",
    "xe = eqnorm(A, y)\n",
    "re = npl.norm(A @ xe - y.reshape(m, 1)) ** 2\n",
    "xq, rq = QRLS(A, y)\n",
    "xs, rs = SVDLS(A, y)\n",
    "\n",
    "print(\"Residuo EQN: \", re)\n",
    "print(\"Residuo QRLS: \", rq)\n",
    "print(\"Residuo SVDLS: \", rs)\n",
    "\n",
    "xv = np.linspace(np.min(x), np.max(x), 100)\n",
    "\n",
    "polEQ = np.polyval(np.flip(xe), xv)\n",
    "polQRLS = np.polyval(np.flip(xq), xv)\n",
    "polSVDLS = np.polyval(np.flip(xs), xv)\n",
    "\n",
    "plt.plot(x, y, 'ro', xv, polEQ, xv, polQRLS, xv, polSVDLS)\n",
    "plt.show()"
   ]
  },
  {
   "cell_type": "markdown",
   "id": "a2b6044f-2076-4979-be19-4584ae4857c6",
   "metadata": {},
   "source": [
    "## Esercizio 2: \n",
    "Per i dati $(x_i, y_i)$ riportati nei seguenti array\n",
    "\n",
    "$$\n",
    "\\begin{array}{l}\n",
    "x = [0.0004, \\, 0.2507, \\, 0.5008, \\, 2.0007, \\, 8.0013]  ;\\\\\n",
    "y = [0.0007, \\, 0.0162, \\, 0.0288, \\, 0.0309, \\, 0.0310] ;\n",
    "\\end{array}\n",
    "$$\n",
    "\n",
    "- costruire la retta di regressione;\n",
    "- costruire la parabola approssimante i dati nel senso dei minimi quadrati;\n",
    "\n",
    "Quale tra le due approssimazioni risulta la migliore? (Confrontare i grafici e la norma euclidea al quadrato del vettore dei residui).\n",
    "\n"
   ]
  },
  {
   "cell_type": "markdown",
   "id": "bea991a1-bdea-4496-98ac-4057a3feed66",
   "metadata": {},
   "source": [
    "## Esercizio 3:\n",
    "Scrivere uno script Python per approssimare la seguente configurazione di punti\n",
    "\n",
    "$$\n",
    "\\begin{array}{l}\n",
    "x = [10 \\, : \\, 0.5/5 \\, : \\, 10.5] ;\\\\\n",
    "y = [11.0320, \\, 11.1263, \\, 11.1339, \\, 11.1339, \\, 11.1993, \\, 11.1844] ;\n",
    "\\end{array}\n",
    "$$\n",
    "\n",
    "mediante un polinomio ai minimi quadrati di grado 4 costruito  con il metodo\n",
    "delle equazioni normali, con il metodo QRLS e con il metodo SVDLS.\n",
    "Perturbare poi il secondo punto nel seguente modo\n",
    "$$x(1) = x(1) + 0.013; \\quad y(1) = y(1) - 0.001;$$\n",
    "e calcolare i polinomi ai minimi quadrati relativi alla\n",
    "configurazione perturbata. Commentare e motivare i risultati ottenuti.\n",
    "\n"
   ]
  },
  {
   "cell_type": "markdown",
   "id": "71f8c07d-c32e-4cdc-bbf1-e043290a3b0a",
   "metadata": {},
   "source": []
  },
  {
   "cell_type": "markdown",
   "id": "449db6e6-0c16-4adb-aa2c-5dba3524ba34",
   "metadata": {},
   "source": [
    "### Codici per l'interpolazione polinomiale nella forma di Lagrange \n",
    "\n",
    "Scrivere la function **interpL** che calcoli\n",
    "il polinomio interpolante in forma di Lagrange  \n",
    "Tale function deve assumere come dati in input:\n",
    " \n",
    " - x vettore dei nodi di interpolazione,\n",
    "- y vettore dei valori della funzione nei nodi di interpolazione,\n",
    "- xx vettore dei punti in cui si vuole valutare il polinomio interpolante.\n",
    " \n",
    "In output deve essere restituito yy vettore contenente i valori assunti dal polinomio interpolante.\n",
    "\n",
    " \n",
    "Funzioni Python  utili:\n",
    " \n",
    "-  numpy.poly() restituisce i coefficienti di un polinomio di zeri assegnati,\n",
    " - numpy.polyval(p, x)  valuta un polinomio in un punto assegnato.\n",
    " "
   ]
  },
  {
   "cell_type": "markdown",
   "id": "f7d15360-78df-45b5-96a7-4e7204dd7370",
   "metadata": {},
   "source": [
    "## Esercizio 1\n",
    "\n",
    "Realizzare uno script che calcoli nella forma di Lagrange i polinomi che\n",
    "interpolano le funzioni test $\\sin(x)$ e $\\cos(x)$ nei punti $x_k = k \\pi/2$, con\n",
    "$k = 0, 1, 2, 3, 4$. Visualizzare graficamente i polinomi ottenuti insieme\n",
    "alle funzioni assegnate."
   ]
  },
  {
   "cell_type": "markdown",
   "id": "f877f517-524c-4f81-9310-3fd5d4833983",
   "metadata": {},
   "source": [
    "## Esercizio 2\n",
    "Realizzare uno script python che interpola le coppie $x_i,y_i$, $i=0,\\cdots,3$\n",
    "dove $x_i,i=0,3$ sono punti equidistanti nell' intervallo [-1,1] e $y_i=f(x_i)$ dove $f(x)=3x^3+2x^2+2x-1$ "
   ]
  },
  {
   "cell_type": "markdown",
   "id": "972b7453-92d5-41a5-bde1-89c38c04ed69",
   "metadata": {},
   "source": [
    "## Esercizio 3\n",
    "\n",
    "La temperatura $T$ in  prossimità  del suolo  subisce una variazione dipendente dalla latitudine $L$ nel seguente modo\n",
    "\n",
    "L=np.array([-55, -45, -35, -25, -15, -5, 5, 15, 25, 35, 45, 55, 65])\n",
    "\n",
    "T=np.array([3.7, 3.7,3.52,3.27, 3.2, 3.15, 3.15, 3.25, 3.47, 3.52, 3.65, 3.67, 3.52])\n",
    "\n",
    "\n",
    " \n",
    "- Si vuole costruire un modello che descriva la legge $T = T(L)$ anche per latitudini non misurate. A tal fine si scriva uno script che fornisca la variazione di temperatura alle latitudini $L = \\pm 42$ utilizzando il polinomio interpolante. Visualizzare in un grafico i dati assegnati, il polinomio interpolante e le stime di $T$ ottenute per $L = \\pm 42$.\n"
   ]
  },
  {
   "cell_type": "markdown",
   "id": "6d77f81a-8fe4-4643-9eeb-8a4569f12cc8",
   "metadata": {},
   "source": [
    "## Esercizio 4 \n",
    "\n",
    "Scrivere uno script che calcoli il polinomio interpolante un insieme di punti $P_i =(x_i, y_i)$ $i = 0, ..., n $ nella forma di Lagrange con $x_i$ scelti dall'utente come:\n",
    "    - punti equidistanti in un intervallo $[a, b]$,\n",
    "    - punti definiti dai nodi di Chebyshev nell'intervallo $[a, b]$, ossia\n",
    "$$\n",
    "x_i = \\frac{(a + b)}{2}+\\frac{(b-a)}{2} \\, \\cos \\left(\n",
    "\\frac{(2i+1)\\pi}{2(n + 1)}\n",
    "\\right), \\quad  i =0, ..., n \n",
    "$$\n",
    " \n",
    "  e $y_i = f(x_i)$ ottenuti dalla valutazione nei punti $x_i$ di una funzione test   $f: \\ [a, b] \\rightarrow {\\mathbb R}$. Testare lo script sulle funzioni\n",
    " \n",
    "  - $f(x) = \\sin(x)-2 \\sin(2x)$,   $ \\quad x \\in [-\\pi,\\pi]$,\n",
    "  -  $f(x) = \\sinh(x)$, $ \\quad  x \\in [-2, 2]$,\n",
    "  - $f(x) = |x|$,  $ \\quad x \\in [-1, 1]$,\n",
    "  - $f(x) = 1/(1+25*x^2)$,  $ \\quad x \\in [-1, 1]$ (funzione di Runge).\n",
    "\n",
    "Calcolare l'errore di interpolazione $r(x) = f(x)-p(x)$,\n",
    "tra la funzione test $f(x)$ e il polinomio di interpolazione $p(x)$.\n",
    "Visualizzare il grafico di $f(x)$ e $p(x)$, ed il grafico di\n",
    "$|r(x)|$. Cosa si osserva? Cosa accade all'aumentare del grado $n$ di $p(x)$?\n",
    "(Si costruisca una tabella che riporti i valori di $\\|r(x)\\|_{\\infty}$ al variare di $n$)."
   ]
  },
  {
   "cell_type": "markdown",
   "id": "d35dfb04-023a-4ccd-803a-caffd3d1e38c",
   "metadata": {},
   "source": [
    "## Esercizio 5\n",
    "\n",
    "Per $n = 5, 10, 15, 20$ fornire un'approssimazione della costante di Lebesgue\n",
    "scegliendo $x_1, x_2, ..., x_{n+1}$ equispaziati in $[-1, 1]$ oppure coincidenti con\n",
    "i nodi di Chebyshev $x_i = \\cos \\left(\\frac{(2i-1)\\pi}{2(n + 1)}  \\right)$, $i =1, ..., n + 1$."
   ]
  },
  {
   "cell_type": "markdown",
   "id": "6c9c9adf-ba6e-4c00-9ee5-d835c83abe01",
   "metadata": {},
   "source": [
    "## Esercizio 6\n",
    "\n",
    "Si interpolino mediante il polinomio $p_{21}(x)$ i 22 punti $(x_i, y_i)$ con $x_i$ equispaziati in $[-1, 1]$ e $y_i = \\sin(2 \\pi x_i)$. Si considerino poi le ordinate $\\tilde{y}_i = y_i + \\varepsilon_i$, dove $\\varepsilon_i$ denota l'$i$-esima componente del vettore $0.0002*np.random.random(22,)$, e si calcoli il corrispondente\n",
    "polinomio interpolante $\\tilde{p}_{21}(x)$. Si visualizzino e si commentino\n",
    "i risultati ottenuti, calcolando anche l'errore relativo sul polinomio interpolante\n",
    "e sui dati.\n"
   ]
  },
  {
   "cell_type": "code",
   "execution_count": null,
   "id": "1dd70f25-a335-4755-9d5f-50d1707ad4bd",
   "metadata": {},
   "outputs": [],
   "source": []
  },
  {
   "cell_type": "code",
   "execution_count": null,
   "id": "2eb5bc62-89b0-4edb-8393-77c84a90fb88",
   "metadata": {},
   "outputs": [],
   "source": []
  },
  {
   "cell_type": "code",
   "execution_count": null,
   "id": "bdb75431-4e50-411f-b8b4-fded6787eb4a",
   "metadata": {},
   "outputs": [],
   "source": []
  }
 ],
 "metadata": {
  "kernelspec": {
   "display_name": "mn",
   "language": "python",
   "name": "python3"
  },
  "language_info": {
   "codemirror_mode": {
    "name": "ipython",
    "version": 3
   },
   "file_extension": ".py",
   "mimetype": "text/x-python",
   "name": "python",
   "nbconvert_exporter": "python",
   "pygments_lexer": "ipython3",
   "version": "3.13.2"
  }
 },
 "nbformat": 4,
 "nbformat_minor": 5
}
