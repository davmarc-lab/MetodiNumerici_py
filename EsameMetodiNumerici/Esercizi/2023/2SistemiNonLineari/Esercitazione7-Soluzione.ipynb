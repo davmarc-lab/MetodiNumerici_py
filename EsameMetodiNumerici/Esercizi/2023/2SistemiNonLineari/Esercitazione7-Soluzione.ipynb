{
 "cells": [
  {
   "cell_type": "markdown",
   "id": "757049bd-7ac3-461a-9570-f96afa66e26e",
   "metadata": {},
   "source": [
    "## Esercitazione 7 -  9 Aprile 2024"
   ]
  },
  {
   "cell_type": "markdown",
   "id": "e1493074-bb27-43f9-beed-f0e5f08ec40e",
   "metadata": {},
   "source": [
    "Scrivere la function `NewtonRaphson_corde.py`, che implementa il metodo di Newton-Raphson con la variante delle corde\n",
    "per il calcolo della soluzione di un sistema di equazioni non lineari. \n",
    "\n",
    "    Tale function\n",
    "deve assumere come dati in input:\n",
    "- fname: nome della funzione vettoriale di cui calcolare lo zero;\n",
    "- JacName: nome della funzione che calcola lo J acobiano della funzione vettoriale;\n",
    "- X0: vettore contenente le componenti dell'iterato iniziale);\n",
    "- tolx tolleranza  per il test d'arresto sull'incremento\n",
    "        ||X_{k+1}-X_k||/||X_{k}||<= tolx\n",
    "- tolf tolleranza per il test del residuo\n",
    "        ||F(Xk+1)|| <= tolf;\n",
    "- NMAX numero massimo di iterazioni.\n",
    "In output devono essere restituiti il vettore contenente l'approssimazione dello zero x, un vettore contenente l'errore relativo tra due iterati successivi, il numero di iterazioni\n",
    "effettuate, nit."
   ]
  },
  {
   "cell_type": "markdown",
   "id": "98da3252-8113-4fce-a30f-cf57f6f343a7",
   "metadata": {},
   "source": [
    "Scrivere la function `NewtonRaphson_sham.py`, che implementa il metodo di Newton-Raphson con la variante di Shamanskii\n",
    "per il calcolo della soluzione di un sistema di equazioni non lineari. \n",
    "\n",
    "    Tale function\n",
    "deve assumere come dati in input:\n",
    "- fname: nome della funzione vettoriale di cui calcolare lo zero;\n",
    "- JacName: nome della funzione che calcola lo J acobiano della funzione vettoriale;\n",
    "- X0: vettore contenente le componenti dell'iterato iniziale);\n",
    "- tolx tolleranza  per il test d'arresto sull'incremento\n",
    "        ||X_{k+1}-X_k||/||X_{k}||<= tolx\n",
    "- tolf tolleranza per il test del residuo\n",
    "        ||F(Xk+1)|| <= tolf;\n",
    "- NMAX numero massimo di iterazioni.\n",
    "In output devono essere restituiti il vettore contenente l'approssimazione dello zero x, un vettore contenente l'errore relativo tra due iterati successivi, il numero di iterazioni\n",
    "effettuate, nit."
   ]
  },
  {
   "cell_type": "markdown",
   "id": "ea891a90-3ee3-48d8-b1bb-26bc216b6883",
   "metadata": {},
   "source": [
    "Risolvere i seguenti tre sistemi non lineari:\n",
    "1) \n",
    "2x0-cos(x1)=0\n",
    "\n",
    "sin(x0)+2x1=0\n",
    "\n",
    "2) \n",
    "x0^2+x1^2-9=0\n",
    "\n",
    "x0^2+x1*2-2=0\n",
    "\n",
    "3) \n",
    "4x0^2+x_1^2^=4\n",
    "\n",
    "x0+x1=sin(x0-x1)\n",
    "\n",
    "utilizzando il metodo di Newton Raphson, la variante delle corde e la variante di Shamanskii.\n",
    "Confrontare per ciascun metodo il grafico dell'errore relativo tra due iterati successivi."
   ]
  },
  {
   "cell_type": "markdown",
   "id": "01088588-4a6a-4efb-a973-cb48d35d4fb7",
   "metadata": {},
   "source": [
    "## NB: I codici per risolvere l'esercizio 1 sono presenti nella soluzione dell'esercitazione 6."
   ]
  },
  {
   "cell_type": "markdown",
   "id": "c8cee077-b1a8-46a3-9911-f53d67f8c95f",
   "metadata": {},
   "source": [
    "## Esercizio 2\n",
    "Implementare il metodo di Newton Raphson per il calcolo del minimo assoluto (relativo) di una funzione non lineare.\n",
    "\n",
    "Calcolare il punto di minimo delle seguenti due funzioni \n",
    "   $$\\frac{1}{2}(0.001(x-1)^2+(x^2-y)^2)$$\n",
    "   $$ (x^2 - y^2)^2 + (x - 1)^2$$\n",
    "   $$sin\\left (\\frac{x^2}{2}-\\frac{y^2}{4}\\right)cos(2x-e^y)$$"
   ]
  },
  {
   "cell_type": "code",
   "execution_count": null,
   "id": "067f243f-d3e9-495b-b72f-03eea557618a",
   "metadata": {},
   "outputs": [],
   "source": []
  },
  {
   "cell_type": "code",
   "execution_count": 2,
   "id": "3c652587-3d49-40d8-8695-d6a47c9fe2af",
   "metadata": {},
   "outputs": [],
   "source": [
    "def my_newton_minimo(gradiente, Hess, x0, tolx, tolf, nmax):\n",
    "\n",
    "  \"\"\"\n",
    "  DA UTILIZZARE NEL CASO IN CUI CALCOLATE DRIVATE PARZIALI PER GRADIENTE ED HESSIANO SENZA UTILIZZO DI SYMPY\n",
    "  \n",
    "  Funzione di newton-raphson per calcolare il minimo di una funzione in più variabili\n",
    "\n",
    "  Parametri\n",
    "  ----------\n",
    "  fun : \n",
    "    Nome della funzione che calcola il gradiente della funzione non lineare.\n",
    "  Hess :  \n",
    "    Nome della funzione che calcola la matrice Hessiana della funzione non lineare.\n",
    "  x0 : array\n",
    "    Vettore contenente l'approssimazione iniziale della soluzione.\n",
    "  tolx : float\n",
    "    Parametro di tolleranza per l'errore assoluto.\n",
    "  tolf : float\n",
    "    Parametro di tolleranza per l'errore relativo.\n",
    "  nmax : int\n",
    "    Numero massimo di iterazioni.\n",
    "\n",
    "  Restituisce\n",
    "  -------\n",
    "  x : array\n",
    "    Vettore soluzione del sistema (o equazione) non lineare.\n",
    "  it : int\n",
    "    Numero di iterazioni fatte per ottenere l'approssimazione desiderata.\n",
    "  Xm : array\n",
    "    Vettore contenente la norma del passo ad ogni iterazione.\n",
    "  \"\"\"\n",
    "\n",
    "  matHess = Hess(x0)\n",
    "  if np.linalg.det(matHess) == 0:\n",
    "    print(\"La matrice Hessiana calcolata nell'iterato precedente non è a rango massimo\")\n",
    "    return None, None, None\n",
    "  grad_fx0= gradiente(x0)    \n",
    "  s = -np.linalg.solve(matHess, gradiente(x0))\n",
    "  # Aggiornamento della soluzione\n",
    "  it = 1\n",
    "  x1 = x0 + s\n",
    "  grad_fx1 = gradiente(x1)\n",
    "  Xm = [np.linalg.norm(s, 1)]\n",
    "  \n",
    "  while it <= nmax and np.linalg.norm(grad_fx1 , 1) >= tolf and np.linalg.norm(s, 1) >= tolx * np.linalg.norm(x1, 1):\n",
    "     \n",
    "    x0 = x1\n",
    "    it += 1\n",
    "    matHess = Hess(x0)\n",
    "    grad_fx0=grad_fx1\n",
    "     \n",
    "    if np.linalg.det(matHess) == 0:\n",
    "       \n",
    "      print(\"La matrice Hessiana calcolata nell'iterato precedente non è a rango massimo\")\n",
    "      return None, None, None\n",
    "      \n",
    "\n",
    "    # Risolvo il sistema lineare avente come matrice dei coefficienti la\n",
    "    # matrice Hessiana e come termine il vettore gradiente calcolato nell'iterato precedente\n",
    "    # in x0\n",
    "    s = -np.linalg.solve(matHess, grad_fx0)\n",
    "     \n",
    "    # Aggiornamento della soluzione\n",
    "    x1 = x0 + s\n",
    "\n",
    "    #Calcolo del gradiente nel nuovo iterato\n",
    "    grad_fx1  = gradiente(x1)\n",
    "    print(np.linalg.norm(s, 1))\n",
    "    Xm.append(np.linalg.norm(s, 1))\n",
    "\n",
    "  return x1, it, Xm"
   ]
  },
  {
   "cell_type": "code",
   "execution_count": 3,
   "id": "8360d64f-0d5b-4c4e-9fb5-0de787704d51",
   "metadata": {
    "tags": []
   },
   "outputs": [],
   "source": [
    "def my_newton_minimo_MOD(gradiente, Hess, x0, tolx, tolf, nmax):\n",
    "\n",
    "  \"\"\"\n",
    "  Funzione di newton-raphson per calcolare il minimo di una funzione in più variabili, modificato nel caso in cui si utilizzando sympy \n",
    "  per calcolare Gradinete ed Hessiano. Rispetto alla precedente versione cambia esclusivamente il modo di valutare il vettore gradiente e la matrice Hessiana in un punto \n",
    "  Parametri\n",
    "   ----------\n",
    "  fun : \n",
    "    Nome della funzione che calcola il gradiente della funzione non lineare.\n",
    "  Hess :  \n",
    "    Nome della funzione che calcola la matrice Hessiana della funzione non lineare.\n",
    "  x0 : array\n",
    "    Vettore contenente l'approssimazione iniziale della soluzione.\n",
    "  tolx : float\n",
    "    Parametro di tolleranza per l'errore assoluto.\n",
    "  tolf : float\n",
    "    Parametro di tolleranza per l'errore relativo.\n",
    "  nmax : int\n",
    "    Numero massimo di iterazioni.\n",
    "\n",
    "  Restituisce\n",
    "  -------\n",
    "  x : array\n",
    "    Vettore soluzione del sistema (o equazione) non lineare.\n",
    "  it : int\n",
    "    Numero di iterazioni fatte per ottenere l'approssimazione desiderata.\n",
    "  Xm : array\n",
    "    Vettore contenente la norma del passo ad ogni iterazione.\n",
    "  \"\"\"\n",
    "\n",
    "    \n",
    "  matHess = np.array([[Hess[0, 0](x0[0], x0[1]), Hess[0, 1](x0[0], x0[1])],\n",
    "                      [Hess[1, 0](x0[0], x0[1]), Hess[1, 1](x0[0], x0[1])]])\n",
    " \n",
    "\n",
    "  gradiente_x0=np.array([gradiente[0](x0[0], x0[1]),gradiente[1](x0[0], x0[1])])\n",
    "   \n",
    "  if np.linalg.det(matHess) == 0:\n",
    "    print(\"La matrice Hessiana calcolata nell'iterato precedente non è a rango massimo\")\n",
    "    return None, None, None\n",
    "      \n",
    "  s = -np.linalg.solve(matHess, gradiente_x0)\n",
    "  print(s)\n",
    "  # Aggiornamento della soluzione\n",
    "  it = 1\n",
    "  x1 = x0 + s\n",
    "  grad_fx1=np.array([gradiente[0](x1[0],x1[1]),gradiente[1](x1[0],x1[1])])\n",
    "  Xm = [np.linalg.norm(s, 1)]\n",
    "  \n",
    "  while it <= nmax and np.linalg.norm(grad_fx1, 1) >= tolf and np.linalg.norm(s, 1) >= tolx * np.linalg.norm(x1, 1):\n",
    "     \n",
    "    x0 = x1\n",
    "    it += 1\n",
    "    matHess = np.array([[Hess[0, 0](x0[0], x0[1]), Hess[0, 1](x0[0], x0[1])],\n",
    "                      [Hess[1, 0](x0[0], x0[1]), Hess[1, 1](x0[0], x0[1])]])\n",
    "    grad_fx0=grad_fx1\n",
    "      \n",
    "    if np.linalg.det(matHess) == 0:\n",
    "       \n",
    "      print(\"La matrice Hessiana calcolata nell'iterato precedente non è a rango massimo\")\n",
    "      return None, None, None\n",
    "      \n",
    "\n",
    "    # Risolvo il sistema lineare avente come matrice dei coefficienti la\n",
    "    # matrice Hessiana e come termine il vettore gradiente calcolato nell'iterato precedente\n",
    "    # in x0\n",
    "                #NB: in fx1 è memorizzato il gradiente nell'iterato attuale\n",
    "    s = -np.linalg.solve(matHess, grad_fx0)\n",
    "     \n",
    "    # Aggiornamento della soluzione\n",
    "    x1 = x0 + s\n",
    "    #Aggiorno il gradiente per la prossima iterazione \n",
    "    grad_fx1=np.array([gradiente[0](x1[0],x1[1]),gradiente[1](x1[0],x1[1])])\n",
    "    print(np.linalg.norm(s, 1))\n",
    "    Xm.append(np.linalg.norm(s, 1))\n",
    "\n",
    "  return x1, it, Xm"
   ]
  },
  {
   "cell_type": "code",
   "execution_count": null,
   "id": "5509cc66-ad69-4ce4-81be-3cd48a44940a",
   "metadata": {},
   "outputs": [],
   "source": [
    "import numpy as np\n",
    "import matplotlib.pyplot as plt\n",
    "\n",
    "from mpl_toolkits.mplot3d import Axes3D\n",
    "#Il comando successivo permette di interagire con i grafici 3D, ruotare la vista\n",
    "%matplotlib widget \n",
    "\n",
    "f= lambda x: 0.5*(0.001*(x[0]-1)**2+(x[0]**2-x[1])**2)\n",
    "gradiente=  lambda x: np.array([2*x[0]**3-2*x[0]*x[1]+0.001*x[0]-0.001,-x[0]**2+x[1]])\n",
    "Hess= lambda x: np.array([[6*x[0]**2-2*x[1]+0.001, -2*x[0]],[-2*x[0],1]])\n",
    "\n",
    "x = np.arange(-10.0, 10.0, 0.1)\n",
    "y = np.arange(-10.0, 10.0, 0.1)\n",
    "X, Y = np.meshgrid(x, y)\n",
    "Z=0.5*(0.001*(X-1)**2+(X**2-Y)**2)\n",
    "\n",
    "x0=np.array([-10,5])\n",
    "tolx=1e-10\n",
    "tolf=1.e-10\n",
    "nmax=100\n",
    "xN,contN,XmN= my_newton_minimo(gradiente, Hess, x0, tolx, tolf, nmax)\n",
    "print(\"Minimo in \",xN, \"numero di iterazioni \",contN)\n",
    "\n",
    "\n",
    "fig = plt.figure()\n",
    "ax = fig.add_subplot(111, projection='3d')\n",
    "ax.plot_surface(X, Y, Z, cmap=plt.cm.viridis)\n",
    "plt.plot(0.0,0.0,f(np.array(xN)),'ro')  #Un pallino nel punto di minimo\n",
    "# Mostra il grafico\n",
    "plt.show()\n",
    "\n",
    "\n"
   ]
  },
  {
   "cell_type": "code",
   "execution_count": null,
   "id": "6f3c0726-2ac4-49f4-9bf6-f6c005550528",
   "metadata": {},
   "outputs": [],
   "source": [
    "f= lambda x:(x[0]**2-x[1]**2)**2+(x[0]-1)**2\n",
    "gradiente=  lambda x: np.array([4*x[0]*(x[0]**2 - x[1]**2) + 2*x[0] - 2,-4*x[1]*(x[0]**2 - x[1]**2)])\n",
    "Hess= lambda x: np.array([[12*x[0]**2 - 4*x[1]**2 + 2,-8*x[0]*x[1]],[-8*x[0]*x[1],-4*x[0]**2 + 12*x[1]**2]])\n",
    "\n",
    "x = np.arange(-10.0, 10.0, 0.1)\n",
    "y = np.arange(-10.0, 10.0, 0.1)\n",
    "X, Y = np.meshgrid(x, y)\n",
    "Z= (X**2-Y**2)**2+(X-1)**2\n",
    "\n",
    "x0=np.array([-10.0,5.0])\n",
    "tolx=1e-10\n",
    "tolf=1.e-10\n",
    "nmax=100\n",
    "xN,contN,XmN= my_newton_minimo(gradiente, Hess, x0, tolx, tolf, nmax)\n",
    "print(\"Minimo in \",xN, \"numero di iterazioni \",contN)\n",
    "\n",
    "\n",
    "fig = plt.figure()\n",
    "ax = fig.add_subplot(111, projection='3d')\n",
    "ax.plot_surface(X, Y, Z, cmap=plt.cm.viridis)\n",
    "plt.plot(0.0,0.0,f(np.array(xN)),'ro')  #Un pallino nel punto di minimo\n",
    "# Mostra il grafico\n",
    "plt.show()"
   ]
  },
  {
   "cell_type": "markdown",
   "id": "04e5fbb3-ce18-4d76-ba05-03eb518915d7",
   "metadata": {},
   "source": [
    "Per la terza funzione test $$sin\\left (\\frac{x^2}{2}-\\frac{y^2}{4}\\right)cos(2x-e^y),$$ calcolo gradiente e derivate parziali usando le funzioni sumboliche di sympy.\n",
    "\n",
    "Si tratta di una funzione non convessa, l'iterato iniziale di permettera di raggiungere uno dei minimi locali"
   ]
  },
  {
   "cell_type": "code",
   "execution_count": 6,
   "id": "a7c97ed8-5a96-4030-b8ce-1585a508ea15",
   "metadata": {},
   "outputs": [],
   "source": [
    "import sympy as sym\n",
    "from sympy.utilities.lambdify import lambdify\n",
    "x=sym.symbols('x[0]')\n",
    "y=sym.symbols('x[1]')\n",
    "f=sym.sin(x**2/4-y**2/4)*sym.cos(2*x-y)\n",
    "f_num=lambdify((x,y),f,np)"
   ]
  },
  {
   "cell_type": "code",
   "execution_count": 7,
   "id": "01d43f3c-d7ce-4521-b2ef-f356035ed6d3",
   "metadata": {},
   "outputs": [
    {
     "name": "stdout",
     "output_type": "stream",
     "text": [
      "dfdx x[0]*cos(2*x[0] - x[1])*cos(x[0]**2/4 - x[1]**2/4)/2 - 2*sin(2*x[0] - x[1])*sin(x[0]**2/4 - x[1]**2/4)\n",
      "dfdy -x[1]*cos(2*x[0] - x[1])*cos(x[0]**2/4 - x[1]**2/4)/2 + sin(2*x[0] - x[1])*sin(x[0]**2/4 - x[1]**2/4)\n",
      "d2fdx2 -x[0]**2*sin(x[0]**2/4 - x[1]**2/4)*cos(2*x[0] - x[1])/4 - 2*x[0]*sin(2*x[0] - x[1])*cos(x[0]**2/4 - x[1]**2/4) - 4*sin(x[0]**2/4 - x[1]**2/4)*cos(2*x[0] - x[1]) + cos(2*x[0] - x[1])*cos(x[0]**2/4 - x[1]**2/4)/2\n",
      "d2fdx2 x[0]*x[1]*sin(x[0]**2/4 - x[1]**2/4)*cos(2*x[0] - x[1])/4 + x[0]*sin(2*x[0] - x[1])*cos(x[0]**2/4 - x[1]**2/4)/2 + x[1]*sin(2*x[0] - x[1])*cos(x[0]**2/4 - x[1]**2/4) + 2*sin(x[0]**2/4 - x[1]**2/4)*cos(2*x[0] - x[1])\n",
      "d2fdy2 -x[1]**2*sin(x[0]**2/4 - x[1]**2/4)*cos(2*x[0] - x[1])/4 - x[1]*sin(2*x[0] - x[1])*cos(x[0]**2/4 - x[1]**2/4) - sin(x[0]**2/4 - x[1]**2/4)*cos(2*x[0] - x[1]) - cos(2*x[0] - x[1])*cos(x[0]**2/4 - x[1]**2/4)/2\n",
      "[ 0.46348228 -0.46348228]\n",
      "0.2817329916388507\n",
      "0.02431579569467082\n",
      "6.977550447607225e-05\n",
      "6.639142671526859e-10\n",
      "Minimo in  [-3.66519143  3.66519143] numero di iterazioni  5\n"
     ]
    }
   ],
   "source": [
    "dfdx=sym.diff(f,x,1)\n",
    "print('dfdx',dfdx)\n",
    "dfdy=sym.diff(f,y,1)\n",
    "print('dfdy',dfdy)\n",
    "d2fdx2=sym.diff(dfdx,x,1)\n",
    "print('d2fdx2',d2fdx2)\n",
    "d2fdxdy=sym.diff(dfdx,y,1)\n",
    "print('d2fdx2',d2fdxdy)\n",
    "d2fdy2=sym.diff(dfdy,y,1)\n",
    "print('d2fdy2',d2fdy2)\n",
    "gradiente= np.array([lambdify((x,y),dfdx,np),lambdify((x,y),dfdy,np)])\n",
    "Hess = np.array([[lambdify((x,y),d2fdx2,np),lambdify((x,y),d2fdxdy,np)],[lambdify((x,y),d2fdxdy,np),lambdify((x,y),d2fdy2,np)]])\n",
    "x0=np.array([-4.0,4.0])\n",
    "tolx=1e-10\n",
    "tolf=1.e-10\n",
    "nmax=100\n",
    "xN,contN,XmN= my_newton_minimo_MOD(gradiente, Hess, x0, tolx, tolf, nmax)\n",
    "print(\"Minimo in \",xN, \"numero di iterazioni \",contN)"
   ]
  },
  {
   "cell_type": "code",
   "execution_count": null,
   "id": "e3e5eb99-1860-409d-8a29-153f4514e2c0",
   "metadata": {
    "tags": []
   },
   "outputs": [],
   "source": [
    "xv = np.arange(-10.0, 10.0, 0.1)\n",
    "yv = np.arange(-10.0, 10.0, 0.1)\n",
    "X, Y = np.meshgrid(xv, yv)\n",
    "#Z= (X**2-Y**2)**2+(X-1)**2\n",
    "Z= np.sin(X**2/4-Y**2/4)*np.cos(2*X-Y)\n",
    "fig = plt.figure()\n",
    "ax = fig.add_subplot(111, projection='3d')\n",
    "ax.plot_surface(X, Y, Z, cmap=plt.cm.viridis)\n",
    "plt.plot(0.0,0.0,f_num(xN[0],xN[1]),'ro')  #Un pallino nel punto di minimo\n",
    "# Mostra il grafico\n",
    "plt.show()"
   ]
  },
  {
   "cell_type": "markdown",
   "id": "9268b508-7e6e-43ea-8171-6048dcfc9500",
   "metadata": {},
   "source": [
    "## Esercizio 3\n",
    "Scrivere una funzione numpy che calcola la norma infinito e la norma 1 di un vettore ed una matrice  e testarla su vettori e matrici  a propria scelta. Confrontarne i risultati con quelli ottenuti utilizzando la funzione norm di numpy.linalg\n",
    "\n",
    "(Ricorda la formula della norma infinito e della norma 1 di una matrice\n",
    "$||A||_\\infty= \\max_{j=1,n} \\sum_{i} |a_{ij}| $\n",
    "$\\quad ||A||_1= \\max_{i=1,n} \\sum_{j} |a_{ij}| $)"
   ]
  },
  {
   "cell_type": "code",
   "execution_count": 9,
   "id": "766efbcc-5937-4649-a0f2-f88190f8f839",
   "metadata": {},
   "outputs": [],
   "source": [
    "#Calcolo della norma 1\n",
    "def mynorma1(B):\n",
    "    c=np.sum(np.abs(B),axis=0)  #equivale a sommare gli elementi di tutte le righe \n",
    "    #(che equivale a fare la somma degli elementi di ogni colonna)\n",
    "    n1=np.max(c)\n",
    "    return n1"
   ]
  },
  {
   "cell_type": "code",
   "execution_count": 10,
   "id": "fe06a19c-3637-422f-b321-1fddb8208235",
   "metadata": {},
   "outputs": [],
   "source": [
    "#Calcolo della norma infinito\n",
    "def mynormainf(B):\n",
    "    c=np.sum(np.abs(B),axis=1)  #equivale a sommare gli elementi di tutte le colonne\n",
    "    #(che equivale a fare la somma degli elementi di ogni riga)\n",
    "    ninf=np.max(c)\n",
    "    return ninf "
   ]
  },
  {
   "cell_type": "code",
   "execution_count": 11,
   "id": "544e6fe1-9e19-49cd-8ba1-dfce509102fe",
   "metadata": {},
   "outputs": [
    {
     "name": "stdout",
     "output_type": "stream",
     "text": [
      "mynorma1= 14.0\n",
      "norma 1 con numpy.linalg.norm  14.0\n",
      "mynormainf= 5.0\n",
      "norma inf con numpy.linalg.norm  5.0\n"
     ]
    }
   ],
   "source": [
    "B=np.array([[2.0],[3],[4],[5]])\n",
    "norma1=mynorma1(B)\n",
    "normainf=mynormainf(B)\n",
    "print(\"mynorma1=\", norma1)\n",
    "print(\"norma 1 con numpy.linalg.norm \", np.linalg.norm(B,1))#Calcolo della norma 1\n",
    "print(\"mynormainf=\", normainf)\n",
    "print(\"norma inf con numpy.linalg.norm \", np.linalg.norm(B,np.inf))"
   ]
  },
  {
   "cell_type": "code",
   "execution_count": 12,
   "id": "0922ceb8-f248-4d80-8c94-fecd05bc3cc6",
   "metadata": {},
   "outputs": [
    {
     "name": "stdout",
     "output_type": "stream",
     "text": [
      "norma 1  12\n"
     ]
    }
   ],
   "source": [
    "x=np.array([[2],[-3],[7]])\n",
    "print(\"norma 1 \",mynorma1(x))"
   ]
  },
  {
   "cell_type": "markdown",
   "id": "2114e405-7039-470b-8d4b-19332b2f0f2b",
   "metadata": {},
   "source": [
    "## Esercizio 4\n",
    "Implementare una funzione che calcola la norma 2 di una  matrice facendo uso della funzione eigvals del pacchetto numpy.linalg, (np.linalg.eigvals(A)). Testarla sulla matrice A=np.array([[4,-1,6],[2,3,-3],[1,-2,9/2]])   e confrontarne i risultati con quelli ottenuti utilizzando la funzione norm di numpy.linalg"
   ]
  },
  {
   "cell_type": "code",
   "execution_count": null,
   "id": "a21c8b0f-b449-4797-8b6f-0239422428c7",
   "metadata": {},
   "outputs": [],
   "source": []
  },
  {
   "cell_type": "code",
   "execution_count": 13,
   "id": "db145a6d-5653-4d18-a1ec-6ce1250de29e",
   "metadata": {},
   "outputs": [
    {
     "name": "stdout",
     "output_type": "stream",
     "text": [
      "9.056251013341884\n"
     ]
    }
   ],
   "source": [
    " A=np.array([[4,-1,6],[2,3,-3],[1,-2,9/2]]) \n",
    "ATA=A.T@A\n",
    "n2=np.sqrt(np.max(np.abs(np.linalg.eigvals(ATA))))\n",
    "print(n2)"
   ]
  },
  {
   "cell_type": "code",
   "execution_count": 14,
   "id": "31a8bdff-8e23-4c0a-a156-5b3f6008373d",
   "metadata": {},
   "outputs": [],
   "source": [
    "def mynorma2(A):\n",
    "    M=np.dot(A.T,A)\n",
    "    autovalori=np.linalg.eigvals(M)\n",
    "    print(autovalori)\n",
    "    n2=np.sqrt(np.max(np.abs(autovalori)))\n",
    "    return n2"
   ]
  },
  {
   "cell_type": "code",
   "execution_count": 15,
   "id": "cfcb28a8-60ee-4dc6-9b78-4c9d739ea98c",
   "metadata": {},
   "outputs": [
    {
     "name": "stdout",
     "output_type": "stream",
     "text": [
      "[ 8.20156824e+01  1.82343176e+01 -5.78228379e-16]\n",
      "0.0\n",
      "mynorma 2 9.056251013341884\n",
      "norma 2 con numpy.linalg.norm  9.056251013341878\n"
     ]
    }
   ],
   "source": [
    "A=np.array([[4,-1,6],[2,3,-3],[1,-2,9/2]])\n",
    "norma2=mynorma2(A)\n",
    "print(np.linalg.det(A))\n",
    "print(\"mynorma 2\",norma2)\n",
    "print(\"norma 2 con numpy.linalg.norm \", np.linalg.norm(A,2))"
   ]
  },
  {
   "cell_type": "code",
   "execution_count": null,
   "id": "2576fdf6-654d-4695-92c5-32de704551b6",
   "metadata": {},
   "outputs": [],
   "source": []
  },
  {
   "cell_type": "code",
   "execution_count": null,
   "id": "95f8b959-767e-4a18-9c40-61913cd491a1",
   "metadata": {},
   "outputs": [],
   "source": []
  },
  {
   "cell_type": "code",
   "execution_count": null,
   "id": "4076ef7c-97e0-4b58-9901-249cfeb85e51",
   "metadata": {},
   "outputs": [],
   "source": []
  }
 ],
 "metadata": {
  "kernelspec": {
   "display_name": "mn",
   "language": "python",
   "name": "python3"
  },
  "language_info": {
   "codemirror_mode": {
    "name": "ipython",
    "version": 3
   },
   "file_extension": ".py",
   "mimetype": "text/x-python",
   "name": "python",
   "nbconvert_exporter": "python",
   "pygments_lexer": "ipython3",
   "version": "3.13.2"
  }
 },
 "nbformat": 4,
 "nbformat_minor": 5
}
